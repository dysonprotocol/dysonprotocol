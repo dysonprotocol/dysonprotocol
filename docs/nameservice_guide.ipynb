{
 "cells": [
  {
   "cell_type": "markdown",
   "metadata": {},
   "source": [
    "# Dyson Protocol Nameservice Guide\n",
    "\n",
    "The Nameservice module represents a cornerstone of the Dyson Protocol ecosystem, providing a sophisticated decentralized identity and asset management system. This comprehensive guide walks you through the elegant architecture of name registration, NFT integration, and token creation—demonstrating how these components harmoniously interact to enable a new paradigm of digital ownership. By following these carefully crafted examples, you'll gain hands-on experience with the full spectrum of Nameservice capabilities, from secure two-phase name registration to advanced NFT collection management and custom asset creation."
   ]
  },
  {
   "cell_type": "markdown",
   "metadata": {},
   "source": [
    "## Fetch Your Address\n",
    "\n",
    "First, we'll retrieve the addresses associated with the 'alice' and 'bob' accounts. These addresses will serve as our identities throughout this guide."
   ]
  },
  {
   "cell_type": "code",
   "execution_count": 1,
   "metadata": {
    "execution": {
     "iopub.execute_input": "2025-06-06T10:46:12.207083Z",
     "iopub.status.busy": "2025-06-06T10:46:12.206940Z",
     "iopub.status.idle": "2025-06-06T10:46:12.390446Z",
     "shell.execute_reply": "2025-06-06T10:46:12.390173Z"
    }
   },
   "outputs": [
    {
     "name": "stdout",
     "output_type": "stream",
     "text": [
      "Alice address: dys1tvhkv3gqr90jpycaky02xa5ukhaxllu38wawhz\n",
      "Bob address: dys1fhhxp9xveswc4yhxekr32eqe80rkwpurya0jh0\n"
     ]
    }
   ],
   "source": [
    "[alice_address] = ! dysond keys show alice -a\n",
    "[bob_address] = ! dysond keys show bob -a\n",
    "print(f\"Alice address: {alice_address}\")\n",
    "print(f\"Bob address: {bob_address}\")"
   ]
  },
  {
   "cell_type": "markdown",
   "metadata": {},
   "source": [
    "## Check Nameservice Parameters\n",
    "\n",
    "Let's examine the current parameters of the nameservice module to understand the rules for bidding, valuations, and accepted denominations."
   ]
  },
  {
   "cell_type": "code",
   "execution_count": 2,
   "metadata": {
    "execution": {
     "iopub.execute_input": "2025-06-06T10:46:12.408277Z",
     "iopub.status.busy": "2025-06-06T10:46:12.408149Z",
     "iopub.status.idle": "2025-06-06T10:46:12.594067Z",
     "shell.execute_reply": "2025-06-06T10:46:12.593718Z"
    }
   },
   "outputs": [
    {
     "name": "stdout",
     "output_type": "stream",
     "text": [
      "{\r\n",
      "  \"params\": {\r\n",
      "    \"bid_timeout\": \"2s\",\r\n",
      "    \"allowed_denoms\": [\r\n",
      "      \"dys\"\r\n",
      "    ],\r\n",
      "    \"reject_bid_valuation_fee_percent\": \"0.03\",\r\n",
      "    \"minimum_bid_percent_increase\": \"0.01\"\r\n",
      "  }\r\n",
      "}\r\n"
     ]
    }
   ],
   "source": [
    "! dysond query nameservice params -o json | jq -M"
   ]
  },
  {
   "cell_type": "markdown",
   "metadata": {},
   "source": [
    "## Name Registration Process\n",
    "\n",
    "Registering a name in Dyson Protocol uses a two-step commit-reveal process to prevent front-running. Let's register a name following this process."
   ]
  },
  {
   "cell_type": "markdown",
   "metadata": {},
   "source": [
    "### Generate Salt and Name\n",
    "\n",
    "First, let's prepare a name and generate a random salt value for the commitment."
   ]
  },
  {
   "cell_type": "code",
   "execution_count": 3,
   "metadata": {
    "execution": {
     "iopub.execute_input": "2025-06-06T10:46:12.595751Z",
     "iopub.status.busy": "2025-06-06T10:46:12.595642Z",
     "iopub.status.idle": "2025-06-06T10:46:12.598210Z",
     "shell.execute_reply": "2025-06-06T10:46:12.597853Z"
    }
   },
   "outputs": [
    {
     "name": "stdout",
     "output_type": "stream",
     "text": [
      "Name: alice-px4fp.dys\n",
      "Salt: xamah75hd9wsbsutf5j5\n"
     ]
    }
   ],
   "source": [
    "import random\n",
    "import string\n",
    "import json\n",
    "\n",
    "def random_string(length=10):\n",
    "    return ''.join(random.choices(string.ascii_lowercase + string.digits, k=length))\n",
    "\n",
    "\n",
    "name = f\"alice-{random_string(5)}.dys\"\n",
    "salt = random_string(20)\n",
    "\n",
    "\n",
    "print(f\"Name: {name}\")\n",
    "print(f\"Salt: {salt}\")"
   ]
  },
  {
   "cell_type": "markdown",
   "metadata": {},
   "source": [
    "### Compute Hash for Commitment\n",
    "\n",
    "Now, we'll compute a hash using the name, salt, and committer address. This hash will be used in the commitment phase."
   ]
  },
  {
   "cell_type": "code",
   "execution_count": 4,
   "metadata": {
    "execution": {
     "iopub.execute_input": "2025-06-06T10:46:12.599627Z",
     "iopub.status.busy": "2025-06-06T10:46:12.599507Z",
     "iopub.status.idle": "2025-06-06T10:46:12.680541Z",
     "shell.execute_reply": "2025-06-06T10:46:12.680183Z"
    }
   },
   "outputs": [
    {
     "name": "stdout",
     "output_type": "stream",
     "text": [
      "Hex Hash: 7ff904347206b645808bc57c164436a63099fcf5349ea8ba9493e7848d0b1e09\n"
     ]
    }
   ],
   "source": [
    "[name_commit_hex_hash] = ! dysond query nameservice compute-hash \\\n",
    "    --name \"$name\" \\\n",
    "    --salt \"$salt\" \\\n",
    "    --committer \"$alice_address\"  -o json| jq '.hex_hash' -r\n",
    "print(f\"Hex Hash: {name_commit_hex_hash}\")"
   ]
  },
  {
   "cell_type": "markdown",
   "metadata": {},
   "source": [
    "### Commit Phase\n",
    "\n",
    "In this first phase, we commit to registering the name by submitting the hash and setting an initial valuation."
   ]
  },
  {
   "cell_type": "code",
   "execution_count": 5,
   "metadata": {
    "execution": {
     "iopub.execute_input": "2025-06-06T10:46:12.682039Z",
     "iopub.status.busy": "2025-06-06T10:46:12.681931Z",
     "iopub.status.idle": "2025-06-06T10:46:13.444115Z",
     "shell.execute_reply": "2025-06-06T10:46:13.443847Z"
    }
   },
   "outputs": [
    {
     "name": "stdout",
     "output_type": "stream",
     "text": [
      "Transaction hash: 403B752EFA07A7265A923B6A001701A2D6A4CBE5F19B3D486AED8767EAE7A7D8\n"
     ]
    },
    {
     "name": "stdout",
     "output_type": "stream",
     "text": [
      "['{\"height\":\"371402\",\"txhash\":\"403B752EFA07A7265A923B6A001701A2D6A4CBE5F19B3D486AED8767EAE7A7D8\",\"codespace\":\"\",\"code\":0,\"data\":\"12310A2F2F6479736F6E70726F746F636F6C2E6E616D65736572766963652E76312E4D7367436F6D6D6974526573706F6E7365\",\"raw_log\":\"\",\"logs\":[],\"info\":\"\",\"gas_wanted\":\"200000\",\"gas_used\":\"39847\",\"tx\":null,\"timestamp\":\"\",\"events\":[{\"type\":\"tx\",\"attributes\":[{\"key\":\"acc_seq\",\"value\":\"dys1tvhkv3gqr90jpycaky02xa5ukhaxllu38wawhz/155\",\"index\":true}]},{\"type\":\"tx\",\"attributes\":[{\"key\":\"signature\",\"value\":\"IbhZCbv+0ruJcnzVrXCmPoOI1dg8/J1aFlWeTr461Xkmr2WYZ+u1T9MzZZDn+NTUgtdV91m3RQyq0Hn5HRBkhQ==\",\"index\":true}]},{\"type\":\"message\",\"attributes\":[{\"key\":\"action\",\"value\":\"/dysonprotocol.nameservice.v1.MsgCommit\",\"index\":true},{\"key\":\"sender\",\"value\":\"dys1tvhkv3gqr90jpycaky02xa5ukhaxllu38wawhz\",\"index\":true},{\"key\":\"module\",\"value\":\"nameservice\",\"index\":true},{\"key\":\"msg_index\",\"value\":\"0\",\"index\":true}]},{\"type\":\"dysonprotocol.nameservice.v1.EventCommitmentCreated\",\"attributes\":[{\"key\":\"hexhash\",\"value\":\"\\\\\"7ff904347206b645808bc57c164436a63099fcf5349ea8ba9493e7848d0b1e09\\\\\"\",\"index\":true},{\"key\":\"msg_index\",\"value\":\"0\",\"index\":true}]}]}']\n",
      "Tx error code: 0\n",
      "{\n",
      "  \"type\": \"dysonprotocol.nameservice.v1.EventCommitmentCreated\",\n",
      "  \"attributes\": [\n",
      "    {\n",
      "      \"key\": \"hexhash\",\n",
      "      \"value\": \"\\\"7ff904347206b645808bc57c164436a63099fcf5349ea8ba9493e7848d0b1e09\\\"\",\n",
      "      \"index\": true\n",
      "    },\n",
      "    {\n",
      "      \"key\": \"msg_index\",\n",
      "      \"value\": \"0\",\n",
      "      \"index\": true\n",
      "    }\n",
      "  ]\n",
      "}\n"
     ]
    }
   ],
   "source": [
    "valuation = '100dys'\n",
    "[txhash] = ! dysond tx nameservice commit \\\n",
    "    --commitment \"$name_commit_hex_hash\" \\\n",
    "    --valuation \"$valuation\" \\\n",
    "    --from alice -y -o json | jq -r .txhash ; sleep 0.01\n",
    "# Some delay to ensure the transaction is available\n",
    "\n",
    "print(f\"Transaction hash: {txhash}\")\n",
    "tx_result = ! dysond query wait-tx $txhash -o json\n",
    "print(tx_result)\n",
    "tx_result = json.loads(\"\".join(tx_result))\n",
    "\n",
    "assert tx_result['code'] == 0, f\"Tx failed with code {tx_result['code']}, {tx_result['raw_log']}\"\n",
    "print(f\"Tx error code: {tx_result['code']}\")\n",
    "\n",
    "for event in tx_result['events']:\n",
    "    if 'dysonprotocol' in event['type']:\n",
    "        print(json.dumps(event, indent=2))\n"
   ]
  },
  {
   "cell_type": "markdown",
   "metadata": {},
   "source": [
    "### Reveal Phase\n",
    "\n",
    "In the second phase, we reveal the actual name and salt to complete the registration process."
   ]
  },
  {
   "cell_type": "code",
   "execution_count": 6,
   "metadata": {
    "execution": {
     "iopub.execute_input": "2025-06-06T10:46:13.445524Z",
     "iopub.status.busy": "2025-06-06T10:46:13.445416Z",
     "iopub.status.idle": "2025-06-06T10:46:13.936927Z",
     "shell.execute_reply": "2025-06-06T10:46:13.936642Z"
    }
   },
   "outputs": [
    {
     "name": "stdout",
     "output_type": "stream",
     "text": [
      "Transaction hash: FA20FC7C16C25A0738F37ABF59547BB0BB6C31966904C8AEEEA3F25D142CA37D\n"
     ]
    },
    {
     "name": "stdout",
     "output_type": "stream",
     "text": [
      "Tx error code: 0\n",
      "{\n",
      "  \"type\": \"dysonprotocol.nameservice.v1.EventNameRegistered\",\n",
      "  \"attributes\": [\n",
      "    {\n",
      "      \"key\": \"fee\",\n",
      "      \"value\": \"[{\\\"denom\\\":\\\"dys\\\",\\\"amount\\\":\\\"1\\\"}]\",\n",
      "      \"index\": true\n",
      "    },\n",
      "    {\n",
      "      \"key\": \"name\",\n",
      "      \"value\": \"\\\"alice-px4fp.dys\\\"\",\n",
      "      \"index\": true\n",
      "    },\n",
      "    {\n",
      "      \"key\": \"msg_index\",\n",
      "      \"value\": \"0\",\n",
      "      \"index\": true\n",
      "    }\n",
      "  ]\n",
      "}\n"
     ]
    }
   ],
   "source": [
    "[txhash] = ! dysond tx nameservice reveal \\\n",
    "    --name \"$name\" \\\n",
    "    --salt \"$salt\" \\\n",
    "    --from alice \\\n",
    "    -y -o json | jq -r .txhash ; sleep 0.01\n",
    "\n",
    "print(f\"Transaction hash: {txhash}\")\n",
    "tx_result = ! dysond query wait-tx $txhash -o json\n",
    "tx_result = json.loads(\"\".join(tx_result))\n",
    "\n",
    "print(f\"Tx error code: {tx_result['code']}\")\n",
    "assert tx_result['code'] == 0, f\"Tx failed with code {tx_result['code']}, {tx_result['raw_log']}\"\n",
    "\n",
    "for event in tx_result['events']:\n",
    "    if 'dysonprotocol' in event['type']:\n",
    "        print(json.dumps(event, indent=2))\n"
   ]
  },
  {
   "cell_type": "markdown",
   "metadata": {},
   "source": [
    "### Verify Name Registration\n",
    "\n",
    "Let's verify that the name was properly registered by querying the NFT details. Each registered name becomes an NFT in the 'nameservice.dys' class."
   ]
  },
  {
   "cell_type": "code",
   "execution_count": 7,
   "metadata": {
    "execution": {
     "iopub.execute_input": "2025-06-06T10:46:13.938382Z",
     "iopub.status.busy": "2025-06-06T10:46:13.938267Z",
     "iopub.status.idle": "2025-06-06T10:46:14.115617Z",
     "shell.execute_reply": "2025-06-06T10:46:14.115311Z"
    }
   },
   "outputs": [
    {
     "name": "stdout",
     "output_type": "stream",
     "text": [
      "{\r\n",
      "  \"nft\": {\r\n",
      "    \"class_id\": \"nameservice.dys\",\r\n",
      "    \"id\": \"alice-px4fp.dys\",\r\n",
      "    \"uri\": \"dys1tvhkv3gqr90jpycaky02xa5ukhaxllu38wawhz\",\r\n",
      "    \"data\": {\r\n",
      "      \"type\": \"/dysonprotocol.nameservice.v1.NFTData\",\r\n",
      "      \"value\": {\r\n",
      "        \"listed\": true,\r\n",
      "        \"valuation\": {\r\n",
      "          \"denom\": \"dys\",\r\n",
      "          \"amount\": \"100\"\r\n",
      "        },\r\n",
      "        \"valuation_expiry\": \"2026-06-06T10:46:13.698588Z\",\r\n",
      "        \"current_bid\": {\r\n",
      "          \"amount\": \"0\"\r\n",
      "        }\r\n",
      "      }\r\n",
      "    }\r\n",
      "  }\r\n",
      "}\r\n"
     ]
    }
   ],
   "source": [
    "! dysond query nft nft \"nameservice.dys\" \"$name\" "
   ]
  },
  {
   "cell_type": "markdown",
   "metadata": {},
   "source": [
    "## Name Destination Management\n",
    "\n",
    "Setting a destination for a name allows it to resolve to a specific address, enabling service discovery within the Dyson Protocol ecosystem."
   ]
  },
  {
   "cell_type": "code",
   "execution_count": 8,
   "metadata": {
    "execution": {
     "iopub.execute_input": "2025-06-06T10:46:14.117181Z",
     "iopub.status.busy": "2025-06-06T10:46:14.117076Z",
     "iopub.status.idle": "2025-06-06T10:46:14.295446Z",
     "shell.execute_reply": "2025-06-06T10:46:14.295150Z"
    }
   },
   "outputs": [
    {
     "name": "stdout",
     "output_type": "stream",
     "text": [
      "Transaction hash: AC87672621CB20675AB777FAA30BC425A8BF0B2C65AB8FF3636F4DF2D769E04B\n"
     ]
    },
    {
     "name": "stdout",
     "output_type": "stream",
     "text": [
      "Tx error code: 0\n",
      "{\n",
      "  \"type\": \"dysonprotocol.nameservice.v1.EventNameDestinationSet\",\n",
      "  \"attributes\": [\n",
      "    {\n",
      "      \"key\": \"destination\",\n",
      "      \"value\": \"\\\"dys1tvhkv3gqr90jpycaky02xa5ukhaxllu38wawhz\\\"\",\n",
      "      \"index\": true\n",
      "    },\n",
      "    {\n",
      "      \"key\": \"name\",\n",
      "      \"value\": \"\\\"alice-px4fp.dys\\\"\",\n",
      "      \"index\": true\n",
      "    },\n",
      "    {\n",
      "      \"key\": \"msg_index\",\n",
      "      \"value\": \"0\",\n",
      "      \"index\": true\n",
      "    }\n",
      "  ]\n",
      "}\n"
     ]
    }
   ],
   "source": [
    "[txhash] = ! dysond tx nameservice set-destination \\\n",
    "    --name \"$name\" \\\n",
    "    --destination \"$alice_address\" \\\n",
    "    --from alice \\\n",
    "    -y -o json | jq -r .txhash ; sleep 0.01\n",
    "# Some delay to ensure the transaction is available\n",
    "\n",
    "print(f\"Transaction hash: {txhash}\")\n",
    "tx_result = ! dysond query wait-tx $txhash -o json\n",
    "tx_result = json.loads(\"\".join(tx_result))\n",
    "\n",
    "print(f\"Tx error code: {tx_result['code']}\")\n",
    "assert tx_result['code'] == 0, f\"Tx failed with code {tx_result['code']}, {tx_result['raw_log']}\"\n",
    "\n",
    "for event in tx_result['events']:\n",
    "    if 'dysonprotocol' in event['type']:\n",
    "        print(json.dumps(event, indent=2))\n"
   ]
  },
  {
   "cell_type": "markdown",
   "metadata": {},
   "source": [
    "### Verify Destination Setting\n",
    "\n",
    "Let's confirm that the destination was correctly set by checking the NFT's URI field, which stores the destination address."
   ]
  },
  {
   "cell_type": "code",
   "execution_count": 9,
   "metadata": {
    "execution": {
     "iopub.execute_input": "2025-06-06T10:46:14.296803Z",
     "iopub.status.busy": "2025-06-06T10:46:14.296696Z",
     "iopub.status.idle": "2025-06-06T10:46:14.479847Z",
     "shell.execute_reply": "2025-06-06T10:46:14.479489Z"
    }
   },
   "outputs": [
    {
     "name": "stdout",
     "output_type": "stream",
     "text": [
      "{\r\n",
      "  \"nft\": {\r\n",
      "    \"class_id\": \"nameservice.dys\",\r\n",
      "    \"id\": \"alice-px4fp.dys\",\r\n",
      "    \"uri\": \"dys1tvhkv3gqr90jpycaky02xa5ukhaxllu38wawhz\",\r\n",
      "    \"data\": {\r\n",
      "      \"type\": \"/dysonprotocol.nameservice.v1.NFTData\",\r\n",
      "      \"value\": {\r\n",
      "        \"listed\": true,\r\n",
      "        \"valuation\": {\r\n",
      "          \"denom\": \"dys\",\r\n",
      "          \"amount\": \"100\"\r\n",
      "        },\r\n",
      "        \"valuation_expiry\": \"2026-06-06T10:46:13.698588Z\",\r\n",
      "        \"current_bid\": {\r\n",
      "          \"amount\": \"0\"\r\n",
      "        }\r\n",
      "      }\r\n",
      "    }\r\n",
      "  }\r\n",
      "}\r\n"
     ]
    }
   ],
   "source": [
    "! dysond query nft nft nameservice.dys \"$name\""
   ]
  },
  {
   "cell_type": "markdown",
   "metadata": {},
   "source": [
    "# Update your script to serve the DWapp\n",
    "Use the following command to update the script to serve the DWapp."
   ]
  },
  {
   "cell_type": "code",
   "execution_count": 10,
   "metadata": {
    "execution": {
     "iopub.execute_input": "2025-06-06T10:46:14.481504Z",
     "iopub.status.busy": "2025-06-06T10:46:14.481373Z",
     "iopub.status.idle": "2025-06-06T10:46:14.572192Z",
     "shell.execute_reply": "2025-06-06T10:46:14.571884Z"
    }
   },
   "outputs": [
    {
     "name": "stdout",
     "output_type": "stream",
     "text": [
      "Transaction hash: F301475558052B2D619832A00965CB121D70D6107874C650837E4D8401B71511\n"
     ]
    }
   ],
   "source": [
    "\n",
    "[txhash] = ! dysond tx script update --code-path \"../examples/simple_wsgi_example.py\" \\\n",
    "    --from alice \\\n",
    "    -y -o json | jq -r .txhash\n",
    "\n",
    "print(f\"Transaction hash: {txhash}\")\n"
   ]
  },
  {
   "cell_type": "code",
   "execution_count": 11,
   "metadata": {
    "execution": {
     "iopub.execute_input": "2025-06-06T10:46:14.573529Z",
     "iopub.status.busy": "2025-06-06T10:46:14.573417Z",
     "iopub.status.idle": "2025-06-06T10:46:14.701781Z",
     "shell.execute_reply": "2025-06-06T10:46:14.701460Z"
    }
   },
   "outputs": [
    {
     "name": "stdout",
     "output_type": "stream",
     "text": [
      "Tx error code: 0\n",
      "{\n",
      "  \"type\": \"dysonprotocol.script.v1.EventUpdateScript\",\n",
      "  \"attributes\": [\n",
      "    {\n",
      "      \"key\": \"version\",\n",
      "      \"value\": \"\\\"21\\\"\",\n",
      "      \"index\": true\n",
      "    },\n",
      "    {\n",
      "      \"key\": \"msg_index\",\n",
      "      \"value\": \"0\",\n",
      "      \"index\": true\n",
      "    }\n",
      "  ]\n",
      "}\n"
     ]
    }
   ],
   "source": [
    "tx_result = ! dysond query wait-tx $txhash -o json\n",
    "tx_result = json.loads(\"\".join(tx_result))\n",
    "\n",
    "print(f\"Tx error code: {tx_result['code']}\")\n",
    "assert tx_result['code'] == 0, f\"Tx failed with code {tx_result['code']}, {tx_result['raw_log']}\"\n",
    "\n",
    "for event in tx_result['events']:\n",
    "    if 'dysonprotocol' in event['type']:\n",
    "        print(json.dumps(event, indent=2))\n"
   ]
  },
  {
   "cell_type": "markdown",
   "metadata": {},
   "source": [
    "# Accessing your DWapp\n",
    "\n",
    "Note that the DWapp is a simple WSGI app that can be accessed at the address of the name you registered.\n",
    "\n",
    "For example, if you registered the name \"alice.dys\", you can access the DWapp at \"http://alice.dys.localhost:8000\"\n",
    "\n",
    "All requests to the DWapp are queries to the blockchain state, not transactions. So you can't change the state of the blockchain through the DWapp even with a POST request."
   ]
  },
  {
   "cell_type": "code",
   "execution_count": 12,
   "metadata": {
    "execution": {
     "iopub.execute_input": "2025-06-06T10:46:14.703184Z",
     "iopub.status.busy": "2025-06-06T10:46:14.703076Z",
     "iopub.status.idle": "2025-06-06T10:46:15.189747Z",
     "shell.execute_reply": "2025-06-06T10:46:15.189440Z"
    }
   },
   "outputs": [
    {
     "name": "stdout",
     "output_type": "stream",
     "text": [
      "=== Making a GET request to your DWapp at 'http://alice-px4fp.dys.localhost:2417' ===\n"
     ]
    },
    {
     "name": "stdout",
     "output_type": "stream",
     "text": [
      "hi bob\n",
      "\n",
      "Request Method: GET\n",
      "Query String: name=bob\n",
      "Path Info: /hi\n",
      "\n",
      "=== Making a POST request to your DWapp at 'http://alice-px4fp.dys.localhost:2417' ===\n"
     ]
    },
    {
     "name": "stdout",
     "output_type": "stream",
     "text": [
      "hi bob\n",
      "\n",
      "Request Method: POST\n",
      "Query String: \n",
      "Path Info: /hi\n",
      "Content Type: application/x-www-form-urlencoded\n",
      "Content Length: 8\n"
     ]
    }
   ],
   "source": [
    "[output] = ! dysond config get app api.address\n",
    "port = output.split(\":\")[-1].strip(\"\\\"\")\n",
    "\n",
    "dwapp_url = f\"http://{name}.localhost:{port}\"\n",
    "\n",
    "print(f\"=== Making a GET request to your DWapp at '{dwapp_url}' ===\")\n",
    "out = ! curl -s \"$dwapp_url/hi?name=bob\"\n",
    "out = \"\\n\".join(out).strip()\n",
    "print(out)\n",
    "\n",
    "assert \"hi bob\" in out, \"Expected 'hi bob' in output, got: \" + out\n",
    "assert \"Request Method: GET\" in out, \"Expected 'Request Method: GET' in output, got: \" + out\n",
    "\n",
    "print()\n",
    "print(f\"=== Making a POST request to your DWapp at '{dwapp_url}' ===\")\n",
    "out = ! curl -s -X POST \"$dwapp_url/hi\" -d \"name=bob\"\n",
    "out = \"\\n\".join(out).strip()\n",
    "print(out)\n",
    "\n",
    "assert \"hi bob\" in out, \"Expected 'hi bob' in output, got: \" + out\n",
    "assert \"Request Method: POST\" in out, \"Expected 'Request Method: POST' in output, got: \" + out"
   ]
  },
  {
   "cell_type": "markdown",
   "metadata": {},
   "source": [
    "## Name Valuation Management\n",
    "\n",
    "Names in the system have a value, which act as a starting point for bids when trading names. Let's update the valuation for our name."
   ]
  },
  {
   "cell_type": "code",
   "execution_count": 13,
   "metadata": {
    "execution": {
     "iopub.execute_input": "2025-06-06T10:46:15.191311Z",
     "iopub.status.busy": "2025-06-06T10:46:15.191181Z",
     "iopub.status.idle": "2025-06-06T10:46:15.288672Z",
     "shell.execute_reply": "2025-06-06T10:46:15.288382Z"
    }
   },
   "outputs": [
    {
     "name": "stdout",
     "output_type": "stream",
     "text": [
      "Transaction hash: A1B7E8E9E2CF5DBDD250B926D6F196A9BF18C6B406FD184A5FE2F262C45420F1\n"
     ]
    }
   ],
   "source": [
    "\n",
    "new_valuation = \"200dys\"\n",
    "\n",
    "[txhash] =! dysond tx nameservice set-valuation \\\n",
    "    --class-id=\"nameservice.dys\" \\\n",
    "    --nft-id=\"$name\" \\\n",
    "    --valuation=\"$new_valuation\" \\\n",
    "    --from=alice \\\n",
    "    -y \\\n",
    "    -o json | jq -r .txhash ; sleep 0.01\n",
    "\n",
    "print(f\"Transaction hash: {txhash}\")\n"
   ]
  },
  {
   "cell_type": "code",
   "execution_count": 14,
   "metadata": {
    "execution": {
     "iopub.execute_input": "2025-06-06T10:46:15.290017Z",
     "iopub.status.busy": "2025-06-06T10:46:15.289910Z",
     "iopub.status.idle": "2025-06-06T10:46:15.426958Z",
     "shell.execute_reply": "2025-06-06T10:46:15.426490Z"
    }
   },
   "outputs": [
    {
     "name": "stdout",
     "output_type": "stream",
     "text": [
      "Tx error code: 0\n",
      "{\n",
      "  \"type\": \"dysonprotocol.nameservice.v1.EventNameValuationUpdated\",\n",
      "  \"attributes\": [\n",
      "    {\n",
      "      \"key\": \"name\",\n",
      "      \"value\": \"\\\"alice-px4fp.dys\\\"\",\n",
      "      \"index\": true\n",
      "    },\n",
      "    {\n",
      "      \"key\": \"new_valuation\",\n",
      "      \"value\": \"{\\\"denom\\\":\\\"dys\\\",\\\"amount\\\":\\\"200\\\"}\",\n",
      "      \"index\": true\n",
      "    },\n",
      "    {\n",
      "      \"key\": \"msg_index\",\n",
      "      \"value\": \"0\",\n",
      "      \"index\": true\n",
      "    }\n",
      "  ]\n",
      "}\n"
     ]
    }
   ],
   "source": [
    "\n",
    "tx_result = ! dysond query wait-tx $txhash -o json\n",
    "tx_result = json.loads(\"\".join(tx_result))\n",
    "\n",
    "print(f\"Tx error code: {tx_result['code']}\")\n",
    "assert tx_result['code'] == 0, f\"Tx failed with code {tx_result['code']}, {tx_result['raw_log']}\"\n",
    "\n",
    "for event in tx_result['events']:\n",
    "    if 'dysonprotocol' in event['type']:\n",
    "        print(json.dumps(event, indent=2))\n"
   ]
  },
  {
   "cell_type": "markdown",
   "metadata": {},
   "source": [
    "### Verify Updated Valuation\n",
    "\n",
    "Let's confirm the updated valuation by querying the NFT data."
   ]
  },
  {
   "cell_type": "code",
   "execution_count": 15,
   "metadata": {
    "execution": {
     "iopub.execute_input": "2025-06-06T10:46:15.430308Z",
     "iopub.status.busy": "2025-06-06T10:46:15.430149Z",
     "iopub.status.idle": "2025-06-06T10:46:15.613740Z",
     "shell.execute_reply": "2025-06-06T10:46:15.613434Z"
    }
   },
   "outputs": [
    {
     "name": "stdout",
     "output_type": "stream",
     "text": [
      "{\r\n",
      "  \"nft\": {\r\n",
      "    \"class_id\": \"nameservice.dys\",\r\n",
      "    \"id\": \"alice-px4fp.dys\",\r\n",
      "    \"uri\": \"dys1tvhkv3gqr90jpycaky02xa5ukhaxllu38wawhz\",\r\n",
      "    \"data\": {\r\n",
      "      \"type\": \"/dysonprotocol.nameservice.v1.NFTData\",\r\n",
      "      \"value\": {\r\n",
      "        \"listed\": true,\r\n",
      "        \"valuation\": {\r\n",
      "          \"denom\": \"dys\",\r\n",
      "          \"amount\": \"200\"\r\n",
      "        },\r\n",
      "        \"valuation_expiry\": \"2026-06-06T10:46:13.698588Z\",\r\n",
      "        \"current_bid\": {\r\n",
      "          \"amount\": \"0\"\r\n",
      "        }\r\n",
      "      }\r\n",
      "    }\r\n",
      "  }\r\n",
      "}\r\n"
     ]
    }
   ],
   "source": [
    "! dysond query nft nft \"nameservice.dys\" \"$name\" "
   ]
  },
  {
   "cell_type": "markdown",
   "metadata": {},
   "source": [
    "## NFT Collection Creation\n",
    "\n",
    "One of the powerful features of the nameservice module is the ability to create NFT collections under your registered name."
   ]
  },
  {
   "cell_type": "markdown",
   "metadata": {},
   "source": [
    "### Create Main NFT Class\n",
    "\n",
    "Let's create a main NFT collection using our registered name as the class ID."
   ]
  },
  {
   "cell_type": "code",
   "execution_count": 16,
   "metadata": {
    "execution": {
     "iopub.execute_input": "2025-06-06T10:46:15.615214Z",
     "iopub.status.busy": "2025-06-06T10:46:15.615122Z",
     "iopub.status.idle": "2025-06-06T10:46:15.916502Z",
     "shell.execute_reply": "2025-06-06T10:46:15.916069Z"
    }
   },
   "outputs": [
    {
     "name": "stdout",
     "output_type": "stream",
     "text": [
      "Transaction hash: D5947E03A4B758F940D4F5EE5CD5EA175A28192D872B63AA4FEAE2536520354C\n"
     ]
    },
    {
     "name": "stdout",
     "output_type": "stream",
     "text": [
      "Tx error code: 0\n",
      "{\n",
      "  \"type\": \"dysonprotocol.nameservice.v1.EventClassSaved\",\n",
      "  \"attributes\": [\n",
      "    {\n",
      "      \"key\": \"class_id\",\n",
      "      \"value\": \"\\\"alice-px4fp.dys\\\"\",\n",
      "      \"index\": true\n",
      "    },\n",
      "    {\n",
      "      \"key\": \"msg_index\",\n",
      "      \"value\": \"0\",\n",
      "      \"index\": true\n",
      "    }\n",
      "  ]\n",
      "}\n"
     ]
    }
   ],
   "source": [
    "[txhash] = ! dysond tx nameservice save-class \\\n",
    "        --class-id=$name \\\n",
    "        --from=alice \\\n",
    "        --name=\"Main Collection\" \\\n",
    "        --symbol=MAINCOL \\\n",
    "        --description=\"My Main Collection\" \\\n",
    "        --uri=https://example.com/main \\\n",
    "        -y | dysond query wait-tx -o json | jq -r .txhash ; sleep 0.01\n",
    "\n",
    "print(f\"Transaction hash: {txhash}\")\n",
    "tx_result = ! dysond query wait-tx $txhash -o json\n",
    "tx_result = json.loads(\"\".join(tx_result))\n",
    "\n",
    "print(f\"Tx error code: {tx_result['code']}\")\n",
    "assert tx_result['code'] == 0, f\"Tx failed with code {tx_result['code']}, {tx_result['raw_log']}\"\n",
    "\n",
    "for event in tx_result['events']:\n",
    "    if 'dysonprotocol' in event['type']:\n",
    "        print(json.dumps(event, indent=2))\n"
   ]
  },
  {
   "cell_type": "markdown",
   "metadata": {},
   "source": [
    "### Create a Sub-Collection\n",
    "\n",
    "We can also create sub-collections under our main collection by using a hierarchical class ID."
   ]
  },
  {
   "cell_type": "code",
   "execution_count": 17,
   "metadata": {
    "execution": {
     "iopub.execute_input": "2025-06-06T10:46:15.918140Z",
     "iopub.status.busy": "2025-06-06T10:46:15.918007Z",
     "iopub.status.idle": "2025-06-06T10:46:16.144673Z",
     "shell.execute_reply": "2025-06-06T10:46:16.144342Z"
    }
   },
   "outputs": [
    {
     "name": "stdout",
     "output_type": "stream",
     "text": [
      "Transaction hash: D67974A1CC3A4E94F7BE849A3773DEDFF65E85E7B1E6F00255EEB8A3BD82CE39\n"
     ]
    },
    {
     "name": "stdout",
     "output_type": "stream",
     "text": [
      "Tx error code: 0\n",
      "{\n",
      "  \"type\": \"dysonprotocol.nameservice.v1.EventClassSaved\",\n",
      "  \"attributes\": [\n",
      "    {\n",
      "      \"key\": \"class_id\",\n",
      "      \"value\": \"\\\"alice-px4fp.dys/subcollection\\\"\",\n",
      "      \"index\": true\n",
      "    },\n",
      "    {\n",
      "      \"key\": \"msg_index\",\n",
      "      \"value\": \"0\",\n",
      "      \"index\": true\n",
      "    }\n",
      "  ]\n",
      "}\n"
     ]
    }
   ],
   "source": [
    "subcollection_id = f\"{name}/subcollection\"\n",
    "tx = ! dysond tx nameservice save-class --class-id=$subcollection_id --name=\"Sub Collection\" --symbol=SUBCOL --description=\"My Sub-Collection\" --uri=https://example.com/sub --from=alice -y -o json | jq -r .txhash\n",
    "txhash = tx[0]\n",
    "print(f\"Transaction hash: {txhash}\")\n",
    "tx_result = ! dysond query wait-tx $txhash -o json\n",
    "tx_result = json.loads(\"\".join(tx_result))\n",
    "\n",
    "print(f\"Tx error code: {tx_result['code']}\")\n",
    "assert tx_result['code'] == 0, f\"Tx failed with code {tx_result['code']}, {tx_result['raw_log']}\"\n",
    "\n",
    "for event in tx_result['events']:\n",
    "    if 'dysonprotocol' in event['type']:\n",
    "        print(json.dumps(event, indent=2))\n"
   ]
  },
  {
   "cell_type": "markdown",
   "metadata": {},
   "source": [
    "### View All NFT Classes\n",
    "\n",
    "Let's view all the NFT classes in the system to confirm our collections were created successfully."
   ]
  },
  {
   "cell_type": "code",
   "execution_count": 18,
   "metadata": {
    "execution": {
     "iopub.execute_input": "2025-06-06T10:46:16.146190Z",
     "iopub.status.busy": "2025-06-06T10:46:16.146046Z",
     "iopub.status.idle": "2025-06-06T10:46:16.324146Z",
     "shell.execute_reply": "2025-06-06T10:46:16.323798Z"
    }
   },
   "outputs": [
    {
     "name": "stdout",
     "output_type": "stream",
     "text": [
      "{\r\n",
      "  \"classes\": [\r\n",
      "    {\r\n",
      "      \"id\": \"alice-hlqlh.dys\",\r\n",
      "      \"name\": \"Main Collection\",\r\n",
      "      \"symbol\": \"MAINCOL\",\r\n",
      "      \"description\": \"My Main Collection\",\r\n",
      "      \"uri\": \"https://example.com/main\",\r\n",
      "      \"data\": {\r\n",
      "        \"type\": \"/dysonprotocol.nameservice.v1.NFTClassData\",\r\n",
      "        \"value\": {\r\n",
      "          \"extra_data\": \"{\\\"website\\\": \\\"https://example.com/details\\\"}\"\r\n",
      "        }\r\n",
      "      }\r\n",
      "    },\r\n",
      "    {\r\n",
      "      \"id\": \"alice-hlqlh.dys/subcollection\",\r\n",
      "      \"name\": \"Sub Collection\",\r\n",
      "      \"symbol\": \"SUBCOL\",\r\n",
      "      \"description\": \"My Sub-Collection\",\r\n",
      "      \"uri\": \"https://example.com/sub\"\r\n",
      "    },\r\n",
      "    {\r\n",
      "      \"id\": \"alice-o3pyh.dys\",\r\n",
      "      \"name\": \"Main Collection\",\r\n",
      "      \"symbol\": \"MAINCOL\",\r\n",
      "      \"description\": \"My Main Collection\",\r\n",
      "      \"uri\": \"https://example.com/main\",\r\n",
      "      \"data\": {\r\n",
      "        \"type\": \"/dysonprotocol.nameservice.v1.NFTClassData\",\r\n",
      "        \"value\": {\r\n",
      "          \"extra_data\": \"{\\\"website\\\": \\\"https://example.com/details\\\"}\"\r\n",
      "        }\r\n",
      "      }\r\n",
      "    },\r\n",
      "    {\r\n",
      "      \"id\": \"alice-o3pyh.dys/subcollection\",\r\n",
      "      \"name\": \"Sub Collection\",\r\n",
      "      \"symbol\": \"SUBCOL\",\r\n",
      "      \"description\": \"My Sub-Collection\",\r\n",
      "      \"uri\": \"https://example.com/sub\"\r\n",
      "    },\r\n",
      "    {\r\n",
      "      \"id\": \"alice-px4fp.dys\",\r\n",
      "      \"name\": \"Main Collection\",\r\n",
      "      \"symbol\": \"MAINCOL\",\r\n",
      "      \"description\": \"My Main Collection\",\r\n",
      "      \"uri\": \"https://example.com/main\"\r\n",
      "    },\r\n",
      "    {\r\n",
      "      \"id\": \"alice-px4fp.dys/subcollection\",\r\n",
      "      \"name\": \"Sub Collection\",\r\n",
      "      \"symbol\": \"SUBCOL\",\r\n",
      "      \"description\": \"My Sub-Collection\",\r\n",
      "      \"uri\": \"https://example.com/sub\"\r\n",
      "    },\r\n",
      "    {\r\n",
      "      \"id\": \"alice-s52fn.dys\",\r\n",
      "      \"name\": \"Main Collection\",\r\n",
      "      \"symbol\": \"MAINCOL\",\r\n",
      "      \"description\": \"My Main Collection\",\r\n",
      "      \"uri\": \"https://example.com/main\",\r\n",
      "      \"data\": {\r\n",
      "        \"type\": \"/dysonprotocol.nameservice.v1.NFTClassData\",\r\n",
      "        \"value\": {\r\n",
      "          \"extra_data\": \"{\\\"website\\\": \\\"https://example.com/details\\\"}\"\r\n",
      "        }\r\n",
      "      }\r\n",
      "    },\r\n",
      "    {\r\n",
      "      \"id\": \"alice-s52fn.dys/subcollection\",\r\n",
      "      \"name\": \"Sub Collection\",\r\n",
      "      \"symbol\": \"SUBCOL\",\r\n",
      "      \"description\": \"My Sub-Collection\",\r\n",
      "      \"uri\": \"https://example.com/sub\"\r\n",
      "    },\r\n",
      "    {\r\n",
      "      \"id\": \"alice-z82xb.dys\",\r\n",
      "      \"name\": \"Main Collection\",\r\n",
      "      \"symbol\": \"MAINCOL\",\r\n",
      "      \"description\": \"My Main Collection\",\r\n",
      "      \"uri\": \"https://example.com/main\",\r\n",
      "      \"data\": {\r\n",
      "        \"type\": \"/dysonprotocol.nameservice.v1.NFTClassData\",\r\n",
      "        \"value\": {\r\n",
      "          \"extra_data\": \"{\\\"website\\\": \\\"https://example.com/details\\\"}\"\r\n",
      "        }\r\n",
      "      }\r\n",
      "    },\r\n",
      "    {\r\n",
      "      \"id\": \"alice-z82xb.dys/subcollection\",\r\n",
      "      \"name\": \"Sub Collection\",\r\n",
      "      \"symbol\": \"SUBCOL\",\r\n",
      "      \"description\": \"My Sub-Collection\",\r\n",
      "      \"uri\": \"https://example.com/sub\"\r\n",
      "    },\r\n",
      "    {\r\n",
      "      \"id\": \"nameservice.dys\",\r\n",
      "      \"name\": \"Dyson Names\",\r\n",
      "      \"symbol\": \"DYSNAME\",\r\n",
      "      \"description\": \"Dyson Protocol registered names\",\r\n",
      "      \"data\": {\r\n",
      "        \"type\": \"/dysonprotocol.nameservice.v1.NFTClassData\",\r\n",
      "        \"value\": {\r\n",
      "          \"always_listed\": true,\r\n",
      "          \"annual_pct\": \"0.01\"\r\n",
      "        }\r\n",
      "      }\r\n",
      "    }\r\n",
      "  ],\r\n",
      "  \"pagination\": {\r\n",
      "    \"total\": \"11\"\r\n",
      "  }\r\n",
      "}\r\n"
     ]
    }
   ],
   "source": [
    "! dysond query nft classes -o json | jq -M"
   ]
  },
  {
   "cell_type": "markdown",
   "metadata": {},
   "source": [
    "## NFT Minting\n",
    "\n",
    "Now that we have created NFT collections, let's mint some NFTs within these collections."
   ]
  },
  {
   "cell_type": "code",
   "execution_count": 19,
   "metadata": {
    "execution": {
     "iopub.execute_input": "2025-06-06T10:46:16.325706Z",
     "iopub.status.busy": "2025-06-06T10:46:16.325595Z",
     "iopub.status.idle": "2025-06-06T10:46:16.546368Z",
     "shell.execute_reply": "2025-06-06T10:46:16.546089Z"
    }
   },
   "outputs": [
    {
     "name": "stdout",
     "output_type": "stream",
     "text": [
      "Transaction hash: FE12C64182E47DDB773EB7CCD2BAC35DA14F2DF340D9ADB7C1B3928B0E2664A1\n"
     ]
    },
    {
     "name": "stdout",
     "output_type": "stream",
     "text": [
      "Tx error code: 0\n",
      "{\n",
      "  \"type\": \"dysonprotocol.nameservice.v1.EventNFTMinted\",\n",
      "  \"attributes\": [\n",
      "    {\n",
      "      \"key\": \"class_id\",\n",
      "      \"value\": \"\\\"alice-px4fp.dys\\\"\",\n",
      "      \"index\": true\n",
      "    },\n",
      "    {\n",
      "      \"key\": \"nft_id\",\n",
      "      \"value\": \"\\\"nft1\\\"\",\n",
      "      \"index\": true\n",
      "    },\n",
      "    {\n",
      "      \"key\": \"msg_index\",\n",
      "      \"value\": \"0\",\n",
      "      \"index\": true\n",
      "    }\n",
      "  ]\n",
      "}\n"
     ]
    }
   ],
   "source": [
    "# Mint an NFT in the main collection\n",
    "nft_id = \"nft1\"\n",
    "tx = ! dysond tx nameservice mint-nft \\\n",
    "    --class-id=$name \\\n",
    "    --nft-id=$nft_id \\\n",
    "    --uri=https://example.com/nft1 \\\n",
    "    --from=alice \\\n",
    "    -y \\\n",
    "    -o json | jq -r .txhash\n",
    "txhash = tx[0]\n",
    "print(f\"Transaction hash: {txhash}\")\n",
    "tx_result = ! dysond query wait-tx $txhash -o json\n",
    "tx_result = json.loads(\"\".join(tx_result))\n",
    "\n",
    "print(f\"Tx error code: {tx_result['code']}\")\n",
    "assert tx_result['code'] == 0, f\"Tx failed with code {tx_result['code']}, {tx_result['raw_log']}\"\n",
    "\n",
    "for event in tx_result['events']:\n",
    "    if 'dysonprotocol' in event['type']:\n",
    "        print(json.dumps(event, indent=2))\n"
   ]
  },
  {
   "cell_type": "code",
   "execution_count": 20,
   "metadata": {
    "execution": {
     "iopub.execute_input": "2025-06-06T10:46:16.547762Z",
     "iopub.status.busy": "2025-06-06T10:46:16.547645Z",
     "iopub.status.idle": "2025-06-06T10:46:16.814343Z",
     "shell.execute_reply": "2025-06-06T10:46:16.814053Z"
    }
   },
   "outputs": [
    {
     "name": "stdout",
     "output_type": "stream",
     "text": [
      "Transaction hash: 3402A69850DA5F9225D50A22964A8E05D3002A5F1295C7E374E17FBE45F1A1C9\n"
     ]
    },
    {
     "name": "stdout",
     "output_type": "stream",
     "text": [
      "Tx error code: 0\n",
      "{\n",
      "  \"type\": \"dysonprotocol.nameservice.v1.EventNFTMinted\",\n",
      "  \"attributes\": [\n",
      "    {\n",
      "      \"key\": \"class_id\",\n",
      "      \"value\": \"\\\"alice-px4fp.dys/subcollection\\\"\",\n",
      "      \"index\": true\n",
      "    },\n",
      "    {\n",
      "      \"key\": \"nft_id\",\n",
      "      \"value\": \"\\\"subnft1-8jpok\\\"\",\n",
      "      \"index\": true\n",
      "    },\n",
      "    {\n",
      "      \"key\": \"msg_index\",\n",
      "      \"value\": \"0\",\n",
      "      \"index\": true\n",
      "    }\n",
      "  ]\n",
      "}\n"
     ]
    }
   ],
   "source": [
    "# Mint an NFT in the sub-collection\n",
    "subnft_id = f\"subnft1-{random_string(5)}\"\n",
    "tx = ! dysond tx nameservice mint-nft --class-id=$subcollection_id --nft-id=$subnft_id --uri=https://example.com/subnft1 --from=alice -y -o json | jq -r .txhash\n",
    "txhash = tx[0]\n",
    "print(f\"Transaction hash: {txhash}\")\n",
    "tx_result = ! dysond query wait-tx $txhash -o json\n",
    "tx_result = json.loads(\"\".join(tx_result))\n",
    "\n",
    "print(f\"Tx error code: {tx_result['code']}\")\n",
    "assert tx_result['code'] == 0, f\"Tx failed with code {tx_result['code']}, {tx_result['raw_log']}\"\n",
    "\n",
    "for event in tx_result['events']:\n",
    "    if 'dysonprotocol' in event['type']:\n",
    "        print(json.dumps(event, indent=2))\n"
   ]
  },
  {
   "cell_type": "markdown",
   "metadata": {},
   "source": [
    "### View NFTs in Collection\n",
    "\n",
    "Let's verify the NFTs in our main collection."
   ]
  },
  {
   "cell_type": "code",
   "execution_count": 21,
   "metadata": {
    "execution": {
     "iopub.execute_input": "2025-06-06T10:46:16.815861Z",
     "iopub.status.busy": "2025-06-06T10:46:16.815743Z",
     "iopub.status.idle": "2025-06-06T10:46:16.992126Z",
     "shell.execute_reply": "2025-06-06T10:46:16.991768Z"
    }
   },
   "outputs": [
    {
     "name": "stdout",
     "output_type": "stream",
     "text": [
      "{\r\n",
      "  \"nfts\": [\r\n",
      "    {\r\n",
      "      \"class_id\": \"alice-px4fp.dys\",\r\n",
      "      \"id\": \"nft1\",\r\n",
      "      \"uri\": \"https://example.com/nft1\"\r\n",
      "    }\r\n",
      "  ],\r\n",
      "  \"pagination\": {\r\n",
      "    \"total\": \"1\"\r\n",
      "  }\r\n",
      "}\r\n"
     ]
    }
   ],
   "source": [
    "! dysond query nft nfts $name -o json | jq -M"
   ]
  },
  {
   "cell_type": "markdown",
   "metadata": {},
   "source": [
    "# Verify the NFTs in the sub-collection\n"
   ]
  },
  {
   "cell_type": "code",
   "execution_count": 22,
   "metadata": {
    "execution": {
     "iopub.execute_input": "2025-06-06T10:46:16.993768Z",
     "iopub.status.busy": "2025-06-06T10:46:16.993667Z",
     "iopub.status.idle": "2025-06-06T10:46:17.170483Z",
     "shell.execute_reply": "2025-06-06T10:46:17.170151Z"
    }
   },
   "outputs": [
    {
     "name": "stdout",
     "output_type": "stream",
     "text": [
      "{\r\n",
      "  \"nfts\": [\r\n",
      "    {\r\n",
      "      \"class_id\": \"alice-px4fp.dys/subcollection\",\r\n",
      "      \"id\": \"subnft1-8jpok\",\r\n",
      "      \"uri\": \"https://example.com/subnft1\"\r\n",
      "    }\r\n",
      "  ],\r\n",
      "  \"pagination\": {\r\n",
      "    \"total\": \"1\"\r\n",
      "  }\r\n",
      "}\r\n"
     ]
    }
   ],
   "source": [
    "! dysond query nft nfts $subcollection_id -o json | jq -M"
   ]
  },
  {
   "cell_type": "markdown",
   "metadata": {},
   "source": [
    "## NFT Metadata Management\n",
    "\n",
    "NFTs can have additional text metadata to describe their properties and attributes. Let's add metadata to our NFT."
   ]
  },
  {
   "cell_type": "code",
   "execution_count": 23,
   "metadata": {
    "execution": {
     "iopub.execute_input": "2025-06-06T10:46:17.172065Z",
     "iopub.status.busy": "2025-06-06T10:46:17.171949Z",
     "iopub.status.idle": "2025-06-06T10:46:17.277925Z",
     "shell.execute_reply": "2025-06-06T10:46:17.277614Z"
    }
   },
   "outputs": [
    {
     "name": "stdout",
     "output_type": "stream",
     "text": [
      "Metadata: '{\"some_key\": \"some_value\", \"another_key\": \"He doesn'\"'\"'t eat his vegetables\"}'\n",
      "Alice address: dys1tvhkv3gqr90jpycaky02xa5ukhaxllu38wawhz\n"
     ]
    },
    {
     "name": "stdout",
     "output_type": "stream",
     "text": [
      "Transaction hash: 14909EC4F1F9AC0F9F1B954F7076F20E678C0368D2C62819BDBB89DECE1ADBB5\n"
     ]
    }
   ],
   "source": [
    "import json\n",
    "import shlex\n",
    "\n",
    "# Set metadata for the NFT, note that the metadata should be escaped for the shell\n",
    "\n",
    "metadata = shlex.quote(json.dumps({\"some_key\":\"some_value\", \"another_key\": \"He doesn't eat his vegetables\"}))\n",
    "print(f\"Metadata: {metadata}\")\n",
    "print(f\"Alice address: {alice_address}\")\n",
    "\n",
    "tx = ! dysond tx nameservice set-nft-metadata \\\n",
    "    --from=$alice_address \\\n",
    "    --class-id=\"$name\" \\\n",
    "    --nft-id=\"$nft_id\" \\\n",
    "    --metadata=$metadata \\\n",
    "    -y \\\n",
    "    -o json | jq .txhash -r ; sleep 0.01\n",
    "\n",
    "txhash = tx[0]\n",
    "print(f\"Transaction hash: {txhash}\")"
   ]
  },
  {
   "cell_type": "code",
   "execution_count": 24,
   "metadata": {
    "execution": {
     "iopub.execute_input": "2025-06-06T10:46:17.279351Z",
     "iopub.status.busy": "2025-06-06T10:46:17.279229Z",
     "iopub.status.idle": "2025-06-06T10:46:17.557666Z",
     "shell.execute_reply": "2025-06-06T10:46:17.557352Z"
    }
   },
   "outputs": [
    {
     "name": "stdout",
     "output_type": "stream",
     "text": [
      "Tx error code: 0\n"
     ]
    },
    {
     "name": "stdout",
     "output_type": "stream",
     "text": [
      "{\r\n",
      "  \"nft\": {\r\n",
      "    \"class_id\": \"alice-px4fp.dys\",\r\n",
      "    \"id\": \"nft1\",\r\n",
      "    \"uri\": \"https://example.com/nft1\",\r\n",
      "    \"data\": {\r\n",
      "      \"type\": \"/dysonprotocol.nameservice.v1.NFTData\",\r\n",
      "      \"value\": {\r\n",
      "        \"valuation\": {\r\n",
      "          \"amount\": \"0\"\r\n",
      "        },\r\n",
      "        \"valuation_expiry\": \"0001-01-01T00:00:00Z\",\r\n",
      "        \"current_bid\": {\r\n",
      "          \"amount\": \"0\"\r\n",
      "        },\r\n",
      "        \"metadata\": \"{\\\"some_key\\\": \\\"some_value\\\", \\\"another_key\\\": \\\"He doesn't eat his vegetables\\\"}\"\r\n",
      "      }\r\n",
      "    }\r\n",
      "  }\r\n",
      "}\r\n"
     ]
    }
   ],
   "source": [
    "tx_result = ! dysond query wait-tx \"$txhash\" -o json\n",
    "tx_result = json.loads(\"\".join(tx_result))\n",
    "print(f\"Tx error code: {tx_result['code']}\")\n",
    "assert tx_result['code'] == 0, f\"Tx failed with code {tx_result['code']}, {tx_result['raw_log']}\"\n",
    "\n",
    "# Verify the NFT with metadata\n",
    "! dysond query nft nft $name $nft_id"
   ]
  },
  {
   "cell_type": "markdown",
   "metadata": {},
   "source": [
    "### Add Extra Data to NFT Class\n",
    "\n",
    "We can also add additional data to the NFT class itself to provide more information about the collection."
   ]
  },
  {
   "cell_type": "code",
   "execution_count": 25,
   "metadata": {
    "execution": {
     "iopub.execute_input": "2025-06-06T10:46:17.559149Z",
     "iopub.status.busy": "2025-06-06T10:46:17.559039Z",
     "iopub.status.idle": "2025-06-06T10:46:17.953880Z",
     "shell.execute_reply": "2025-06-06T10:46:17.953517Z"
    }
   },
   "outputs": [
    {
     "name": "stdout",
     "output_type": "stream",
     "text": [
      "Transaction hash: 65237473E27089102971514F2D9719C0ECAE908F4E4EC88ECD5DE7698D89C65B\n"
     ]
    },
    {
     "name": "stdout",
     "output_type": "stream",
     "text": [
      "Tx error code: 0\n",
      "NFT class with new extra data:\n"
     ]
    },
    {
     "name": "stdout",
     "output_type": "stream",
     "text": [
      "{\r\n",
      "  \"class\": {\r\n",
      "    \"id\": \"alice-px4fp.dys\",\r\n",
      "    \"name\": \"Main Collection\",\r\n",
      "    \"symbol\": \"MAINCOL\",\r\n",
      "    \"description\": \"My Main Collection\",\r\n",
      "    \"uri\": \"https://example.com/main\",\r\n",
      "    \"data\": {\r\n",
      "      \"type\": \"/dysonprotocol.nameservice.v1.NFTClassData\",\r\n",
      "      \"value\": {\r\n",
      "        \"extra_data\": \"{\\\"website\\\": \\\"https://example.com/details\\\"}\"\r\n",
      "      }\r\n",
      "    }\r\n",
      "  }\r\n",
      "}\r\n"
     ]
    }
   ],
   "source": [
    "# Set extra data for the NFT class\n",
    "\n",
    "extra_data = shlex.quote(json.dumps({\"website\":\"https://example.com/details\"}))\n",
    "\n",
    "tx = ! dysond tx nameservice set-nft-class-extra-data --class-id=$name --extra-data=$extra_data --from=alice -y -o json | jq -r .txhash\n",
    "txhash = tx[0]\n",
    "print(f\"Transaction hash: {txhash}\")\n",
    "tx_result = ! dysond query wait-tx $txhash -o json\n",
    "tx_result = json.loads(\"\".join(tx_result))\n",
    "print(f\"Tx error code: {tx_result['code']}\")\n",
    "assert tx_result['code'] == 0, f\"Tx failed with code {tx_result['code']}, {tx_result['raw_log']}\"\n",
    "\n",
    "# Verify the NFT class with extra data\n",
    "print(\"NFT class with new extra data:\")\n",
    "! dysond query nft class $name -o json"
   ]
  },
  {
   "cell_type": "markdown",
   "metadata": {},
   "source": [
    "## Custom Coin Operations\n",
    "\n",
    "Dyson Protocol allows name owners to mint custom coins using their registered names as denominations."
   ]
  },
  {
   "cell_type": "markdown",
   "metadata": {},
   "source": [
    "### Mint Coins with Name Denomination\n",
    "\n",
    "Let's mint some coins using our registered name as the denomination."
   ]
  },
  {
   "cell_type": "code",
   "execution_count": 26,
   "metadata": {
    "execution": {
     "iopub.execute_input": "2025-06-06T10:46:17.955566Z",
     "iopub.status.busy": "2025-06-06T10:46:17.955455Z",
     "iopub.status.idle": "2025-06-06T10:46:18.213627Z",
     "shell.execute_reply": "2025-06-06T10:46:18.213304Z"
    }
   },
   "outputs": [
    {
     "name": "stdout",
     "output_type": "stream",
     "text": [
      "Transaction hash: 3CE48704A2B44134FBEA7B251F82F60BD62D644CEBD26609EF5D2B63B5D272FB\n"
     ]
    },
    {
     "name": "stdout",
     "output_type": "stream",
     "text": [
      "Tx error code: 0\n",
      "{\n",
      "  \"type\": \"dysonprotocol.nameservice.v1.EventCoinsMinted\",\n",
      "  \"attributes\": [\n",
      "    {\n",
      "      \"key\": \"amount\",\n",
      "      \"value\": \"[{\\\"denom\\\":\\\"alice-px4fp.dys\\\",\\\"amount\\\":\\\"1000\\\"}]\",\n",
      "      \"index\": true\n",
      "    },\n",
      "    {\n",
      "      \"key\": \"msg_index\",\n",
      "      \"value\": \"0\",\n",
      "      \"index\": true\n",
      "    }\n",
      "  ]\n",
      "}\n"
     ]
    }
   ],
   "source": [
    "# Mint coins with the name as denomination\n",
    "amount = f\"1000{name}\"\n",
    "tx = ! dysond tx nameservice mint-coins --amount=$amount --from=alice -y -o json | jq -r .txhash\n",
    "txhash = tx[0]\n",
    "print(f\"Transaction hash: {txhash}\")\n",
    "tx_result = ! dysond query wait-tx $txhash -o json\n",
    "tx_result = json.loads(\"\".join(tx_result))\n",
    "\n",
    "print(f\"Tx error code: {tx_result['code']}\")\n",
    "assert tx_result['code'] == 0, f\"Tx failed with code {tx_result['code']}, {tx_result['raw_log']}\"\n",
    "\n",
    "for event in tx_result['events']:\n",
    "    if 'dysonprotocol' in event['type']:\n",
    "        print(json.dumps(event, indent=2))\n"
   ]
  },
  {
   "cell_type": "markdown",
   "metadata": {},
   "source": [
    "### Mint Coins with Subdenom\n",
    "\n",
    "We can also mint coins with subdenominations for more specific token creation."
   ]
  },
  {
   "cell_type": "code",
   "execution_count": 27,
   "metadata": {
    "execution": {
     "iopub.execute_input": "2025-06-06T10:46:18.215047Z",
     "iopub.status.busy": "2025-06-06T10:46:18.214929Z",
     "iopub.status.idle": "2025-06-06T10:46:18.481080Z",
     "shell.execute_reply": "2025-06-06T10:46:18.480769Z"
    }
   },
   "outputs": [
    {
     "name": "stdout",
     "output_type": "stream",
     "text": [
      "Transaction hash: A9095B6DE2A97AD36C81C0A265D3C872B4707725A0B36D8E0D6E4C40CFDF7EB4\n"
     ]
    },
    {
     "name": "stdout",
     "output_type": "stream",
     "text": [
      "Tx error code: 0\n",
      "{\n",
      "  \"type\": \"dysonprotocol.nameservice.v1.EventCoinsMinted\",\n",
      "  \"attributes\": [\n",
      "    {\n",
      "      \"key\": \"amount\",\n",
      "      \"value\": \"[{\\\"denom\\\":\\\"alice-px4fp.dys/token1\\\",\\\"amount\\\":\\\"500\\\"}]\",\n",
      "      \"index\": true\n",
      "    },\n",
      "    {\n",
      "      \"key\": \"msg_index\",\n",
      "      \"value\": \"0\",\n",
      "      \"index\": true\n",
      "    }\n",
      "  ]\n",
      "}\n"
     ]
    }
   ],
   "source": [
    "# Mint coins with a subdenom\n",
    "subdenom = f\"{name}/token1\"\n",
    "amount = f\"500{subdenom}\"\n",
    "tx = ! dysond tx nameservice mint-coins --amount=$amount --from=alice -y -o json | jq -r .txhash\n",
    "txhash = tx[0]\n",
    "print(f\"Transaction hash: {txhash}\")\n",
    "tx_result = ! dysond query wait-tx $txhash -o json\n",
    "tx_result = json.loads(\"\".join(tx_result))\n",
    "\n",
    "print(f\"Tx error code: {tx_result['code']}\")\n",
    "assert tx_result['code'] == 0, f\"Tx failed with code {tx_result['code']}, {tx_result['raw_log']}\"\n",
    "\n",
    "for event in tx_result['events']:\n",
    "    if 'dysonprotocol' in event['type']:\n",
    "        print(json.dumps(event, indent=2))\n"
   ]
  },
  {
   "cell_type": "markdown",
   "metadata": {},
   "source": [
    "### Check Balance\n",
    "\n",
    "Let's check Alice's balance to confirm the minted coins have been added to her account."
   ]
  },
  {
   "cell_type": "code",
   "execution_count": 28,
   "metadata": {
    "execution": {
     "iopub.execute_input": "2025-06-06T10:46:18.482689Z",
     "iopub.status.busy": "2025-06-06T10:46:18.482505Z",
     "iopub.status.idle": "2025-06-06T10:46:18.663420Z",
     "shell.execute_reply": "2025-06-06T10:46:18.663046Z"
    }
   },
   "outputs": [
    {
     "name": "stdout",
     "output_type": "stream",
     "text": [
      "{\r\n",
      "  \"balances\": [\r\n",
      "    {\r\n",
      "      \"denom\": \"alice-hlqlh.dys\",\r\n",
      "      \"amount\": \"800\"\r\n",
      "    },\r\n",
      "    {\r\n",
      "      \"denom\": \"alice-hlqlh.dys/token1\",\r\n",
      "      \"amount\": \"500\"\r\n",
      "    },\r\n",
      "    {\r\n",
      "      \"denom\": \"alice-o3pyh.dys\",\r\n",
      "      \"amount\": \"800\"\r\n",
      "    },\r\n",
      "    {\r\n",
      "      \"denom\": \"alice-o3pyh.dys/token1\",\r\n",
      "      \"amount\": \"500\"\r\n",
      "    },\r\n",
      "    {\r\n",
      "      \"denom\": \"alice-px4fp.dys\",\r\n",
      "      \"amount\": \"1000\"\r\n",
      "    },\r\n",
      "    {\r\n",
      "      \"denom\": \"alice-px4fp.dys/token1\",\r\n",
      "      \"amount\": \"500\"\r\n",
      "    },\r\n",
      "    {\r\n",
      "      \"denom\": \"alice-s52fn.dys\",\r\n",
      "      \"amount\": \"800\"\r\n",
      "    },\r\n",
      "    {\r\n",
      "      \"denom\": \"alice-s52fn.dys/token1\",\r\n",
      "      \"amount\": \"500\"\r\n",
      "    },\r\n",
      "    {\r\n",
      "      \"denom\": \"alice-z82xb.dys\",\r\n",
      "      \"amount\": \"800\"\r\n",
      "    },\r\n",
      "    {\r\n",
      "      \"denom\": \"alice-z82xb.dys/token1\",\r\n",
      "      \"amount\": \"500\"\r\n",
      "    },\r\n",
      "    {\r\n",
      "      \"denom\": \"dys\",\r\n",
      "      \"amount\": \"9998935777\"\r\n",
      "    }\r\n",
      "  ],\r\n",
      "  \"pagination\": {\r\n",
      "    \"total\": \"11\"\r\n",
      "  }\r\n",
      "}\r\n"
     ]
    }
   ],
   "source": [
    "! dysond query bank balances $alice_address -o json | jq -M"
   ]
  },
  {
   "cell_type": "markdown",
   "metadata": {},
   "source": [
    "### Transfer Custom Coins\n",
    "\n",
    "Now that we have minted custom coins, let's send some to Bob's account."
   ]
  },
  {
   "cell_type": "code",
   "execution_count": 29,
   "metadata": {
    "execution": {
     "iopub.execute_input": "2025-06-06T10:46:18.664944Z",
     "iopub.status.busy": "2025-06-06T10:46:18.664860Z",
     "iopub.status.idle": "2025-06-06T10:46:18.887127Z",
     "shell.execute_reply": "2025-06-06T10:46:18.886763Z"
    }
   },
   "outputs": [
    {
     "name": "stdout",
     "output_type": "stream",
     "text": [
      "Transaction hash: C8461349664AAB5DDC137956A043E0A47F431983303512EB56CEC7670370DF52\n"
     ]
    },
    {
     "name": "stdout",
     "output_type": "stream",
     "text": [
      "Tx error code: 0\n"
     ]
    }
   ],
   "source": [
    "# Send custom coins to Bob\n",
    "transfer_amount = f\"200{name}\"\n",
    "tx = ! dysond tx bank send alice $bob_address $transfer_amount -y -o json | jq -r .txhash\n",
    "txhash = tx[0]\n",
    "print(f\"Transaction hash: {txhash}\")\n",
    "tx_result = ! dysond query wait-tx $txhash -o json\n",
    "tx_result = json.loads(\"\".join(tx_result))\n",
    "\n",
    "print(f\"Tx error code: {tx_result['code']}\")\n",
    "assert tx_result['code'] == 0, f\"Tx failed with code {tx_result['code']}, {tx_result['raw_log']}\"\n",
    "\n",
    "for event in tx_result['events']:\n",
    "    if 'dysonprotocol' in event['type']:\n",
    "        print(json.dumps(event, indent=2))\n"
   ]
  },
  {
   "cell_type": "markdown",
   "metadata": {},
   "source": [
    "### Verify Bob's Balance\n",
    "\n",
    "Let's check Bob's balance to confirm the transfer was successful."
   ]
  },
  {
   "cell_type": "code",
   "execution_count": 30,
   "metadata": {
    "execution": {
     "iopub.execute_input": "2025-06-06T10:46:18.888450Z",
     "iopub.status.busy": "2025-06-06T10:46:18.888353Z",
     "iopub.status.idle": "2025-06-06T10:46:19.068025Z",
     "shell.execute_reply": "2025-06-06T10:46:19.067570Z"
    }
   },
   "outputs": [
    {
     "name": "stdout",
     "output_type": "stream",
     "text": [
      "\u001b[1;39m{\r\n",
      "  \u001b[0m\u001b[1;34m\"balances\"\u001b[0m\u001b[1;39m: \u001b[0m\u001b[1;39m[\r\n",
      "    \u001b[1;39m{\r\n",
      "      \u001b[0m\u001b[1;34m\"denom\"\u001b[0m\u001b[1;39m: \u001b[0m\u001b[0;32m\"alice-hlqlh.dys\"\u001b[0m\u001b[1;39m,\r\n",
      "      \u001b[0m\u001b[1;34m\"amount\"\u001b[0m\u001b[1;39m: \u001b[0m\u001b[0;32m\"200\"\u001b[0m\u001b[1;39m\r\n",
      "    \u001b[1;39m}\u001b[0m\u001b[1;39m,\r\n",
      "    \u001b[1;39m{\r\n",
      "      \u001b[0m\u001b[1;34m\"denom\"\u001b[0m\u001b[1;39m: \u001b[0m\u001b[0;32m\"alice-o3pyh.dys\"\u001b[0m\u001b[1;39m,\r\n",
      "      \u001b[0m\u001b[1;34m\"amount\"\u001b[0m\u001b[1;39m: \u001b[0m\u001b[0;32m\"200\"\u001b[0m\u001b[1;39m\r\n",
      "    \u001b[1;39m}\u001b[0m\u001b[1;39m,\r\n",
      "    \u001b[1;39m{\r\n",
      "      \u001b[0m\u001b[1;34m\"denom\"\u001b[0m\u001b[1;39m: \u001b[0m\u001b[0;32m\"alice-px4fp.dys\"\u001b[0m\u001b[1;39m,\r\n",
      "      \u001b[0m\u001b[1;34m\"amount\"\u001b[0m\u001b[1;39m: \u001b[0m\u001b[0;32m\"200\"\u001b[0m\u001b[1;39m\r\n",
      "    \u001b[1;39m}\u001b[0m\u001b[1;39m,\r\n",
      "    \u001b[1;39m{\r\n",
      "      \u001b[0m\u001b[1;34m\"denom\"\u001b[0m\u001b[1;39m: \u001b[0m\u001b[0;32m\"alice-s52fn.dys\"\u001b[0m\u001b[1;39m,\r\n",
      "      \u001b[0m\u001b[1;34m\"amount\"\u001b[0m\u001b[1;39m: \u001b[0m\u001b[0;32m\"200\"\u001b[0m\u001b[1;39m\r\n",
      "    \u001b[1;39m}\u001b[0m\u001b[1;39m,\r\n",
      "    \u001b[1;39m{\r\n",
      "      \u001b[0m\u001b[1;34m\"denom\"\u001b[0m\u001b[1;39m: \u001b[0m\u001b[0;32m\"alice-z82xb.dys\"\u001b[0m\u001b[1;39m,\r\n",
      "      \u001b[0m\u001b[1;34m\"amount\"\u001b[0m\u001b[1;39m: \u001b[0m\u001b[0;32m\"200\"\u001b[0m\u001b[1;39m\r\n",
      "    \u001b[1;39m}\u001b[0m\u001b[1;39m,\r\n",
      "    \u001b[1;39m{\r\n",
      "      \u001b[0m\u001b[1;34m\"denom\"\u001b[0m\u001b[1;39m: \u001b[0m\u001b[0;32m\"dys\"\u001b[0m\u001b[1;39m,\r\n",
      "      \u001b[0m\u001b[1;34m\"amount\"\u001b[0m\u001b[1;39m: \u001b[0m\u001b[0;32m\"9999999183\"\u001b[0m\u001b[1;39m\r\n",
      "    \u001b[1;39m}\u001b[0m\u001b[1;39m\r\n",
      "  \u001b[1;39m]\u001b[0m\u001b[1;39m,\r\n",
      "  \u001b[0m\u001b[1;34m\"pagination\"\u001b[0m\u001b[1;39m: \u001b[0m\u001b[1;39m{\r\n",
      "    \u001b[0m\u001b[1;34m\"total\"\u001b[0m\u001b[1;39m: \u001b[0m\u001b[0;32m\"6\"\u001b[0m\u001b[1;39m\r\n",
      "  \u001b[1;39m}\u001b[0m\u001b[1;39m\r\n",
      "\u001b[1;39m}\u001b[0m\r\n"
     ]
    }
   ],
   "source": [
    "! dysond query bank balances $bob_address -o json | jq"
   ]
  },
  {
   "cell_type": "markdown",
   "metadata": {},
   "source": [
    "## Name Trading Process\n",
    "\n",
    "The Nameservice module allows names to be traded through a secure bidding system. Let's demonstrate how Bob can bid on Alice's name."
   ]
  },
  {
   "cell_type": "code",
   "execution_count": 31,
   "metadata": {
    "execution": {
     "iopub.execute_input": "2025-06-06T10:46:19.069691Z",
     "iopub.status.busy": "2025-06-06T10:46:19.069576Z",
     "iopub.status.idle": "2025-06-06T10:46:19.309834Z",
     "shell.execute_reply": "2025-06-06T10:46:19.309532Z"
    }
   },
   "outputs": [
    {
     "name": "stdout",
     "output_type": "stream",
     "text": [
      "Bob places a bid on Alice's name: alice-px4fp.dys\n"
     ]
    },
    {
     "name": "stdout",
     "output_type": "stream",
     "text": [
      "Current bid result: {'nft': {'class_id': 'nameservice.dys', 'id': 'alice-px4fp.dys', 'uri': 'dys1tvhkv3gqr90jpycaky02xa5ukhaxllu38wawhz', 'data': {'type': '/dysonprotocol.nameservice.v1.NFTData', 'value': {'listed': True, 'valuation': {'denom': 'dys', 'amount': '200'}, 'valuation_expiry': '2026-06-06T10:46:13.698588Z', 'current_bid': {'amount': '0'}}}}}\n",
      "Current bid: {'amount': '0'}\n",
      "Current valuation: {'denom': 'dys', 'amount': '200'}\n",
      "Bob's bid amount: 200dys\n"
     ]
    },
    {
     "name": "stdout",
     "output_type": "stream",
     "text": [
      "Transaction hash: C5AF1AC3EBF6C419CAED8F48923D624515887EBA40EC1DA80E38754816C036F6\n"
     ]
    },
    {
     "name": "stdout",
     "output_type": "stream",
     "text": [
      "Tx error code: 0\n",
      "{\n",
      "  \"type\": \"dysonprotocol.nameservice.v1.EventBidPlaced\",\n",
      "  \"attributes\": [\n",
      "    {\n",
      "      \"key\": \"bid_amount\",\n",
      "      \"value\": \"{\\\"denom\\\":\\\"dys\\\",\\\"amount\\\":\\\"200\\\"}\",\n",
      "      \"index\": true\n",
      "    },\n",
      "    {\n",
      "      \"key\": \"bidder\",\n",
      "      \"value\": \"\\\"dys1fhhxp9xveswc4yhxekr32eqe80rkwpurya0jh0\\\"\",\n",
      "      \"index\": true\n",
      "    },\n",
      "    {\n",
      "      \"key\": \"class_id\",\n",
      "      \"value\": \"\\\"nameservice.dys\\\"\",\n",
      "      \"index\": true\n",
      "    },\n",
      "    {\n",
      "      \"key\": \"nft_id\",\n",
      "      \"value\": \"\\\"alice-px4fp.dys\\\"\",\n",
      "      \"index\": true\n",
      "    },\n",
      "    {\n",
      "      \"key\": \"msg_index\",\n",
      "      \"value\": \"0\",\n",
      "      \"index\": true\n",
      "    }\n",
      "  ]\n",
      "}\n"
     ]
    }
   ],
   "source": [
    "print(f\"Bob places a bid on Alice's name: {name}\")\n",
    "\n",
    "current_bid_result = ! dysond query nft nft nameservice.dys $name -o json \n",
    "current_bid_result = json.loads(\"\".join(current_bid_result))\n",
    "print(f\"Current bid result: {current_bid_result}\")\n",
    "current_bid = current_bid_result['nft']['data']['value']['current_bid']\n",
    "\n",
    "current_valuation = current_bid_result['nft']['data']['value']['valuation']\n",
    "\n",
    "print(f\"Current bid: {current_bid}\") # Current bid: {'amount': '0'}\n",
    "print(f\"Current valuation: {current_valuation}\") # Current valuation: {'amount': '100'}\n",
    "\n",
    "\n",
    "min_bid_amount = max(int(current_bid['amount']) + 100, int(current_valuation['amount'])) \n",
    "bid_amount = f\"{min_bid_amount}dys\"\n",
    "print(f\"Bob's bid amount: {bid_amount}\")\n",
    "#  dysond tx nameservice place-bid --nft-class-id=<class-id> --nft-id=<nft-id> --bid-amount=<amount> [flags]\n",
    "[txhash] = ! dysond tx nameservice place-bid \\\n",
    "    --nft-class-id=\"nameservice.dys\" \\\n",
    "    --nft-id=$name \\\n",
    "    --bid-amount=$bid_amount \\\n",
    "    --from=bob \\\n",
    "    -y \\\n",
    "    -o json | jq -r .txhash\n",
    "\n",
    "print(f\"Transaction hash: {txhash}\")\n",
    "tx_result = ! dysond query wait-tx $txhash -o json\n",
    "tx_result = json.loads(\"\".join(tx_result))\n",
    "\n",
    "print(f\"Tx error code: {tx_result['code']}\")\n",
    "assert tx_result['code'] == 0, f\"Tx failed with code {tx_result['code']}, {tx_result['raw_log']}\"\n",
    "\n",
    "for event in tx_result['events']:\n",
    "    if 'dysonprotocol' in event['type']:\n",
    "        print(json.dumps(event, indent=2))\n"
   ]
  },
  {
   "cell_type": "markdown",
   "metadata": {},
   "source": [
    "### Verify Current Bid\n",
    "\n",
    "Let's check the current bid on the name."
   ]
  },
  {
   "cell_type": "code",
   "execution_count": 32,
   "metadata": {
    "execution": {
     "iopub.execute_input": "2025-06-06T10:46:19.311256Z",
     "iopub.status.busy": "2025-06-06T10:46:19.311143Z",
     "iopub.status.idle": "2025-06-06T10:46:19.492316Z",
     "shell.execute_reply": "2025-06-06T10:46:19.491992Z"
    }
   },
   "outputs": [
    {
     "name": "stdout",
     "output_type": "stream",
     "text": [
      "{\r\n",
      "  \"denom\": \"dys\",\r\n",
      "  \"amount\": \"200\"\r\n",
      "}\r\n"
     ]
    }
   ],
   "source": [
    "! dysond query nft nft nameservice.dys $name -o json | jq -M '.nft.data.value.current_bid' "
   ]
  },
  {
   "cell_type": "markdown",
   "metadata": {},
   "source": [
    "### Accept Bid\n",
    "\n",
    "Alice can choose to accept Bob's bid, which will transfer the name to Bob and the bid amount to Alice."
   ]
  },
  {
   "cell_type": "code",
   "execution_count": 33,
   "metadata": {
    "execution": {
     "iopub.execute_input": "2025-06-06T10:46:19.493845Z",
     "iopub.status.busy": "2025-06-06T10:46:19.493739Z",
     "iopub.status.idle": "2025-06-06T10:46:19.718388Z",
     "shell.execute_reply": "2025-06-06T10:46:19.718099Z"
    }
   },
   "outputs": [
    {
     "name": "stdout",
     "output_type": "stream",
     "text": [
      "Transaction hash: 9165C06BE79781D632F78C83CFCFAB1083F2BCADD788FA123D50328F644D63FD\n"
     ]
    },
    {
     "name": "stdout",
     "output_type": "stream",
     "text": [
      "Tx error code: 0\n",
      "{\n",
      "  \"type\": \"dysonprotocol.nameservice.v1.EventBidAccepted\",\n",
      "  \"attributes\": [\n",
      "    {\n",
      "      \"key\": \"class_id\",\n",
      "      \"value\": \"\\\"nameservice.dys\\\"\",\n",
      "      \"index\": true\n",
      "    },\n",
      "    {\n",
      "      \"key\": \"new_owner\",\n",
      "      \"value\": \"\\\"dys1fhhxp9xveswc4yhxekr32eqe80rkwpurya0jh0\\\"\",\n",
      "      \"index\": true\n",
      "    },\n",
      "    {\n",
      "      \"key\": \"nft_id\",\n",
      "      \"value\": \"\\\"alice-px4fp.dys\\\"\",\n",
      "      \"index\": true\n",
      "    },\n",
      "    {\n",
      "      \"key\": \"msg_index\",\n",
      "      \"value\": \"0\",\n",
      "      \"index\": true\n",
      "    }\n",
      "  ]\n",
      "}\n"
     ]
    }
   ],
   "source": [
    "# Alice accepts Bob's bid\n",
    "#   dysond tx nameservice accept-bid --nft-class-id=<class-id> --nft-id=<nft-id> [flags]\n",
    "\n",
    "tx = ! dysond tx nameservice accept-bid \\\n",
    "    --nft-class-id=\"nameservice.dys\" \\\n",
    "    --nft-id=$name \\\n",
    "    --from=alice \\\n",
    "    -y \\\n",
    "    -o json | jq -r .txhash\n",
    "\n",
    "txhash = tx[0]\n",
    "\n",
    "print(f\"Transaction hash: {txhash}\")\n",
    "tx_result = ! dysond query wait-tx $txhash -o json\n",
    "tx_result = json.loads(\"\".join(tx_result))\n",
    "\n",
    "print(f\"Tx error code: {tx_result['code']}\")\n",
    "assert tx_result['code'] == 0, f\"Tx failed with code {tx_result['code']}, {tx_result['raw_log']}\"\n",
    "\n",
    "for event in tx_result['events']:\n",
    "    if 'dysonprotocol' in event['type']:\n",
    "        print(json.dumps(event, indent=2))\n"
   ]
  },
  {
   "cell_type": "markdown",
   "metadata": {},
   "source": [
    "### Verify Name Ownership\n",
    "\n",
    "Let's verify that the name has been transferred to Bob."
   ]
  },
  {
   "cell_type": "code",
   "execution_count": 34,
   "metadata": {
    "execution": {
     "iopub.execute_input": "2025-06-06T10:46:19.719786Z",
     "iopub.status.busy": "2025-06-06T10:46:19.719684Z",
     "iopub.status.idle": "2025-06-06T10:46:19.869046Z",
     "shell.execute_reply": "2025-06-06T10:46:19.868736Z"
    }
   },
   "outputs": [
    {
     "name": "stdout",
     "output_type": "stream",
     "text": [
      "Bob's address: ['dys1fhhxp9xveswc4yhxekr32eqe80rkwpurya0jh0']\n"
     ]
    },
    {
     "name": "stdout",
     "output_type": "stream",
     "text": [
      "dys1fhhxp9xveswc4yhxekr32eqe80rkwpurya0jh0\n"
     ]
    }
   ],
   "source": [
    "out = ! dysond keys show bob -a\n",
    "bob_address = \"\\n\".join(out).strip()\n",
    "print(f\"Bob's address: {out}\")\n",
    "\n",
    "out = ! dysond query nft owner nameservice.dys $name -o json | jq \n",
    "out = \"\\n\".join(out).strip()\n",
    "nft_owner_data = json.loads(out)\n",
    "nft_owner = nft_owner_data['owner']\n",
    "print(nft_owner)\n",
    "\n",
    "assert nft_owner == bob_address, \"Expected 'alice' in output, got: \" + nft_owner"
   ]
  },
  {
   "cell_type": "markdown",
   "metadata": {},
   "source": [
    "## Conclusion\n",
    "\n",
    "This guide has demonstrated the key features of the Dyson Protocol Nameservice Module. We've covered:\n",
    "\n",
    "1. Name registration through a commit-reveal process\n",
    "2. Setting name destinations for resolution\n",
    "3. Creating NFT collections and minting NFTs\n",
    "4. Managing metadata for NFTs and collections\n",
    "5. Minting custom coins with name-based denominations\n",
    "6. Trading names through a bidding system\n",
    "\n",
    "These capabilities enable a powerful decentralized namespace system that integrates with NFTs and custom tokens, forming a foundation for various applications on the Dyson Protocol blockchain."
   ]
  }
 ],
 "metadata": {
  "kernelspec": {
   "display_name": "Python 3",
   "language": "python",
   "name": "python3"
  },
  "language_info": {
   "codemirror_mode": {
    "name": "ipython",
    "version": 3
   },
   "file_extension": ".py",
   "mimetype": "text/x-python",
   "name": "python",
   "nbconvert_exporter": "python",
   "pygments_lexer": "ipython3",
   "version": "3.12.2"
  }
 },
 "nbformat": 4,
 "nbformat_minor": 2
}
