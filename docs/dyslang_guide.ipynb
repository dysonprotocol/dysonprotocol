{
 "cells": [
  {
   "cell_type": "markdown",
   "metadata": {},
   "source": [
    "# Dyson Protocol Language Module Guide\n",
    "\n",
    "This notebook provides a comprehensive guide to the Dyson Protocol Language Module (dyslang), which offers a secure and sandboxed Python execution environment on the blockchain. Through practical examples, we'll explore how to interact with the blockchain state, manage gas consumption, and leverage the powerful features of the `dys` module to build robust decentralized applications."
   ]
  },
  {
   "cell_type": "markdown",
   "metadata": {},
   "source": [
    "## Introduction to dyslang\n",
    "\n",
    "The dyslang module serves as the backbone for on-chain Python execution in the Dyson Protocol. It provides a set of functions that enable scripts to:\n",
    "\n",
    "- **Query Chain State**: Access account balances, contract data, and module parameters\n",
    "- **Execute Transactions**: Send tokens, create contracts, and interact with other modules\n",
    "- **Manage Resources**: Monitor gas consumption and execution limits\n",
    "- **Access Context**: Retrieve information about the current script, executor, and block\n",
    "- **Emit Events**: Produce blockchain events that can be indexed and monitored\n",
    "- **Evaluate Code**: Execute dynamic Python code within a controlled environment\n",
    "\n",
    "Let's dive into these features with practical examples."
   ]
  },
  {
   "cell_type": "markdown",
   "metadata": {},
   "source": [
    "## Setting Up\n",
    "\n",
    "Before we start, let's set up our environment by defining our test accounts:"
   ]
  },
  {
   "cell_type": "code",
   "execution_count": 1,
   "metadata": {
    "execution": {
     "iopub.execute_input": "2025-06-20T13:35:38.993711Z",
     "iopub.status.busy": "2025-06-20T13:35:38.993602Z",
     "iopub.status.idle": "2025-06-20T13:35:39.145565Z",
     "shell.execute_reply": "2025-06-20T13:35:39.145221Z"
    }
   },
   "outputs": [
    {
     "name": "stdout",
     "output_type": "stream",
     "text": [
      "Using alice address: dys1tvhkv3gqr90jpycaky02xa5ukhaxllu38wawhz\n",
      "Using bob address: dys1fhhxp9xveswc4yhxekr32eqe80rkwpurya0jh0\n"
     ]
    }
   ],
   "source": [
    "# Get addresses of our test accounts\n",
    "[ALICE_ADDRESS] = ! dysond keys show -a alice\n",
    "[BOB_ADDRESS] = ! dysond keys show -a bob\n",
    "\n",
    "print(f\"Using alice address: {ALICE_ADDRESS}\")\n",
    "print(f\"Using bob address: {BOB_ADDRESS}\")"
   ]
  },
  {
   "cell_type": "markdown",
   "metadata": {},
   "source": [
    "## Chain Interaction\n",
    "\n",
    "The dyslang module provides two primary functions for interacting with the blockchain: `_query` and `_msg`.\n",
    "\n",
    "- `_query`: Used to query the blockchain state (read-only operations)\n",
    "- `_msg`: Used to submit transactions that modify the blockchain state\n",
    "\n",
    "Let's explore these functions with practical examples."
   ]
  },
  {
   "cell_type": "markdown",
   "metadata": {},
   "source": [
    "### Querying Account Balances\n",
    "\n",
    "One common operation is to query an account's balance. Let's create a script that queries the balance of an account:"
   ]
  },
  {
   "cell_type": "code",
   "execution_count": 2,
   "metadata": {
    "execution": {
     "iopub.execute_input": "2025-06-20T13:35:39.164841Z",
     "iopub.status.busy": "2025-06-20T13:35:39.164664Z",
     "iopub.status.idle": "2025-06-20T13:35:39.517368Z",
     "shell.execute_reply": "2025-06-20T13:35:39.516991Z"
    }
   },
   "outputs": [
    {
     "name": "stdout",
     "output_type": "stream",
     "text": [
      "{\n",
      "  \"@type\": \"/cosmos.bank.v1beta1.QueryBalanceResponse\",\n",
      "  \"balance\": {\n",
      "    \"amount\": \"9998929583\",\n",
      "    \"denom\": \"dys\"\n",
      "  }\n",
      "}\n"
     ]
    }
   ],
   "source": [
    "import json\n",
    "import shlex\n",
    "\n",
    "# Create a script that queries the account balance\n",
    "query_script = '''\n",
    "from dys import _query, get_script_address\n",
    "import json\n",
    "\n",
    "def query_balance():\n",
    "    # Query the script's own balance\n",
    "    script_address = get_script_address()\n",
    "    response = _query({\n",
    "        \"@type\": \"/cosmos.bank.v1beta1.QueryBalanceRequest\",\n",
    "        \"address\": script_address,\n",
    "        \"denom\": \"dys\"\n",
    "    })\n",
    "    return response\n",
    "'''\n",
    "\n",
    "# Save the script to a temporary file and execute it\n",
    "with open('/tmp/query_balance.py', 'w') as f:\n",
    "    f.write(query_script)\n",
    "\n",
    "# Execute the script using simulate_exec.py\n",
    "out = ! ../scripts/simulate_exec.py /tmp/query_balance.py --from alice --script-address $ALICE_ADDRESS --function-name query_balance\n",
    "out = '\\n'.join(out)\n",
    "result = json.loads(out)\n",
    "\n",
    "# Extract and display the balance\n",
    "script_result = result['script_result']['result']\n",
    "balance_response = script_result['result']\n",
    "print(json.dumps(balance_response, indent=2))"
   ]
  },
  {
   "cell_type": "markdown",
   "metadata": {},
   "source": [
    "### Querying Multiple Account Balances\n",
    "\n",
    "Let's create a more advanced script that queries the balances of multiple accounts:"
   ]
  },
  {
   "cell_type": "code",
   "execution_count": 3,
   "metadata": {
    "execution": {
     "iopub.execute_input": "2025-06-20T13:35:39.518943Z",
     "iopub.status.busy": "2025-06-20T13:35:39.518825Z",
     "iopub.status.idle": "2025-06-20T13:35:39.887910Z",
     "shell.execute_reply": "2025-06-20T13:35:39.887569Z"
    }
   },
   "outputs": [
    {
     "name": "stdout",
     "output_type": "stream",
     "text": [
      "{\n",
      "  \"alice_balance\": {\n",
      "    \"@type\": \"/cosmos.bank.v1beta1.QueryBalanceResponse\",\n",
      "    \"balance\": {\n",
      "      \"amount\": \"9998929583\",\n",
      "      \"denom\": \"dys\"\n",
      "    }\n",
      "  },\n",
      "  \"bob_balance\": {\n",
      "    \"@type\": \"/cosmos.bank.v1beta1.QueryBalanceResponse\",\n",
      "    \"balance\": {\n",
      "      \"amount\": \"10000000000\",\n",
      "      \"denom\": \"dys\"\n",
      "    }\n",
      "  }\n",
      "}\n"
     ]
    }
   ],
   "source": [
    "# Create a script that queries multiple account balances\n",
    "query_multi_script = f'''\n",
    "from dys import _query\n",
    "import json\n",
    "\n",
    "def query_multiple_balances():\n",
    "    # Define the addresses to query\n",
    "    alice_address = \"{ALICE_ADDRESS}\"\n",
    "    bob_address = \"{BOB_ADDRESS}\"\n",
    "    \n",
    "    # Query Alice's balance\n",
    "    alice_balance = _query({{\n",
    "        \"@type\": \"/cosmos.bank.v1beta1.QueryBalanceRequest\",\n",
    "        \"address\": alice_address,\n",
    "        \"denom\": \"dys\"\n",
    "    }})\n",
    "    \n",
    "    # Query Bob's balance\n",
    "    bob_balance = _query({{\n",
    "        \"@type\": \"/cosmos.bank.v1beta1.QueryBalanceRequest\",\n",
    "        \"address\": bob_address,\n",
    "        \"denom\": \"dys\"\n",
    "    }})\n",
    "    \n",
    "    # Return both balances\n",
    "    return {{\n",
    "        \"alice_balance\": alice_balance,\n",
    "        \"bob_balance\": bob_balance\n",
    "    }}\n",
    "'''\n",
    "\n",
    "# Save the script to a temporary file and execute it\n",
    "with open('/tmp/query_multi_balance.py', 'w') as f:\n",
    "    f.write(query_multi_script)\n",
    "\n",
    "# Execute the script\n",
    "out = ! ../scripts/simulate_exec.py /tmp/query_multi_balance.py --from alice --script-address $ALICE_ADDRESS --function-name query_multiple_balances\n",
    "out = '\\n'.join(out)\n",
    "result = json.loads(out)\n",
    "\n",
    "# Extract and display the results\n",
    "script_result = result['script_result']['result']\n",
    "balances = script_result['result']\n",
    "print(json.dumps(balances, indent=2))"
   ]
  },
  {
   "cell_type": "markdown",
   "metadata": {},
   "source": [
    "## Gas Management\n",
    "\n",
    "In blockchain environments, computational resources are metered using a concept called \"gas\". The dyslang module provides several functions to help you monitor and manage gas consumption in your scripts."
   ]
  },
  {
   "cell_type": "markdown",
   "metadata": {},
   "source": [
    "### Monitoring Gas Consumption\n",
    "\n",
    "Let's create a script that measures the gas consumed by various operations:"
   ]
  },
  {
   "cell_type": "code",
   "execution_count": 4,
   "metadata": {
    "execution": {
     "iopub.execute_input": "2025-06-20T13:35:39.889582Z",
     "iopub.status.busy": "2025-06-20T13:35:39.889455Z",
     "iopub.status.idle": "2025-06-20T13:35:40.240044Z",
     "shell.execute_reply": "2025-06-20T13:35:40.239685Z"
    }
   },
   "outputs": [
    {
     "name": "stdout",
     "output_type": "stream",
     "text": [
      "{\n",
      "  \"code\": 0,\n",
      "  \"script_result\": {\n",
      "    \"result\": {\n",
      "      \"cumsize\": 64953,\n",
      "      \"exception\": null,\n",
      "      \"gas_limit\": 18446744073709551615,\n",
      "      \"nodes_called\": 133,\n",
      "      \"result\": {\n",
      "        \"after_query_gas\": 57474,\n",
      "        \"final_gas\": 96047,\n",
      "        \"initial_gas\": 50148,\n",
      "        \"iterations_gas\": 38573,\n",
      "        \"per_iteration\": 7714.6,\n",
      "        \"query_gas\": 7326\n",
      "      },\n",
      "      \"script_gas_consumed\": 49232,\n",
      "      \"stdout\": \"Iteration 1 of 5\\nIteration 2 of 5\\nIteration 3 of 5\\nIteration 4 of 5\\nIteration 5 of 5\\n\"\n",
      "    },\n",
      "    \"attached_message_results\": []\n",
      "  },\n",
      "  \"raw_log\": \"\",\n",
      "  \"events\": [\n",
      "    {\n",
      "      \"type\": \"tx\",\n",
      "      \"attributes\": [\n",
      "        {\n",
      "          \"key\": \"acc_seq\",\n",
      "          \"value\": \"dys1tvhkv3gqr90jpycaky02xa5ukhaxllu38wawhz/61\",\n",
      "          \"index\": false\n",
      "        }\n",
      "      ]\n",
      "    },\n",
      "    {\n",
      "      \"type\": \"tx\",\n",
      "      \"attributes\": [\n",
      "        {\n",
      "          \"key\": \"signature\",\n",
      "          \"value\": \"\",\n",
      "          \"index\": false\n",
      "        }\n",
      "      ]\n",
      "    },\n",
      "    {\n",
      "      \"type\": \"message\",\n",
      "      \"attributes\": [\n",
      "        {\n",
      "          \"key\": \"action\",\n",
      "          \"value\": \"/dysonprotocol.script.v1.MsgExec\",\n",
      "          \"index\": false\n",
      "        },\n",
      "        {\n",
      "          \"key\": \"sender\",\n",
      "          \"value\": \"dys1tvhkv3gqr90jpycaky02xa5ukhaxllu38wawhz\",\n",
      "          \"index\": false\n",
      "        },\n",
      "        {\n",
      "          \"key\": \"module\",\n",
      "          \"value\": \"script\",\n",
      "          \"index\": false\n",
      "        },\n",
      "        {\n",
      "          \"key\": \"msg_index\",\n",
      "          \"value\": \"0\",\n",
      "          \"index\": false\n",
      "        }\n",
      "      ]\n",
      "    },\n",
      "    {\n",
      "      \"type\": \"dysonprotocol.script.v1.EventExecScript\",\n",
      "      \"attributes\": [\n",
      "        {\n",
      "          \"key\": \"request\",\n",
      "          \"value\": \"{\\\"executor_address\\\":\\\"dys1tvhkv3gqr90jpycaky02xa5ukhaxllu38wawhz\\\",\\\"script_address\\\":\\\"dys1tvhkv3gqr90jpycaky02xa5ukhaxllu38wawhz\\\",\\\"extra_code\\\":\\\"\\\\nfrom dys import _query, get_gas_consumed, get_script_address, get_gas_limit\\\\nimport json\\\\n\\\\ndef benchmark_gas(iterations=5):\\\\n    # Start tracking gas\\\\n    initial_gas = get_gas_consumed()\\\\n    \\\\n    # Perform a query that consumes gas\\\\n    script_address = get_script_address()\\\\n    balance_response = _query({\\\\n        \\\\\\\"@type\\\\\\\": \\\\\\\"/cosmos.bank.v1beta1.QueryBalanceRequest\\\\\\\",\\\\n        \\\\\\\"address\\\\\\\": script_address,\\\\n        \\\\\\\"denom\\\\\\\": \\\\\\\"dys\\\\\\\"\\\\n    })\\\\n    \\\\n    # Check gas after query\\\\n    after_query_gas = get_gas_consumed()\\\\n    \\\\n    # Run some iterations to measure their gas cost\\\\n    for i in range(iterations):\\\\n        print(f\\\\\\\"Iteration {i+1} of {iterations}\\\\\\\")\\\\n    \\\\n    # Check final gas consumption\\\\n    final_gas = get_gas_consumed()\\\\n    \\\\n    # Calculate gas used by different operations\\\\n    query_gas = after_query_gas - initial_gas\\\\n    iterations_gas = final_gas - after_query_gas\\\\n    \\\\n    return {\\\\n        \\\\\\\"initial_gas\\\\\\\": initial_gas,\\\\n        \\\\\\\"after_query_gas\\\\\\\": after_query_gas,\\\\n        \\\\\\\"final_gas\\\\\\\": final_gas,\\\\n        \\\\\\\"query_gas\\\\\\\": query_gas,\\\\n        \\\\\\\"iterations_gas\\\\\\\": iterations_gas,\\\\n        \\\\\\\"per_iteration\\\\\\\": iterations_gas / iterations\\\\n    }\\\\n\\\",\\\"function_name\\\":\\\"benchmark_gas\\\",\\\"args\\\":\\\"\\\",\\\"kwargs\\\":\\\"\\\",\\\"attached_messages\\\":[]}\",\n",
      "          \"index\": false\n",
      "        },\n",
      "        {\n",
      "          \"key\": \"response\",\n",
      "          \"value\": \"{\\\"result\\\":\\\"{\\\\\\\"cumsize\\\\\\\":64953,\\\\\\\"exception\\\\\\\":null,\\\\\\\"gas_limit\\\\\\\":18446744073709551615,\\\\\\\"nodes_called\\\\\\\":133,\\\\\\\"result\\\\\\\":{\\\\\\\"after_query_gas\\\\\\\":57474,\\\\\\\"final_gas\\\\\\\":96047,\\\\\\\"initial_gas\\\\\\\":50148,\\\\\\\"iterations_gas\\\\\\\":38573,\\\\\\\"per_iteration\\\\\\\":7714.6,\\\\\\\"query_gas\\\\\\\":7326},\\\\\\\"script_gas_consumed\\\\\\\":49232,\\\\\\\"stdout\\\\\\\":\\\\\\\"Iteration 1 of 5\\\\\\\\nIteration 2 of 5\\\\\\\\nIteration 3 of 5\\\\\\\\nIteration 4 of 5\\\\\\\\nIteration 5 of 5\\\\\\\\n\\\\\\\"}\\\",\\\"attached_message_results\\\":[]}\",\n",
      "          \"index\": false\n",
      "        },\n",
      "        {\n",
      "          \"key\": \"msg_index\",\n",
      "          \"value\": \"0\",\n",
      "          \"index\": false\n",
      "        }\n",
      "      ]\n",
      "    }\n",
      "  ]\n",
      "}\n",
      "Gas report for benchmark operations:\n",
      "- Initial gas consumed: 50148\n",
      "- Gas after query: 57474\n",
      "- Gas after iterations: 96047\n",
      "- Total gas for query: 7326\n",
      "- Total gas for iterations: 38573\n",
      "- Average gas per iteration: 7714.6\n"
     ]
    }
   ],
   "source": [
    "# Create a script to benchmark gas consumption\n",
    "gas_benchmark_script = '''\n",
    "from dys import _query, get_gas_consumed, get_script_address, get_gas_limit\n",
    "import json\n",
    "\n",
    "def benchmark_gas(iterations=5):\n",
    "    # Start tracking gas\n",
    "    initial_gas = get_gas_consumed()\n",
    "    \n",
    "    # Perform a query that consumes gas\n",
    "    script_address = get_script_address()\n",
    "    balance_response = _query({\n",
    "        \"@type\": \"/cosmos.bank.v1beta1.QueryBalanceRequest\",\n",
    "        \"address\": script_address,\n",
    "        \"denom\": \"dys\"\n",
    "    })\n",
    "    \n",
    "    # Check gas after query\n",
    "    after_query_gas = get_gas_consumed()\n",
    "    \n",
    "    # Run some iterations to measure their gas cost\n",
    "    for i in range(iterations):\n",
    "        print(f\"Iteration {i+1} of {iterations}\")\n",
    "    \n",
    "    # Check final gas consumption\n",
    "    final_gas = get_gas_consumed()\n",
    "    \n",
    "    # Calculate gas used by different operations\n",
    "    query_gas = after_query_gas - initial_gas\n",
    "    iterations_gas = final_gas - after_query_gas\n",
    "    \n",
    "    return {\n",
    "        \"initial_gas\": initial_gas,\n",
    "        \"after_query_gas\": after_query_gas,\n",
    "        \"final_gas\": final_gas,\n",
    "        \"query_gas\": query_gas,\n",
    "        \"iterations_gas\": iterations_gas,\n",
    "        \"per_iteration\": iterations_gas / iterations\n",
    "    }\n",
    "'''\n",
    "\n",
    "# Save and execute the script\n",
    "with open('/tmp/gas_benchmark.py', 'w') as f:\n",
    "    f.write(gas_benchmark_script)\n",
    "\n",
    "out = ! ../scripts/simulate_exec.py /tmp/gas_benchmark.py --from alice --script-address $ALICE_ADDRESS --function-name benchmark_gas --gas auto\n",
    "out = '\\n'.join(out)\n",
    "print(out)\n",
    "result = json.loads(out)\n",
    "\n",
    "# Extract and display the gas measurements\n",
    "script_result = result['script_result']['result']\n",
    "gas_metrics = script_result['result']\n",
    "\n",
    "print(f\"Gas report for benchmark operations:\")\n",
    "print(f\"- Initial gas consumed: {gas_metrics['initial_gas']}\")\n",
    "print(f\"- Gas after query: {gas_metrics['after_query_gas']}\")\n",
    "print(f\"- Gas after iterations: {gas_metrics['final_gas']}\")\n",
    "print(f\"- Total gas for query: {gas_metrics['query_gas']}\")\n",
    "print(f\"- Total gas for iterations: {gas_metrics['iterations_gas']}\")\n",
    "print(f\"- Average gas per iteration: {gas_metrics['per_iteration']}\")"
   ]
  },
  {
   "cell_type": "markdown",
   "metadata": {},
   "source": [
    "### Gas Limits\n",
    "\n",
    "Each execution has a gas limit to prevent infinite loops or excessive computation. Let's check the gas limit for our execution:"
   ]
  },
  {
   "cell_type": "code",
   "execution_count": 5,
   "metadata": {
    "execution": {
     "iopub.execute_input": "2025-06-20T13:35:40.241694Z",
     "iopub.status.busy": "2025-06-20T13:35:40.241571Z",
     "iopub.status.idle": "2025-06-20T13:35:40.599976Z",
     "shell.execute_reply": "2025-06-20T13:35:40.599612Z"
    }
   },
   "outputs": [
    {
     "name": "stdout",
     "output_type": "stream",
     "text": [
      "Gas limit for this execution: 18446744073709551615\n"
     ]
    }
   ],
   "source": [
    "# Create a script to check the gas limit\n",
    "gas_limit_script = '''\n",
    "from dys import get_gas_limit\n",
    "\n",
    "def check_limit():\n",
    "    # Check the gas limit for the current execution\n",
    "    limit = get_gas_limit()\n",
    "    return {\"gas_limit\": limit}\n",
    "'''\n",
    "\n",
    "# Save and execute the script\n",
    "with open('/tmp/gas_limit.py', 'w') as f:\n",
    "    f.write(gas_limit_script)\n",
    "\n",
    "out = ! ../scripts/simulate_exec.py /tmp/gas_limit.py --from alice --script-address $ALICE_ADDRESS --function-name check_limit\n",
    "out = '\\n'.join(out)\n",
    "result = json.loads(out)\n",
    "\n",
    "# Extract and display the gas limit\n",
    "script_result = result['script_result']['result']\n",
    "gas_limit = script_result['result']['gas_limit']\n",
    "print(f\"Gas limit for this execution: {gas_limit}\")"
   ]
  },
  {
   "cell_type": "markdown",
   "metadata": {},
   "source": [
    "### Node Execution Tracking\n",
    "\n",
    "The dyslang module tracks the execution of Python AST nodes. This is useful for understanding the computational complexity of your scripts:"
   ]
  },
  {
   "cell_type": "code",
   "execution_count": 6,
   "metadata": {
    "execution": {
     "iopub.execute_input": "2025-06-20T13:35:40.601771Z",
     "iopub.status.busy": "2025-06-20T13:35:40.601653Z",
     "iopub.status.idle": "2025-06-20T13:35:40.963171Z",
     "shell.execute_reply": "2025-06-20T13:35:40.962803Z"
    }
   },
   "outputs": [
    {
     "name": "stdout",
     "output_type": "stream",
     "text": [
      "Node execution metrics:\n",
      "- Nodes called: 106\n",
      "- Calculation result: 90\n"
     ]
    }
   ],
   "source": [
    "# Create a script to measure node execution\n",
    "node_count_script = '''\n",
    "from dys import _query, get_nodes_called, get_script_address\n",
    "import json\n",
    "\n",
    "def count_nodes():\n",
    "    \"\"\"\n",
    "    Demonstrate node counting by performing operations of varying complexity\n",
    "    \"\"\"\n",
    "    # Simple operations\n",
    "    a = 1 + 2\n",
    "    \n",
    "    # More complex operation that will use more nodes\n",
    "    script_address = get_script_address()\n",
    "    _query({\n",
    "        \"@type\": \"/cosmos.bank.v1beta1.QueryBalanceRequest\",\n",
    "        \"address\": script_address,\n",
    "        \"denom\": \"dys\"\n",
    "    })\n",
    "    \n",
    "    # Complex calculation with loop\n",
    "    result = 0\n",
    "    for i in range(10):\n",
    "        result += i * 2\n",
    "    \n",
    "    # Get the count of AST nodes evaluated\n",
    "    nodes_called = get_nodes_called()\n",
    "    \n",
    "    return {\n",
    "        \"nodes_called\": nodes_called,\n",
    "        \"calculation_result\": result\n",
    "    }\n",
    "'''\n",
    "\n",
    "# Save and execute the script\n",
    "with open('/tmp/node_count.py', 'w') as f:\n",
    "    f.write(node_count_script)\n",
    "\n",
    "out = ! ../scripts/simulate_exec.py /tmp/node_count.py --from alice --script-address $ALICE_ADDRESS --function-name count_nodes\n",
    "out = '\\n'.join(out)\n",
    "result = json.loads(out)\n",
    "\n",
    "# Extract and display the node metrics\n",
    "script_result = result['script_result']['result']\n",
    "node_metrics = script_result['result']\n",
    "print(f\"Node execution metrics:\")\n",
    "print(f\"- Nodes called: {node_metrics['nodes_called']}\")\n",
    "print(f\"- Calculation result: {node_metrics['calculation_result']}\")"
   ]
  },
  {
   "cell_type": "markdown",
   "metadata": {},
   "source": [
    "### Memory Usage Tracking\n",
    "\n",
    "The dyslang module also tracks memory usage through the `get_cumulative_size()` function:"
   ]
  },
  {
   "cell_type": "code",
   "execution_count": 7,
   "metadata": {
    "execution": {
     "iopub.execute_input": "2025-06-20T13:35:40.964742Z",
     "iopub.status.busy": "2025-06-20T13:35:40.964609Z",
     "iopub.status.idle": "2025-06-20T13:35:41.345673Z",
     "shell.execute_reply": "2025-06-20T13:35:41.345267Z"
    }
   },
   "outputs": [
    {
     "name": "stdout",
     "output_type": "stream",
     "text": [
      "Memory usage: 313 bytes\n"
     ]
    }
   ],
   "source": [
    "# Create a script to check memory usage\n",
    "memory_script = '''\n",
    "from dys import get_cumulative_size\n",
    "\n",
    "def check_memory():\n",
    "    # Check the cumulative memory size used\n",
    "    size = get_cumulative_size()\n",
    "    return {\"memory_used\": size}\n",
    "'''\n",
    "\n",
    "# Save and execute the script\n",
    "with open('/tmp/memory_check.py', 'w') as f:\n",
    "    f.write(memory_script)\n",
    "\n",
    "out = ! ../scripts/simulate_exec.py /tmp/memory_check.py --from alice --script-address $ALICE_ADDRESS --function-name check_memory\n",
    "out = '\\n'.join(out)\n",
    "result = json.loads(out)\n",
    "\n",
    "# Extract and display the memory usage\n",
    "script_result = result['script_result']['result']\n",
    "memory_used = script_result['result']['memory_used']\n",
    "print(f\"Memory usage: {memory_used} bytes\")"
   ]
  },
  {
   "cell_type": "markdown",
   "metadata": {},
   "source": [
    "## Context Information\n",
    "\n",
    "The dyslang module provides several functions to access contextual information about the current execution environment, including the script's address, the executor's address, and block information."
   ]
  },
  {
   "cell_type": "markdown",
   "metadata": {},
   "source": [
    "### Script and Executor Addresses\n",
    "\n",
    "Let's create a script that retrieves information about the script's own address and the address of the account executing the script:"
   ]
  },
  {
   "cell_type": "code",
   "execution_count": 8,
   "metadata": {
    "execution": {
     "iopub.execute_input": "2025-06-20T13:35:41.347353Z",
     "iopub.status.busy": "2025-06-20T13:35:41.347218Z",
     "iopub.status.idle": "2025-06-20T13:35:41.706792Z",
     "shell.execute_reply": "2025-06-20T13:35:41.706438Z"
    }
   },
   "outputs": [
    {
     "name": "stdout",
     "output_type": "stream",
     "text": [
      "Script Address: dys1tvhkv3gqr90jpycaky02xa5ukhaxllu38wawhz\n",
      "Executor Address: dys1fhhxp9xveswc4yhxekr32eqe80rkwpurya0jh0\n",
      "Self-execution: False\n"
     ]
    }
   ],
   "source": [
    "# Create a script to get address information\n",
    "address_script = '''\n",
    "from dys import get_executor_address, get_script_address\n",
    "\n",
    "def who_called_me():\n",
    "    \"\"\"Returns information about who executed this script\"\"\"\n",
    "    # Get the script's own address\n",
    "    script_address = get_script_address()\n",
    "    \n",
    "    # Get the address of who called this script\n",
    "    caller_address = get_executor_address()\n",
    "    \n",
    "    # Check if the script was called by its owner\n",
    "    is_self_call = script_address == caller_address\n",
    "    \n",
    "    return {\n",
    "        \"script_address\": script_address,\n",
    "        \"caller_address\": caller_address,\n",
    "        \"is_self_call\": is_self_call\n",
    "    }\n",
    "'''\n",
    "\n",
    "# Save and execute the script\n",
    "with open('/tmp/address_info.py', 'w') as f:\n",
    "    f.write(address_script)\n",
    "\n",
    "# Execute with Bob calling Alice's script\n",
    "out = ! ../scripts/simulate_exec.py /tmp/address_info.py --from bob --script-address $ALICE_ADDRESS --function-name who_called_me\n",
    "out = '\\n'.join(out)\n",
    "result = json.loads(out)\n",
    "\n",
    "# Extract and display the address information\n",
    "script_result = result['script_result']['result']\n",
    "address_info = script_result['result']\n",
    "print(f\"Script Address: {address_info['script_address']}\")\n",
    "print(f\"Executor Address: {address_info['caller_address']}\")\n",
    "print(f\"Self-execution: {address_info['is_self_call']}\")"
   ]
  },
  {
   "cell_type": "markdown",
   "metadata": {},
   "source": [
    "### Block Information\n",
    "\n",
    "Let's retrieve information about the current block:"
   ]
  },
  {
   "cell_type": "code",
   "execution_count": 9,
   "metadata": {
    "execution": {
     "iopub.execute_input": "2025-06-20T13:35:41.708772Z",
     "iopub.status.busy": "2025-06-20T13:35:41.708411Z",
     "iopub.status.idle": "2025-06-20T13:35:42.051238Z",
     "shell.execute_reply": "2025-06-20T13:35:42.050854Z"
    }
   },
   "outputs": [
    {
     "name": "stdout",
     "output_type": "stream",
     "text": [
      "Block Information:\n",
      "- Height: None\n",
      "- Chain ID: None\n",
      "- Time: None\n"
     ]
    }
   ],
   "source": [
    "# Create a script to get block information\n",
    "block_info_script = '''\n",
    "from dys import get_block_info\n",
    "\n",
    "def show_block_info():\n",
    "    \"\"\"Get basic block information\"\"\"\n",
    "    block = get_block_info()\n",
    "    return {\n",
    "        \"height\": block.get(\"Height\"),\n",
    "        \"chain_id\": block.get(\"ChainID\"),\n",
    "        \"time\": block.get(\"Time\")\n",
    "    }\n",
    "'''\n",
    "\n",
    "# Save and execute the script\n",
    "with open('/tmp/block_info.py', 'w') as f:\n",
    "    f.write(block_info_script)\n",
    "\n",
    "out = ! ../scripts/simulate_exec.py /tmp/block_info.py --from alice --script-address $ALICE_ADDRESS --function-name show_block_info\n",
    "out = '\\n'.join(out)\n",
    "result = json.loads(out)\n",
    "\n",
    "# Extract and display the block information\n",
    "script_result = result['script_result']['result']\n",
    "block_info = script_result['result']\n",
    "print(f\"Block Information:\")\n",
    "print(f\"- Height: {block_info['height']}\")\n",
    "print(f\"- Chain ID: {block_info['chain_id']}\")\n",
    "print(f\"- Time: {block_info['time']}\")"
   ]
  },
  {
   "cell_type": "markdown",
   "metadata": {},
   "source": [
    "## Transaction Data\n",
    "\n",
    "The dyslang module allows scripts to access information about attached messages in transactions. This is particularly useful for scripts that need to process multiple operations in a single transaction."
   ]
  },
  {
   "cell_type": "markdown",
   "metadata": {},
   "source": [
    "### Attached Messages\n",
    "\n",
    "Let's create a script that checks for attached messages:"
   ]
  },
  {
   "cell_type": "code",
   "execution_count": 10,
   "metadata": {
    "execution": {
     "iopub.execute_input": "2025-06-20T13:35:42.052907Z",
     "iopub.status.busy": "2025-06-20T13:35:42.052786Z",
     "iopub.status.idle": "2025-06-20T13:35:42.414503Z",
     "shell.execute_reply": "2025-06-20T13:35:42.414135Z"
    }
   },
   "outputs": [
    {
     "name": "stdout",
     "output_type": "stream",
     "text": [
      "Message: {'@type': '/cosmos.bank.v1beta1.MsgSend', 'amount': [{'amount': '12', 'denom': 'dys'}], 'from_address': 'dys1tvhkv3gqr90jpycaky02xa5ukhaxllu38wawhz', 'to_address': 'dys1fhhxp9xveswc4yhxekr32eqe80rkwpurya0jh0'}\n",
      "Result: {'@type': '/cosmos.bank.v1beta1.MsgSendResponse'}\n",
      "Message: {'@type': '/cosmos.bank.v1beta1.MsgSend', 'amount': [{'amount': '34', 'denom': 'dys'}], 'from_address': 'dys1tvhkv3gqr90jpycaky02xa5ukhaxllu38wawhz', 'to_address': 'dys1fhhxp9xveswc4yhxekr32eqe80rkwpurya0jh0'}\n",
      "Result: {'@type': '/cosmos.bank.v1beta1.MsgSendResponse'}\n"
     ]
    }
   ],
   "source": [
    "# Create a script to check for attached messages\n",
    "\n",
    "msg1 = shlex.quote(json.dumps({\n",
    "        \"@type\":\"/cosmos.bank.v1beta1.MsgSend\",\n",
    "        \"from_address\": ALICE_ADDRESS,\n",
    "        \"to_address\": BOB_ADDRESS,\n",
    "        \"amount\":[{\"denom\":\"dys\",\"amount\":\"12\"}]\n",
    "    }))\n",
    "\n",
    "\n",
    "msg2 = shlex.quote(json.dumps({\n",
    "    \"@type\":\"/cosmos.bank.v1beta1.MsgSend\",\n",
    "    \"from_address\": ALICE_ADDRESS   ,\n",
    "    \"to_address\": BOB_ADDRESS,\n",
    "    \"amount\":[{\"denom\":\"dys\",\"amount\":\"34\"}]\n",
    "}))\n",
    "\n",
    "attached_msgs_script = '''\n",
    "from dys import get_attached_messages, get_attached_msg_results\n",
    "\n",
    "def check_messages():\n",
    "    # Access attached messages\n",
    "    attached_messages = get_attached_messages()\n",
    "    attached_msg_results = get_attached_msg_results()\n",
    "    return {\"attached_messages\": attached_messages, \"attached_msg_results\": attached_msg_results}\n",
    "'''\n",
    "\n",
    "# Save and execute the script\n",
    "with open('/tmp/attached_msgs.py', 'w') as f:\n",
    "    f.write(attached_msgs_script)\n",
    "\n",
    "out = ! ../scripts/simulate_exec.py /tmp/attached_msgs.py \\\n",
    "    --from alice \\\n",
    "    --script-address $ALICE_ADDRESS \\\n",
    "    --function-name check_messages \\\n",
    "    --attached-message $msg1 \\\n",
    "    --attached-message $msg2 \\\n",
    "    \n",
    "out = '\\n'.join(out)\n",
    "result = json.loads(out)\n",
    "\n",
    "# Extract and display the attached messages\n",
    "script_result = result['script_result']['result']\n",
    "messages = script_result['result']['attached_messages']\n",
    "results = script_result['result']['attached_msg_results']\n",
    "for m, r in zip(messages, results):\n",
    "    print(f\"Message: {m}\")\n",
    "    print(f\"Result: {r}\")\n"
   ]
  },
  {
   "cell_type": "markdown",
   "metadata": {},
   "source": [
    "## Events and Evaluation\n",
    "\n",
    "The dyslang module provides functions to emit blockchain events and evaluate dynamic code at runtime."
   ]
  },
  {
   "cell_type": "markdown",
   "metadata": {},
   "source": [
    "### Emitting Events\n",
    "\n",
    "Let's create a script that emits a custom event to the blockchain:"
   ]
  },
  {
   "cell_type": "code",
   "execution_count": 11,
   "metadata": {
    "execution": {
     "iopub.execute_input": "2025-06-20T13:35:42.416293Z",
     "iopub.status.busy": "2025-06-20T13:35:42.416179Z",
     "iopub.status.idle": "2025-06-20T13:35:42.778179Z",
     "shell.execute_reply": "2025-06-20T13:35:42.777831Z"
    }
   },
   "outputs": [
    {
     "name": "stdout",
     "output_type": "stream",
     "text": [
      "address: \"dys1tvhkv3gqr90jpycaky02xa5ukhaxllu38wawhz\"\n",
      "key: \"payment_processed\"\n",
      "value: \"success\"\n",
      "msg_index: 0\n",
      "address: \"dys1tvhkv3gqr90jpycaky02xa5ukhaxllu38wawhz\"\n",
      "key: \"foo\"\n",
      "value: \"123123\"\n",
      "msg_index: 0\n"
     ]
    }
   ],
   "source": [
    "# Create a script to emit an event\n",
    "emit_event_script = '''\n",
    "from dys import emit_event\n",
    "\n",
    "def emit_test_event():\n",
    "    # Emit a custom event, none is a success or an exception is raised\n",
    "    emit_event(\"payment_processed\", \"success\")\n",
    "    emit_event(\"foo\", '123123')\n",
    "    return {\"event_emitted\": True}\n",
    "'''\n",
    "\n",
    "# Save and execute the script\n",
    "with open('/tmp/emit_event.py', 'w') as f:\n",
    "    f.write(emit_event_script)\n",
    "\n",
    "out = ! ../scripts/simulate_exec.py /tmp/emit_event.py --from alice --script-address $ALICE_ADDRESS --function-name emit_test_event\n",
    "out = '\\n'.join(out)\n",
    "\n",
    "result = json.loads(out)\n",
    "for event in result['events']:\n",
    "    if event['type'] == \"dysonprotocol.script.v1.EventScriptEvent\":\n",
    "        for attribute in event['attributes']:\n",
    "            print(f\"{attribute['key']}: {attribute['value']}\")\n"
   ]
  },
  {
   "cell_type": "markdown",
   "metadata": {},
   "source": [
    "### Dynamic Code Evaluation\n",
    "\n",
    "The `dys_eval` function allows you to evaluate Python code dynamically at runtime. This is a powerful feature that enables creating flexible and adaptable scripts:"
   ]
  },
  {
   "cell_type": "code",
   "execution_count": 12,
   "metadata": {
    "execution": {
     "iopub.execute_input": "2025-06-20T13:35:42.779793Z",
     "iopub.status.busy": "2025-06-20T13:35:42.779681Z",
     "iopub.status.idle": "2025-06-20T13:35:43.128069Z",
     "shell.execute_reply": "2025-06-20T13:35:43.127700Z"
    }
   },
   "outputs": [
    {
     "name": "stdout",
     "output_type": "stream",
     "text": [
      "Dynamic evaluation results:\n",
      "- Arithmetic: 14\n",
      "- String operations: hello WORLD\n",
      "- With variables: 50\n",
      "- Multi-statement: 38\n"
     ]
    }
   ],
   "source": [
    "# Create a script for dynamic code evaluation\n",
    "dys_eval_script = '''\n",
    "from dys import dys_eval\n",
    "\n",
    "def demonstrate_dys_eval():\n",
    "    \"\"\"Demonstrate different ways to use dys_eval\"\"\"\n",
    "    results = {}\n",
    "    \n",
    "    # Simple arithmetic\n",
    "    results[\"arithmetic\"] = dys_eval(\"2 + 3 * 4\")\n",
    "    \n",
    "    # String operations\n",
    "    results[\"string_ops\"] = dys_eval(\"'hello ' + 'world'.upper()\")\n",
    "    \n",
    "    # Using variables from current scope\n",
    "    x = 10\n",
    "    y = 5\n",
    "    local_scope = {'x': x, 'y': y}\n",
    "    results[\"with_variables\"] = dys_eval(\"x * y\", scope=local_scope)\n",
    "    \n",
    "    # Multiple statements\n",
    "    results[\"multi_statement\"] = dys_eval(\"\"\"\n",
    "a = 5\n",
    "b = 7\n",
    "result = a * b\n",
    "result + 3\n",
    "\"\"\")\n",
    "    \n",
    "    return results\n",
    "'''\n",
    "\n",
    "# Save and execute the script\n",
    "with open('/tmp/dys_eval.py', 'w') as f:\n",
    "    f.write(dys_eval_script)\n",
    "\n",
    "out = ! ../scripts/simulate_exec.py /tmp/dys_eval.py --from alice --script-address $ALICE_ADDRESS --function-name demonstrate_dys_eval\n",
    "out = '\\n'.join(out)\n",
    "result = json.loads(out)\n",
    "\n",
    "# Extract and display the evaluation results\n",
    "script_result = result['script_result']['result']\n",
    "eval_results = script_result['result']\n",
    "print(f\"Dynamic evaluation results:\")\n",
    "print(f\"- Arithmetic: {eval_results['arithmetic']}\")\n",
    "print(f\"- String operations: {eval_results['string_ops']}\")\n",
    "print(f\"- With variables: {eval_results['with_variables']}\")\n",
    "print(f\"- Multi-statement: {eval_results['multi_statement']}\")"
   ]
  },
  {
   "cell_type": "markdown",
   "metadata": {},
   "source": [
    "## Testing and Coverage\n",
    "\n",
    "The dyslang module includes built-in tools for testing and code coverage analysis. By prefixing function names with `test_`, you can enable coverage mode, which provides detailed information about which parts of your code are being executed."
   ]
  },
  {
   "cell_type": "markdown",
   "metadata": {},
   "source": [
    "### Code Coverage Analysis\n",
    "\n",
    "Let's create a script with a test function to demonstrate code coverage analysis:"
   ]
  },
  {
   "cell_type": "code",
   "execution_count": 13,
   "metadata": {
    "execution": {
     "iopub.execute_input": "2025-06-20T13:35:43.129866Z",
     "iopub.status.busy": "2025-06-20T13:35:43.129719Z",
     "iopub.status.idle": "2025-06-20T13:35:43.569781Z",
     "shell.execute_reply": "2025-06-20T13:35:43.569437Z"
    }
   },
   "outputs": [
    {
     "name": "stdout",
     "output_type": "stream",
     "text": [
      "Coverage Analysis Results:\n"
     ]
    }
   ],
   "source": [
    "# Get Charlie's address\n",
    "[CHARLIE_ADDRESS] = ! dysond keys show -a charlie\n",
    "\n",
    "# Create a script with test coverage\n",
    "coverage_script = '''\n",
    "def a_or_b(a, b):\n",
    "    if a:\n",
    "        return a\n",
    "    if b:\n",
    "        return b\n",
    "    return None\n",
    "\n",
    "def test_a_or_b():\n",
    "    # Test with different inputs\n",
    "    a_or_b(1, 0)  # Should return a\n",
    "    a_or_b(1, 1)  # Should still return a (first condition)\n",
    "    # Note: We're not testing the b condition or the fallback\n",
    "'''\n",
    "\n",
    "# Save and execute the script\n",
    "with open('/tmp/coverage_test.py', 'w') as f:\n",
    "    f.write(coverage_script)\n",
    "\n",
    "out = ! ../scripts/simulate_exec.py /tmp/coverage_test.py --from charlie --script-address $CHARLIE_ADDRESS --function-name test_a_or_b\n",
    "out = '\\n'.join(out)\n",
    "result = json.loads(out)\n",
    "\n",
    "# Extract and interpret the coverage data\n",
    "script_result = result['script_result']['result']\n",
    "coverage_data = script_result['result']\n",
    "\n",
    "# Display a simplified analysis of the coverage data\n",
    "print(\"Coverage Analysis Results:\")\n",
    "for item in coverage_data:\n",
    "    if len(item) == 2 and isinstance(item[0], list) and len(item[0]) == 5:\n",
    "        node_info = item[0]\n",
    "        count = item[1]\n",
    "        line = node_info[0]\n",
    "        node_type = node_info[4]\n",
    "        \n",
    "        # Simplify the coverage output for key lines\n",
    "        if node_type == \"FunctionDef\" and line == 3:\n",
    "            print(f\"- FunctionDef (a_or_b): executed {count} time{'s' if count != 1 else ''}\")\n",
    "        elif node_type == \"If\" and line == 4:\n",
    "            print(f\"- If (line {line}): {f'executed {count} times' if count > 0 else 'never executed'}\")\n",
    "        elif node_type == \"If\" and line == 6:\n",
    "            print(f\"- If (line {line}): {f'executed {count} times' if count > 0 else 'never executed'}\")\n",
    "        elif node_type == \"Return\" and line == 5:\n",
    "            print(f\"- Return (line {line}): {f'executed {count} times' if count > 0 else 'never executed'}\")\n",
    "        elif node_type == \"Return\" and line == 7:\n",
    "            print(f\"- Return (line {line}): {f'executed {count} times' if count > 0 else 'never executed'}\")\n",
    "        elif node_type == \"Return\" and line == 8:\n",
    "            print(f\"- Return (fallback): {f'executed {count} times' if count > 0 else 'never executed'}\")"
   ]
  },
  {
   "cell_type": "markdown",
   "metadata": {},
   "source": [
    "From the coverage analysis, we can see that:\n",
    "\n",
    "1. The `a_or_b` function was defined (executed once)\n",
    "2. The first `if` condition (line 4) was evaluated twice and passed both times\n",
    "3. The first `return` statement (line 5) was executed twice\n",
    "4. The second `if` condition (line 6) was never evaluated because the first condition always passed\n",
    "5. The second `return` statement (line 7) was never executed\n",
    "6. The fallback `return None` (line 8) was never executed\n",
    "\n",
    "This coverage analysis helps us identify test gaps in our code. In this case, we need to add tests for when the first condition fails to ensure we're testing all code paths."
   ]
  },
  {
   "cell_type": "markdown",
   "metadata": {},
   "source": [
    "## Security Constraints\n",
    "\n",
    "The Dyson Protocol implements several security constraints to ensure safe and reliable execution of scripts:"
   ]
  },
  {
   "cell_type": "markdown",
   "metadata": {},
   "source": [
    "### Gas Limits\n",
    "\n",
    "All script executions are bound by gas limits to prevent infinite loops and excessive computation. As we saw earlier, you can query the gas limit for any execution using `get_gas_limit()`."
   ]
  },
  {
   "cell_type": "markdown",
   "metadata": {},
   "source": [
    "### Memory Restrictions\n",
    "\n",
    "The dyslang module enforces limits on string lengths, stack depth, and scope sizes to prevent resource exhaustion. You can monitor memory usage with `get_cumulative_size()`."
   ]
  },
  {
   "cell_type": "markdown",
   "metadata": {},
   "source": [
    "### Sandboxed Environment\n",
    "\n",
    "Scripts run in a carefully controlled environment where only whitelisted functions and modules are available. This prevents access to potentially dangerous system functions."
   ]
  },
  {
   "cell_type": "markdown",
   "metadata": {},
   "source": [
    "### Node Calls Tracking\n",
    "\n",
    "As we've seen, the execution environment tracks AST node evaluations and terminates if limits are exceeded, preventing resource-exhaustion attacks."
   ]
  },
  {
   "cell_type": "markdown",
   "metadata": {},
   "source": [
    "## Building a Simple dApp\n",
    "\n",
    "Let's bring everything together by building a simple counter dApp that demonstrates the integration of dyslang with the Storage module:"
   ]
  },
  {
   "cell_type": "code",
   "execution_count": 14,
   "metadata": {
    "execution": {
     "iopub.execute_input": "2025-06-20T13:35:43.571892Z",
     "iopub.status.busy": "2025-06-20T13:35:43.571756Z",
     "iopub.status.idle": "2025-06-20T13:35:45.951300Z",
     "shell.execute_reply": "2025-06-20T13:35:45.950969Z"
    }
   },
   "outputs": [
    {
     "name": "stdout",
     "output_type": "stream",
     "text": [
      "Setting up counter dApp for alice...\n"
     ]
    },
    {
     "name": "stdout",
     "output_type": "stream",
     "text": [
      "Counter state: 0 -> 1\n"
     ]
    },
    {
     "name": "stdout",
     "output_type": "stream",
     "text": [
      "Counter state: 1 -> 2\n"
     ]
    },
    {
     "name": "stdout",
     "output_type": "stream",
     "text": [
      "Counter state: 2 -> 3\n",
      "Cleaning up...\n"
     ]
    },
    {
     "name": "stdout",
     "output_type": "stream",
     "text": [
      "Counter dApp demo completed successfully!\n"
     ]
    }
   ],
   "source": [
    "import json\n",
    "import shlex\n",
    "\n",
    "# Create the counter dApp script\n",
    "counter_app_script = '''\n",
    "from dys import _query, _msg, get_script_address\n",
    "import json\n",
    "from datetime import datetime\n",
    "\n",
    "def get_counter():\n",
    "    \"\"\"Get the current counter value or initialize it\"\"\"\n",
    "    script_address = get_script_address()\n",
    "    # Try to query the existing counter\n",
    "    try:\n",
    "        response = _query({\n",
    "            \"@type\": \"/dysonprotocol.storage.v1.QueryStorageGetRequest\",\n",
    "            \"owner\": script_address,\n",
    "            \"index\": \"counter\"\n",
    "        })\n",
    "        counter_data = json.loads(response[\"entry\"][\"data\"])\n",
    "        return counter_data[\"value\"]\n",
    "    except Exception as e:\n",
    "        if \"NotFound\" in str(e):\n",
    "            _msg({\n",
    "                \"@type\": \"/dysonprotocol.storage.v1.MsgStorageSet\",\n",
    "                \"owner\": script_address,\n",
    "                \"index\": \"counter\",\n",
    "                \"data\": json.dumps({\n",
    "                    \"value\": 0, \n",
    "                    \"updated_at\": datetime.now().isoformat()\n",
    "                })\n",
    "            })\n",
    "            return 0\n",
    "        else:\n",
    "            raise e\n",
    "\n",
    "\n",
    "\n",
    "def increment_counter():\n",
    "    \"\"\"Increment the counter and store the new value\"\"\"\n",
    "    # Get the current counter value\n",
    "    current_value = get_counter()\n",
    "    \n",
    "    # Increment it\n",
    "    new_value = current_value + 1\n",
    "    \n",
    "    # Store the new value\n",
    "    script_address = get_script_address()\n",
    "\n",
    "    _msg({\n",
    "        \"@type\": \"/dysonprotocol.storage.v1.MsgStorageSet\",\n",
    "        \"owner\": script_address,\n",
    "         \"index\": \"counter\",\n",
    "         \"data\": json.dumps({\n",
    "            \"value\": new_value,\n",
    "            \"updated_at\": datetime.now().isoformat()\n",
    "        })\n",
    "    })\n",
    "\n",
    "    \n",
    "    return {\n",
    "        \"previous_value\": current_value,\n",
    "        \"new_value\": new_value\n",
    "    }\n",
    "\n",
    "def reset_counter():\n",
    "    \"\"\"Reset the counter to zero\"\"\"\n",
    "    script_address = get_script_address()\n",
    "    _msg({\n",
    "        \"@type\": \"/dysonprotocol.storage.v1.MsgStorageDelete\",\n",
    "        \"owner\": script_address,\n",
    "        \"indexes\": [\"counter\"]\n",
    "    })\n",
    "    return {\n",
    "        \"result\": \"Counter reset to 0\"\n",
    "    }\n",
    "'''\n",
    "\n",
    "# Save the counter app script\n",
    "with open('/tmp/counter_app.py', 'w') as f:\n",
    "    f.write(counter_app_script)\n",
    "\n",
    "print(f\"Setting up counter dApp for alice...\")\n",
    "\n",
    "# First, upload the script to Alice's account\n",
    "out = ! dysond tx script update \\\n",
    "    --code-path /tmp/counter_app.py \\\n",
    "    --from alice \\\n",
    "    --output json -y | dysond query wait-tx --output json\n",
    "out = '\\n'.join(out)\n",
    "result = json.loads(out)\n",
    "\n",
    "for i in range(3):\n",
    "    # Now let's test the counter app\n",
    "    # 1. Get initial counter (should be 0, then set to 1)\n",
    "    out = ! dysond tx script exec \\\n",
    "        --script-address $ALICE_ADDRESS \\\n",
    "        --function-name increment_counter \\\n",
    "        --from alice \\\n",
    "        --output json -y | dysond query wait-tx --output json | python ../scripts/parse_exec_script_tx.py\n",
    "    out = '\\n'.join(out)\n",
    "    result = json.loads(out)\n",
    "    assert result['code'] == 0, f\"Error: {result['raw_log']}\"\n",
    "    counter_result = result['script_result']['result']['result']\n",
    "    print(f\"Counter state: {counter_result['previous_value']} -> {counter_result['new_value']}\")\n",
    "\n",
    "# 4. Reset the counter for cleanup\n",
    "print(f\"Cleaning up...\")\n",
    "out = ! dysond tx script exec \\\n",
    "    --script-address $ALICE_ADDRESS \\\n",
    "    --function-name reset_counter \\\n",
    "    --from alice \\\n",
    "    --output json -y | dysond query wait-tx --output json | python ../scripts/parse_exec_script_tx.py\n",
    "out = '\\n'.join(out)\n",
    "result = json.loads(out)\n",
    "assert result['code'] == 0, f\"Error: {result['raw_log']}\"\n",
    "\n",
    "print(f\"Counter dApp demo completed successfully!\")"
   ]
  },
  {
   "cell_type": "markdown",
   "metadata": {},
   "source": [
    "## Summary\n",
    "\n",
    "In this guide, we've explored the powerful features of the Dyson Protocol Language Module (dyslang). We've seen how to:\n",
    "\n",
    "1. **Query the Blockchain**: Use `_query` to retrieve blockchain state\n",
    "2. **Submit Transactions**: Use `_msg` to modify blockchain state\n",
    "3. **Monitor Gas**: Track and manage computational resources\n",
    "4. **Access Context**: Retrieve script and block information\n",
    "5. **Handle Messages**: Work with transaction messages\n",
    "6. **Emit Events**: Produce blockchain events\n",
    "7. **Evaluate Code**: Execute dynamic Python code\n",
    "8. **Test Coverage**: Analyze script execution paths\n",
    "9. **Build dApps**: Combine these features to create decentralized applications\n",
    "\n",
    "The dyslang module provides a secure, sandboxed environment for executing Python code on the blockchain, making it possible to build sophisticated decentralized applications with familiar Python syntax and powerful blockchain capabilities.\n",
    "\n",
    "For more information on building scripts with these functions and integrating with other modules like Storage, check out the [Script Module Documentation](SCRIPT.md) and the other guides in the Dyson Protocol documentation."
   ]
  }
 ],
 "metadata": {
  "kernelspec": {
   "display_name": "Python 3",
   "language": "python",
   "name": "python3"
  },
  "language_info": {
   "codemirror_mode": {
    "name": "ipython",
    "version": 3
   },
   "file_extension": ".py",
   "mimetype": "text/x-python",
   "name": "python",
   "nbconvert_exporter": "python",
   "pygments_lexer": "ipython3",
   "version": "3.12.2"
  }
 },
 "nbformat": 4,
 "nbformat_minor": 4
}
