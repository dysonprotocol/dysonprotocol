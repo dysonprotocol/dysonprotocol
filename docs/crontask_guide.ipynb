{
 "cells": [
  {
   "cell_type": "markdown",
   "metadata": {},
   "source": [
    "# Dyson Protocol Crontask Module Guide\n",
    "\n",
    "This notebook serves as a comprehensive guide to the Crontask module in Dyson Protocol, demonstrating how to schedule on-chain transactions for future execution."
   ]
  },
  {
   "cell_type": "markdown",
   "metadata": {},
   "source": [
    "## 1. Introduction to Crontasks\n",
    "\n",
    "The Crontask module enables scheduled execution of transactions on the Dyson Protocol blockchain. It allows users to create tasks that will execute at a specific time in the future, with an expiration deadline.\n",
    "\n",
    "**Key Features**:\n",
    "- **Scheduled Transactions**: Schedule any transaction to be executed at a future block height\n",
    "- **Flexible Timing**: Set execution times up to the maximum allowed by chain parameters\n",
    "- **Expiration Management**: Tasks expire if not executed by their expiry timestamp\n",
    "- **Gas Configuration**: Set gas limits and prices for task execution\n",
    "- **Script Integration**: Seamless interaction with on-chain Python scripts for advanced automation\n",
    "\n",
    "**Use Cases**:\n",
    "- Autonomous payouts\n",
    "- Timed auctions\n",
    "- Game rounds with automatic progression\n",
    "- Price oracles with regular updates\n",
    "- Scheduled maintenance operations"
   ]
  },
  {
   "cell_type": "markdown",
   "metadata": {},
   "source": [
    "## 2. Understanding Module Parameters\n",
    "\n",
    "First, let's check the current module parameters:"
   ]
  },
  {
   "cell_type": "code",
   "execution_count": 1,
   "metadata": {
    "execution": {
     "iopub.execute_input": "2025-06-12T19:49:09.094061Z",
     "iopub.status.busy": "2025-06-12T19:49:09.093954Z",
     "iopub.status.idle": "2025-06-12T19:49:09.306695Z",
     "shell.execute_reply": "2025-06-12T19:49:09.306326Z"
    }
   },
   "outputs": [
    {
     "name": "stdout",
     "output_type": "stream",
     "text": [
      "{\r\n",
      "  \"params\": {\r\n",
      "    \"block_gas_limit\": \"10000000\",\r\n",
      "    \"expiry_limit\": \"86400\",\r\n",
      "    \"max_scheduled_time\": \"86400\",\r\n",
      "    \"clean_up_time\": \"86400\"\r\n",
      "  }\r\n",
      "}\r\n"
     ]
    }
   ],
   "source": [
    "import json\n",
    "import shlex\n",
    "import time\n",
    "from datetime import datetime\n",
    "\n",
    "# Get module parameters\n",
    "! dysond query crontask params -o json"
   ]
  },
  {
   "cell_type": "markdown",
   "metadata": {},
   "source": [
    "The module parameters include:\n",
    "- `block_gas_limit`: Maximum gas that can be consumed by scheduled tasks in a single block\n",
    "- `expiry_limit`: Maximum time (in seconds) that a task can be scheduled for before expiration\n",
    "- `max_scheduled_time`: Maximum time (in seconds) in the future that a task can be scheduled"
   ]
  },
  {
   "cell_type": "markdown",
   "metadata": {},
   "source": [
    "## 3. Command Overview\n",
    "\n",
    "The Crontask module provides the following commands:\n"
   ]
  },
  {
   "cell_type": "markdown",
   "metadata": {},
   "source": [
    "### Transaction Commands"
   ]
  },
  {
   "cell_type": "code",
   "execution_count": 2,
   "metadata": {
    "execution": {
     "iopub.execute_input": "2025-06-12T19:49:09.308843Z",
     "iopub.status.busy": "2025-06-12T19:49:09.308600Z",
     "iopub.status.idle": "2025-06-12T19:49:09.486584Z",
     "shell.execute_reply": "2025-06-12T19:49:09.486253Z"
    }
   },
   "outputs": [
    {
     "name": "stdout",
     "output_type": "stream",
     "text": [
      "Transactions commands for the crontask module\r\n",
      "\r\n",
      "Usage:\r\n",
      "  dysond tx crontask [flags]\r\n",
      "  dysond tx crontask [command]\r\n",
      "\r\n",
      "Available Commands:\r\n",
      "  create-task   Create a new scheduled task\r\n",
      "  delete-task   Delete a scheduled task\r\n",
      "  update-params Update crontask module parameters (governance authority only)\r\n",
      "\r\n",
      "Flags:\r\n",
      "  -h, --help   help for crontask\r\n",
      "\r\n",
      "Global Flags:\r\n",
      "      --home string         directory for config and data (default \"/var/folders/th/nv7lq13d7gx0jfhfg68wdh040000gn/T/tmpq6qmmf_d/chain-a-node-1\")\r\n",
      "      --log_format string   The logging format (json|plain) (default \"plain\")\r\n",
      "      --log_level string    The logging level (trace|debug|info|warn|error|fatal|panic|disabled or '*:<level>,<key>:<level>') (default \"info\")\r\n",
      "      --log_no_color        Disable colored logs\r\n",
      "      --trace               print out full stack trace on errors\r\n",
      "\r\n",
      "Use \"dysond tx crontask [command] --help\" for more information about a command.\r\n"
     ]
    }
   ],
   "source": [
    "! dysond tx crontask"
   ]
  },
  {
   "cell_type": "markdown",
   "metadata": {},
   "source": [
    "### Query Commands"
   ]
  },
  {
   "cell_type": "code",
   "execution_count": 3,
   "metadata": {
    "execution": {
     "iopub.execute_input": "2025-06-12T19:49:09.488438Z",
     "iopub.status.busy": "2025-06-12T19:49:09.488320Z",
     "iopub.status.idle": "2025-06-12T19:49:09.671148Z",
     "shell.execute_reply": "2025-06-12T19:49:09.670782Z"
    }
   },
   "outputs": [
    {
     "name": "stdout",
     "output_type": "stream",
     "text": [
      "Querying commands for the crontask module\r\n",
      "\r\n",
      "Usage:\r\n",
      "  dysond query crontask [flags]\r\n",
      "  dysond query crontask [command]\r\n",
      "\r\n",
      "Available Commands:\r\n",
      "  params                    Query module parameters\r\n",
      "  task-by-id                Query a task by ID\r\n",
      "  tasks-all                 Query all tasks\r\n",
      "  tasks-by-address          Query tasks by creator address\r\n",
      "  tasks-by-status-gas-price Query tasks by status and gas price\r\n",
      "  tasks-by-status-timestamp Query tasks by status and timestamp\r\n",
      "\r\n",
      "Flags:\r\n",
      "  -h, --help   help for crontask\r\n",
      "\r\n",
      "Global Flags:\r\n",
      "      --home string         directory for config and data (default \"/var/folders/th/nv7lq13d7gx0jfhfg68wdh040000gn/T/tmpq6qmmf_d/chain-a-node-1\")\r\n",
      "      --log_format string   The logging format (json|plain) (default \"plain\")\r\n",
      "      --log_level string    The logging level (trace|debug|info|warn|error|fatal|panic|disabled or '*:<level>,<key>:<level>') (default \"info\")\r\n",
      "      --log_no_color        Disable colored logs\r\n",
      "      --trace               print out full stack trace on errors\r\n",
      "\r\n",
      "Use \"dysond query crontask [command] --help\" for more information about a command.\r\n"
     ]
    }
   ],
   "source": [
    "! dysond query crontask "
   ]
  },
  {
   "cell_type": "markdown",
   "metadata": {},
   "source": [
    "## 4. Creating a Crontask"
   ]
  },
  {
   "cell_type": "markdown",
   "metadata": {},
   "source": [
    "### Getting your address for the examples"
   ]
  },
  {
   "cell_type": "code",
   "execution_count": 4,
   "metadata": {
    "execution": {
     "iopub.execute_input": "2025-06-12T19:49:09.673060Z",
     "iopub.status.busy": "2025-06-12T19:49:09.672865Z",
     "iopub.status.idle": "2025-06-12T19:49:09.752463Z",
     "shell.execute_reply": "2025-06-12T19:49:09.752147Z"
    }
   },
   "outputs": [
    {
     "name": "stdout",
     "output_type": "stream",
     "text": [
      "['dys1fhhxp9xveswc4yhxekr32eqe80rkwpurya0jh0']\n",
      "Using address: dys1fhhxp9xveswc4yhxekr32eqe80rkwpurya0jh0\n"
     ]
    }
   ],
   "source": [
    "# Get the address from bob account (best case scenario)\n",
    "NAME = \"bob\"\n",
    "out = ! dysond keys show -a {NAME}\n",
    "print(out)\n",
    "ADDRESS = out[0]\n",
    "print(f\"Using address: {ADDRESS}\")"
   ]
  },
  {
   "cell_type": "markdown",
   "metadata": {},
   "source": [
    "### Creating a Simple Bank Transfer Task\n",
    "\n",
    "Let's create a task to send a small amount of tokens back to ourselves as a simple example."
   ]
  },
  {
   "cell_type": "code",
   "execution_count": 5,
   "metadata": {
    "execution": {
     "iopub.execute_input": "2025-06-12T19:49:09.754210Z",
     "iopub.status.busy": "2025-06-12T19:49:09.753995Z",
     "iopub.status.idle": "2025-06-12T19:49:09.873305Z",
     "shell.execute_reply": "2025-06-12T19:49:09.872978Z"
    }
   },
   "outputs": [
    {
     "name": "stdout",
     "output_type": "stream",
     "text": [
      "Scheduled time: 2025-06-12 21:49:10 (Unix: 1749757750)\n",
      "Expiry time: 2025-06-13 21:49:09 (Unix: 1749844149)\n"
     ]
    },
    {
     "name": "stdout",
     "output_type": "stream",
     "text": [
      "Transaction hash: E4A750F52BD08EC3E8A60790E24609D1AA3CCD0126B84039071AAE32F697248F\n"
     ]
    }
   ],
   "source": [
    "# Create the task\n",
    "import time\n",
    "import json\n",
    "\n",
    "# adjust as needed\n",
    "SCHEDULED_TIME = int(time.time() + 1)\n",
    "EXPIRY_TIME = int(time.time() + 86400)\n",
    "\n",
    "# Print in human-readable format for reference\n",
    "from datetime import datetime\n",
    "print(f\"Scheduled time: {datetime.fromtimestamp(SCHEDULED_TIME).strftime('%Y-%m-%d %H:%M:%S')} (Unix: {SCHEDULED_TIME})\")\n",
    "print(f\"Expiry time: {datetime.fromtimestamp(EXPIRY_TIME).strftime('%Y-%m-%d %H:%M:%S')} (Unix: {EXPIRY_TIME})\")\n",
    "\n",
    "# Create a message for the task\n",
    "TASK_MSG = {\n",
    "    \"@type\": \"/cosmos.bank.v1beta1.MsgSend\",\n",
    "    \"from_address\": ADDRESS,\n",
    "    \"to_address\": ADDRESS,\n",
    "    \"amount\": [{\"denom\": \"dys\", \"amount\": \"1\"}]\n",
    "}\n",
    "\n",
    "# Convert the message to a properly escaped JSON string for shell use\n",
    "TASK_MSG_JSON = shlex.quote(json.dumps(TASK_MSG))\n",
    "\n",
    "\n",
    "tx = ! dysond tx crontask create-task \\\n",
    "  --scheduled-timestamp {SCHEDULED_TIME} \\\n",
    "  --expiry-timestamp {EXPIRY_TIME} \\\n",
    "  --task-gas-limit 200000 \\\n",
    "  --task-gas-fee 1dys \\\n",
    "  --msgs {TASK_MSG_JSON} \\\n",
    "  --from {NAME} -y -o json | jq .txhash -r ; sleep 0.01\n",
    "txhash = tx[0]\n",
    "print(f\"Transaction hash: {txhash}\")\n"
   ]
  },
  {
   "cell_type": "code",
   "execution_count": 6,
   "metadata": {
    "execution": {
     "iopub.execute_input": "2025-06-12T19:49:09.875593Z",
     "iopub.status.busy": "2025-06-12T19:49:09.875437Z",
     "iopub.status.idle": "2025-06-12T19:49:10.492200Z",
     "shell.execute_reply": "2025-06-12T19:49:10.488212Z"
    }
   },
   "outputs": [
    {
     "name": "stdout",
     "output_type": "stream",
     "text": [
      "['{\"height\":\"177\",\"txhash\":\"E4A750F52BD08EC3E8A60790E24609D1AA3CCD0126B84039071AAE32F697248F\",\"codespace\":\"\",\"code\":0,\"data\":\"12360A302F6479736F6E70726F746F636F6C2E63726F6E7461736B2E76312E4D73674372656174655461736B526573706F6E736512020803\",\"raw_log\":\"\",\"logs\":[],\"info\":\"\",\"gas_wanted\":\"200000\",\"gas_used\":\"68762\",\"tx\":null,\"timestamp\":\"\",\"events\":[{\"type\":\"tx\",\"attributes\":[{\"key\":\"acc_seq\",\"value\":\"dys1fhhxp9xveswc4yhxekr32eqe80rkwpurya0jh0/0\",\"index\":true}]},{\"type\":\"tx\",\"attributes\":[{\"key\":\"signature\",\"value\":\"FFdj07BQbpcc1tuTRRkSh9V1mH7id9kJZQM5/qQ0hTtv9q8fZbRYLVFgaB6ouDC4R7a+oOJafXZ679dZHv0N0Q==\",\"index\":true}]},{\"type\":\"message\",\"attributes\":[{\"key\":\"action\",\"value\":\"/dysonprotocol.crontask.v1.MsgCreateTask\",\"index\":true},{\"key\":\"sender\",\"value\":\"dys1fhhxp9xveswc4yhxekr32eqe80rkwpurya0jh0\",\"index\":true},{\"key\":\"module\",\"value\":\"crontask\",\"index\":true},{\"key\":\"msg_index\",\"value\":\"0\",\"index\":true}]},{\"type\":\"dysonprotocol.crontask.v1.EventTaskCreated\",\"attributes\":[{\"key\":\"creator\",\"value\":\"\\\\\"dys1fhhxp9xveswc4yhxekr32eqe80rkwpurya0jh0\\\\\"\",\"index\":true},{\"key\":\"task_id\",\"value\":\"\\\\\"3\\\\\"\",\"index\":true},{\"key\":\"msg_index\",\"value\":\"0\",\"index\":true}]}]}']\n",
      "Tx error code: 0\n"
     ]
    }
   ],
   "source": [
    "\n",
    "# Wait for transaction to be processed\n",
    "tx_result = ! dysond query wait-tx \"{txhash}\" -o json\n",
    "print(tx_result)\n",
    "tx_result = json.loads(\"\".join(tx_result))\n",
    "print(f\"Tx error code: {tx_result['code']}\")\n",
    "assert tx_result['code'] == 0, f\"Tx failed with code {tx_result['code']}, {tx_result['raw_log']}\"\n"
   ]
  },
  {
   "cell_type": "markdown",
   "metadata": {},
   "source": [
    "### Getting the Task ID\n",
    "\n",
    "Let's extract the task ID from the transaction result. We'll query for the most recent task created by our address."
   ]
  },
  {
   "cell_type": "code",
   "execution_count": 7,
   "metadata": {
    "execution": {
     "iopub.execute_input": "2025-06-12T19:49:10.494344Z",
     "iopub.status.busy": "2025-06-12T19:49:10.494169Z",
     "iopub.status.idle": "2025-06-12T19:49:10.497337Z",
     "shell.execute_reply": "2025-06-12T19:49:10.497046Z"
    }
   },
   "outputs": [
    {
     "name": "stdout",
     "output_type": "stream",
     "text": [
      "{\n",
      "  \"type\": \"dysonprotocol.crontask.v1.EventTaskCreated\",\n",
      "  \"attributes\": [\n",
      "    {\n",
      "      \"key\": \"creator\",\n",
      "      \"value\": \"\\\"dys1fhhxp9xveswc4yhxekr32eqe80rkwpurya0jh0\\\"\",\n",
      "      \"index\": true\n",
      "    },\n",
      "    {\n",
      "      \"key\": \"task_id\",\n",
      "      \"value\": \"\\\"3\\\"\",\n",
      "      \"index\": true\n",
      "    },\n",
      "    {\n",
      "      \"key\": \"msg_index\",\n",
      "      \"value\": \"0\",\n",
      "      \"index\": true\n",
      "    }\n",
      "  ]\n",
      "}\n",
      "Created task ID: 3\n"
     ]
    }
   ],
   "source": [
    "# Print the transaction events to see what happened\n",
    "\n",
    "# Extract the task ID from the event attributes\n",
    "for event in tx_result.get('events', []):\n",
    "    if event.get('type') == 'dysonprotocol.crontask.v1.EventTaskCreated':\n",
    "        print(json.dumps(event, indent=2))\n",
    "\n",
    "        for attr in event.get('attributes', []):\n",
    "            if attr.get('key') == 'task_id':\n",
    "                TASK_ID = attr.get('value').strip('\"')\n",
    "                break\n",
    "\n",
    "print(f\"Created task ID: {TASK_ID}\")"
   ]
  },
  {
   "cell_type": "markdown",
   "metadata": {},
   "source": [
    "## 5. Querying Task Information\n",
    "\n",
    "### Query a Task by ID"
   ]
  },
  {
   "cell_type": "code",
   "execution_count": 8,
   "metadata": {
    "execution": {
     "iopub.execute_input": "2025-06-12T19:49:10.499552Z",
     "iopub.status.busy": "2025-06-12T19:49:10.499284Z",
     "iopub.status.idle": "2025-06-12T19:49:10.595492Z",
     "shell.execute_reply": "2025-06-12T19:49:10.595165Z"
    }
   },
   "outputs": [
    {
     "name": "stdout",
     "output_type": "stream",
     "text": [
      "{\n",
      "  \"task\": {\n",
      "    \"task_id\": \"3\",\n",
      "    \"creator\": \"dys1fhhxp9xveswc4yhxekr32eqe80rkwpurya0jh0\",\n",
      "    \"scheduled_timestamp\": \"1749757750\",\n",
      "    \"expiry_timestamp\": \"1749844149\",\n",
      "    \"task_gas_limit\": \"200000\",\n",
      "    \"task_gas_price\": {\n",
      "      \"denom\": \"dys\",\n",
      "      \"amount\": \"0\"\n",
      "    },\n",
      "    \"task_gas_fee\": {\n",
      "      \"denom\": \"dys\",\n",
      "      \"amount\": \"1\"\n",
      "    },\n",
      "    \"msgs\": [\n",
      "      {\n",
      "        \"type\": \"/cosmos.bank.v1beta1.MsgSend\",\n",
      "        \"value\": {\n",
      "          \"from_address\": \"dys1fhhxp9xveswc4yhxekr32eqe80rkwpurya0jh0\",\n",
      "          \"to_address\": \"dys1fhhxp9xveswc4yhxekr32eqe80rkwpurya0jh0\",\n",
      "          \"amount\": [\n",
      "            {\n",
      "              \"denom\": \"dys\",\n",
      "              \"amount\": \"1\"\n",
      "            }\n",
      "          ]\n",
      "        }\n",
      "      }\n",
      "    ],\n",
      "    \"status\": \"SCHEDULED\",\n",
      "    \"creation_time\": \"1749757749\"\n",
      "  }\n",
      "}\n"
     ]
    }
   ],
   "source": [
    "# Query task by ID\n",
    "task_info = ! dysond query crontask task-by-id --task-id {TASK_ID} -o json \n",
    "task_info_str = ''.join(task_info)\n",
    "print(json.dumps(json.loads(task_info_str), indent=2))"
   ]
  },
  {
   "cell_type": "markdown",
   "metadata": {},
   "source": [
    "### Query All Tasks by Address"
   ]
  },
  {
   "cell_type": "code",
   "execution_count": 9,
   "metadata": {
    "execution": {
     "iopub.execute_input": "2025-06-12T19:49:10.597087Z",
     "iopub.status.busy": "2025-06-12T19:49:10.596966Z",
     "iopub.status.idle": "2025-06-12T19:49:10.678436Z",
     "shell.execute_reply": "2025-06-12T19:49:10.678108Z"
    }
   },
   "outputs": [
    {
     "data": {
      "text/plain": [
       "{'tasks': [{'task_id': '3',\n",
       "   'creator': 'dys1fhhxp9xveswc4yhxekr32eqe80rkwpurya0jh0',\n",
       "   'scheduled_timestamp': '1749757750',\n",
       "   'expiry_timestamp': '1749844149',\n",
       "   'task_gas_limit': '200000',\n",
       "   'task_gas_price': {'denom': 'dys', 'amount': '0'},\n",
       "   'task_gas_fee': {'denom': 'dys', 'amount': '1'},\n",
       "   'msgs': [{'type': '/cosmos.bank.v1beta1.MsgSend',\n",
       "     'value': {'from_address': 'dys1fhhxp9xveswc4yhxekr32eqe80rkwpurya0jh0',\n",
       "      'to_address': 'dys1fhhxp9xveswc4yhxekr32eqe80rkwpurya0jh0',\n",
       "      'amount': [{'denom': 'dys', 'amount': '1'}]}}],\n",
       "   'status': 'SCHEDULED',\n",
       "   'creation_time': '1749757749'}],\n",
       " 'pagination': {'total': '1'}}"
      ]
     },
     "execution_count": 9,
     "metadata": {},
     "output_type": "execute_result"
    }
   ],
   "source": [
    "# Query all tasks by address (we will only return 3 tasks for this example)\n",
    "out = ! dysond query crontask tasks-by-address --creator {ADDRESS} -o json\n",
    "tasks_by_addr_json = json.loads(''.join(out))\n",
    "tasks_by_addr_json"
   ]
  },
  {
   "cell_type": "markdown",
   "metadata": {},
   "source": [
    "### Query Tasks by Status\n",
    "The status can be one of the following: \n",
    "- PENDING: The task is scheduled to be executed\n",
    "- DONE: The task has been executed successfully\n",
    "- FAILED: The task failed when executed\n",
    "- EXPIRED: The task has expired by the expiry timestamp and was not executed"
   ]
  },
  {
   "cell_type": "code",
   "execution_count": 10,
   "metadata": {
    "execution": {
     "iopub.execute_input": "2025-06-12T19:49:10.679914Z",
     "iopub.status.busy": "2025-06-12T19:49:10.679804Z",
     "iopub.status.idle": "2025-06-12T19:49:10.806852Z",
     "shell.execute_reply": "2025-06-12T19:49:10.806414Z"
    }
   },
   "outputs": [
    {
     "data": {
      "text/plain": [
       "{'tasks': [{'task_id': '1',\n",
       "   'creator': 'dys13rf9jhd8u3pwnyy06fagtmph7acutkx0prd79z',\n",
       "   'scheduled_timestamp': '1749757719',\n",
       "   'expiry_timestamp': '1749844119',\n",
       "   'task_gas_limit': '200000',\n",
       "   'task_gas_price': {'denom': 'dys', 'amount': '0'},\n",
       "   'task_gas_fee': {'denom': 'dys', 'amount': '1'},\n",
       "   'msgs': [{'type': '/cosmos.bank.v1beta1.MsgSend',\n",
       "     'value': {'from_address': 'dys13rf9jhd8u3pwnyy06fagtmph7acutkx0prd79z',\n",
       "      'to_address': 'dys1mpyuyd0kea073tagl4n70jy5swzpmlemwu9jky',\n",
       "      'amount': [{'denom': 'dys', 'amount': '1'}]}}],\n",
       "   'msg_results': [{'type': '/cosmos.bank.v1beta1.MsgSendResponse',\n",
       "     'value': {}}],\n",
       "   'status': 'DONE',\n",
       "   'creation_time': '1749757716',\n",
       "   'task_gas_consumed': '18981',\n",
       "   'execution_timestamp': '1749757719'},\n",
       "  {'task_id': '3',\n",
       "   'creator': 'dys1fhhxp9xveswc4yhxekr32eqe80rkwpurya0jh0',\n",
       "   'scheduled_timestamp': '1749757750',\n",
       "   'expiry_timestamp': '1749844149',\n",
       "   'task_gas_limit': '200000',\n",
       "   'task_gas_price': {'denom': 'dys', 'amount': '0'},\n",
       "   'task_gas_fee': {'denom': 'dys', 'amount': '1'},\n",
       "   'msgs': [{'type': '/cosmos.bank.v1beta1.MsgSend',\n",
       "     'value': {'from_address': 'dys1fhhxp9xveswc4yhxekr32eqe80rkwpurya0jh0',\n",
       "      'to_address': 'dys1fhhxp9xveswc4yhxekr32eqe80rkwpurya0jh0',\n",
       "      'amount': [{'denom': 'dys', 'amount': '1'}]}}],\n",
       "   'msg_results': [{'type': '/cosmos.bank.v1beta1.MsgSendResponse',\n",
       "     'value': {}}],\n",
       "   'status': 'DONE',\n",
       "   'creation_time': '1749757749',\n",
       "   'task_gas_consumed': '19410',\n",
       "   'execution_timestamp': '1749757750'}],\n",
       " 'pagination': {'total': '2'}}"
      ]
     },
     "execution_count": 10,
     "metadata": {},
     "output_type": "execute_result"
    }
   ],
   "source": [
    "# Query tasks that are status DONE\n",
    "\n",
    "out = ! dysond query crontask tasks-by-status-timestamp --status DONE -o json\n",
    "json.loads(''.join(out))"
   ]
  },
  {
   "cell_type": "code",
   "execution_count": 11,
   "metadata": {
    "execution": {
     "iopub.execute_input": "2025-06-12T19:49:10.808245Z",
     "iopub.status.busy": "2025-06-12T19:49:10.808116Z",
     "iopub.status.idle": "2025-06-12T19:49:10.988537Z",
     "shell.execute_reply": "2025-06-12T19:49:10.987037Z"
    }
   },
   "outputs": [
    {
     "name": "stdout",
     "output_type": "stream",
     "text": [
      "Pending tasks:\n"
     ]
    },
    {
     "name": "stdout",
     "output_type": "stream",
     "text": [
      "{\r\n",
      "  \"pagination\": {}\r\n",
      "}\r\n"
     ]
    }
   ],
   "source": [
    "# List pending tasks\n",
    "print(\"Pending tasks:\")\n",
    "! dysond query crontask tasks-by-status-timestamp --status PENDING -o json | jq -M"
   ]
  },
  {
   "cell_type": "markdown",
   "metadata": {},
   "source": [
    "### Wait for the Task to Execute"
   ]
  },
  {
   "cell_type": "code",
   "execution_count": 12,
   "metadata": {
    "execution": {
     "iopub.execute_input": "2025-06-12T19:49:10.990328Z",
     "iopub.status.busy": "2025-06-12T19:49:10.990206Z",
     "iopub.status.idle": "2025-06-12T19:49:11.179038Z",
     "shell.execute_reply": "2025-06-12T19:49:11.178695Z"
    }
   },
   "outputs": [
    {
     "name": "stdout",
     "output_type": "stream",
     "text": [
      "Checking task status...."
     ]
    },
    {
     "data": {
      "text/plain": [
       "{'task': {'task_id': '3',\n",
       "  'creator': 'dys1fhhxp9xveswc4yhxekr32eqe80rkwpurya0jh0',\n",
       "  'scheduled_timestamp': '1749757750',\n",
       "  'expiry_timestamp': '1749844149',\n",
       "  'task_gas_limit': '200000',\n",
       "  'task_gas_price': {'denom': 'dys', 'amount': '0'},\n",
       "  'task_gas_fee': {'denom': 'dys', 'amount': '1'},\n",
       "  'msgs': [{'type': '/cosmos.bank.v1beta1.MsgSend',\n",
       "    'value': {'from_address': 'dys1fhhxp9xveswc4yhxekr32eqe80rkwpurya0jh0',\n",
       "     'to_address': 'dys1fhhxp9xveswc4yhxekr32eqe80rkwpurya0jh0',\n",
       "     'amount': [{'denom': 'dys', 'amount': '1'}]}}],\n",
       "  'msg_results': [{'type': '/cosmos.bank.v1beta1.MsgSendResponse',\n",
       "    'value': {}}],\n",
       "  'status': 'DONE',\n",
       "  'creation_time': '1749757749',\n",
       "  'task_gas_consumed': '19410',\n",
       "  'execution_timestamp': '1749757750'}}"
      ]
     },
     "execution_count": 12,
     "metadata": {},
     "output_type": "execute_result"
    }
   ],
   "source": [
    "task_status = \"PENDING\"\n",
    "# loop until the task is done or expired\n",
    "\n",
    "print(\"Checking task status...\", end=\"\")\n",
    "\n",
    "while task_status == \"PENDING\":\n",
    "    print(\".\", end=\"\")\n",
    "    time.sleep(0.1)\n",
    "    out = ! dysond query crontask task-by-id --task-id {TASK_ID} -o json\n",
    "    task_json = json.loads(''.join(out))\n",
    "    task_status = task_json['task']['status']\n",
    "    scheduled_time = task_json['task']['scheduled_timestamp']\n",
    "    current_time = int(time.time())\n",
    "\n",
    "task_json"
   ]
  },
  {
   "cell_type": "markdown",
   "metadata": {},
   "source": [
    "## 6. Deleting a Task\n"
   ]
  },
  {
   "cell_type": "code",
   "execution_count": 13,
   "metadata": {
    "execution": {
     "iopub.execute_input": "2025-06-12T19:49:11.180544Z",
     "iopub.status.busy": "2025-06-12T19:49:11.180430Z",
     "iopub.status.idle": "2025-06-12T19:49:11.792025Z",
     "shell.execute_reply": "2025-06-12T19:49:11.791717Z"
    }
   },
   "outputs": [
    {
     "name": "stdout",
     "output_type": "stream",
     "text": [
      "Delete transaction hash: F16B9691894D95FEE7EA117ACD0C1D1BE5D1BDB6573CA18FDE0335CD9B5E1F1B\n"
     ]
    },
    {
     "name": "stdout",
     "output_type": "stream",
     "text": [
      "Tx error code: 0\n",
      "{\n",
      "  \"type\": \"dysonprotocol.crontask.v1.EventTaskDeleted\",\n",
      "  \"attributes\": [\n",
      "    {\n",
      "      \"key\": \"creator\",\n",
      "      \"value\": \"\\\"dys1fhhxp9xveswc4yhxekr32eqe80rkwpurya0jh0\\\"\",\n",
      "      \"index\": true\n",
      "    },\n",
      "    {\n",
      "      \"key\": \"task_id\",\n",
      "      \"value\": \"\\\"3\\\"\",\n",
      "      \"index\": true\n",
      "    },\n",
      "    {\n",
      "      \"key\": \"msg_index\",\n",
      "      \"value\": \"0\",\n",
      "      \"index\": true\n",
      "    }\n",
      "  ]\n",
      "}\n"
     ]
    }
   ],
   "source": [
    "# Query task by ID to check current status\n",
    "out = ! dysond query crontask task-by-id --task-id {TASK_ID} -o json\n",
    "out = ''.join(out)\n",
    "# Check if the task exists\n",
    "assert 'NotFound' not in out, f\"Task not found: {out}\"\n",
    "\n",
    "# Parse the JSON response\n",
    "task_json = json.loads(out)\n",
    "task_id = task_json['task']['task_id']\n",
    "\n",
    "# Delete the task\n",
    "out = ! dysond tx crontask delete-task --task-id {task_id} --from {NAME} -y -o json | jq .txhash -r\n",
    "txhash = out[0]\n",
    "print(f\"Delete transaction hash: {txhash}\")\n",
    "\n",
    "# Wait for transaction to be processed\n",
    "out = ! dysond query wait-tx \"{txhash}\" -o json\n",
    "tx_result = json.loads(\"\".join(out))\n",
    "print(f\"Tx error code: {tx_result['code']}\")\n",
    "assert tx_result['code'] == 0, f\"Tx failed with code {tx_result['code']}, {tx_result['raw_log']}\"\n",
    "\n",
    "# Find the EventTaskDeleted event\n",
    "for event in tx_result['events']:\n",
    "    if event['type'] == 'dysonprotocol.crontask.v1.EventTaskDeleted':\n",
    "        print(json.dumps(event, indent=2))\n"
   ]
  },
  {
   "cell_type": "markdown",
   "metadata": {},
   "source": [
    "## 7. Advanced Example: Integration with Python Scripts\n",
    "\n",
    "One of the most powerful features of Dyson Protocol is the ability to combine the Crontask module with the Script module. This allows for complex automation directly on-chain.\n",
    "\n",
    "Here's a Python script that creates a self-perpetuating countdown:"
   ]
  },
  {
   "cell_type": "code",
   "execution_count": 14,
   "metadata": {
    "execution": {
     "iopub.execute_input": "2025-06-12T19:49:11.793443Z",
     "iopub.status.busy": "2025-06-12T19:49:11.793336Z",
     "iopub.status.idle": "2025-06-12T19:49:11.812309Z",
     "shell.execute_reply": "2025-06-12T19:49:11.808881Z"
    }
   },
   "outputs": [
    {
     "name": "stdout",
     "output_type": "stream",
     "text": [
      "Created countdown script at /tmp/crontask_countdown.py\n"
     ]
    }
   ],
   "source": [
    "# Create the countdown script file\n",
    "countdown_script = '''\n",
    "import datetime\n",
    "import json\n",
    "from dys import _msg, _query, get_script_address, get_executor_address\n",
    "\n",
    "def countdown(count=10):\n",
    "    \"\"\"Creates a countdown that repeats every 3 seconds\"\"\"\n",
    "    # Convert to int in case passed as string from CLI\n",
    "    remaining = int(count)\n",
    "    \n",
    "    # Print current count\n",
    "    print(f\"COUNTDOWN: {remaining}\")\n",
    "    \n",
    "    # Stop if we've reached zero\n",
    "    if remaining <= 0:\n",
    "        return \"Countdown complete!\"\n",
    "    \n",
    "    # Schedule next countdown for 1 seconds from now\n",
    "    now = datetime.datetime.now()\n",
    "    scheduled_time = int((now + datetime.timedelta(seconds=1)).timestamp())\n",
    "    expiry_time = int((now + datetime.timedelta(days=1)).timestamp())\n",
    "    \n",
    "    # Create a message to call this script again with count-1\n",
    "    exec_script_msg = {\n",
    "        \"@type\": \"/dysonprotocol.script.v1.MsgExec\",\n",
    "        \"executor_address\": get_executor_address(),\n",
    "        \"script_address\": get_script_address(),\n",
    "        \"function_name\": \"countdown\",\n",
    "        \"args\": json.dumps([remaining - 1]),\n",
    "        \"kwargs\": \"{}\"\n",
    "    }\n",
    "    \n",
    "    # Create crontask to execute our script again with decremented count\n",
    "    result = _msg({\n",
    "        \"@type\": \"/dysonprotocol.crontask.v1.MsgCreateTask\",\n",
    "        \"creator\": get_executor_address(),\n",
    "        \"scheduled_timestamp\": str(scheduled_time),\n",
    "        \"expiry_timestamp\": str(expiry_time),\n",
    "        \"task_gas_limit\": \"200000\",\n",
    "        \"task_gas_fee\": {\"denom\": \"dys\", \"amount\": \"1\"},\n",
    "        \"msgs\": [exec_script_msg]\n",
    "    })\n",
    "    \n",
    "    return {\n",
    "        \"remaining\": remaining,\n",
    "        \"next_execution\": scheduled_time,\n",
    "        \"task_result\": result\n",
    "    }\n",
    "'''\n",
    "\n",
    "script_path = '/tmp/crontask_countdown.py'\n",
    "with open(script_path, 'w') as f:\n",
    "    f.write(countdown_script)\n",
    "\n",
    "print(\"Created countdown script at /tmp/crontask_countdown.py\")"
   ]
  },
  {
   "cell_type": "markdown",
   "metadata": {},
   "source": [
    "### Deploy the Script\n",
    "\n",
    "Now let's upload this script to the chain:"
   ]
  },
  {
   "cell_type": "code",
   "execution_count": 15,
   "metadata": {
    "execution": {
     "iopub.execute_input": "2025-06-12T19:49:11.814166Z",
     "iopub.status.busy": "2025-06-12T19:49:11.814053Z",
     "iopub.status.idle": "2025-06-12T19:49:12.649262Z",
     "shell.execute_reply": "2025-06-12T19:49:12.648944Z"
    }
   },
   "outputs": [
    {
     "name": "stdout",
     "output_type": "stream",
     "text": [
      "Script update transaction hash: 5046EC3D54834FEFA9F2FD00A4E234ACC018552FCFABBE3B2970CF3B3506D53A\n"
     ]
    },
    {
     "name": "stdout",
     "output_type": "stream",
     "text": [
      "Tx error code: 0\n",
      "Script uploaded successfully.\n",
      "{\n",
      "  \"type\": \"dysonprotocol.script.v1.EventUpdateScript\",\n",
      "  \"attributes\": [\n",
      "    {\n",
      "      \"key\": \"version\",\n",
      "      \"value\": \"\\\"1\\\"\",\n",
      "      \"index\": true\n",
      "    },\n",
      "    {\n",
      "      \"key\": \"msg_index\",\n",
      "      \"value\": \"0\",\n",
      "      \"index\": true\n",
      "    }\n",
      "  ]\n",
      "}\n"
     ]
    }
   ],
   "source": [
    "# Upload the script only if script module is avail\n",
    "update_cmd = f\"dysond tx script update --from {ADDRESS} --code-path {script_path} -y -o json | jq .txhash -r\"\n",
    "tx = ! {update_cmd}\n",
    "txhash = tx[0]\n",
    "print(f\"Script update transaction hash: {txhash}\")\n",
    "\n",
    "# Wait for transaction to be processed\n",
    "tx_result = ! dysond query wait-tx \"{txhash}\" -o json ; sleep 0.01\n",
    "tx_result = json.loads(\"\".join(tx_result))\n",
    "print(f\"Tx error code: {tx_result['code']}\")\n",
    "assert tx_result['code'] == 0, f\"Tx failed with code {tx_result['code']}, {tx_result['raw_log']}\"\n",
    "\n",
    "print(\"Script uploaded successfully.\")\n",
    "\n",
    "for event in tx_result['events']:\n",
    "    if event['type'] == 'dysonprotocol.script.v1.EventUpdateScript':\n",
    "        print(json.dumps(event, indent=2))\n"
   ]
  },
  {
   "cell_type": "markdown",
   "metadata": {},
   "source": [
    "### Execute the Script\n",
    "\n",
    "Now let's execute the script with a starting countdown value of 1:"
   ]
  },
  {
   "cell_type": "code",
   "execution_count": 16,
   "metadata": {
    "execution": {
     "iopub.execute_input": "2025-06-12T19:49:12.650720Z",
     "iopub.status.busy": "2025-06-12T19:49:12.650623Z",
     "iopub.status.idle": "2025-06-12T19:49:13.572676Z",
     "shell.execute_reply": "2025-06-12T19:49:13.572301Z"
    }
   },
   "outputs": [
    {
     "name": "stdout",
     "output_type": "stream",
     "text": [
      "Script execution transaction hash: EB917C4249ECA296C0BD672E3AC38D6B13F9BA78835A6954261E11B35A2A528E\n"
     ]
    },
    {
     "name": "stdout",
     "output_type": "stream",
     "text": [
      "Tx error code: 0\n",
      "Script executed successfully.\n"
     ]
    },
    {
     "data": {
      "text/plain": [
       "{'code': 0,\n",
       " 'script_result': {'result': {'cumsize': 57274,\n",
       "   'exception': None,\n",
       "   'gas_limit': 200000,\n",
       "   'nodes_called': 123,\n",
       "   'result': {'next_execution': 1749757753,\n",
       "    'remaining': 1,\n",
       "    'task_result': {'@type': '/dysonprotocol.crontask.v1.MsgCreateTaskResponse',\n",
       "     'task_id': '4'}},\n",
       "   'script_gas_consumed': 36463,\n",
       "   'stdout': 'COUNTDOWN: 1\\n'},\n",
       "  'attached_message_results': []},\n",
       " 'raw_log': '',\n",
       " 'events': [{'type': 'tx',\n",
       "   'attributes': [{'key': 'acc_seq',\n",
       "     'value': 'dys1fhhxp9xveswc4yhxekr32eqe80rkwpurya0jh0/3',\n",
       "     'index': True}]},\n",
       "  {'type': 'tx',\n",
       "   'attributes': [{'key': 'signature',\n",
       "     'value': 'pwCkdVoluksatyAglYKhKlERQD1QzdDxHEfWwqqBwQ4GwggKcb/+X0oS18sncR0wP+offbpQsWNni1Zegw2M3Q==',\n",
       "     'index': True}]},\n",
       "  {'type': 'message',\n",
       "   'attributes': [{'key': 'action',\n",
       "     'value': '/dysonprotocol.script.v1.MsgExec',\n",
       "     'index': True},\n",
       "    {'key': 'sender',\n",
       "     'value': 'dys1fhhxp9xveswc4yhxekr32eqe80rkwpurya0jh0',\n",
       "     'index': True},\n",
       "    {'key': 'module', 'value': 'script', 'index': True},\n",
       "    {'key': 'msg_index', 'value': '0', 'index': True}]},\n",
       "  {'type': 'dysonprotocol.crontask.v1.EventTaskCreated',\n",
       "   'attributes': [{'key': 'creator',\n",
       "     'value': '\"dys1fhhxp9xveswc4yhxekr32eqe80rkwpurya0jh0\"',\n",
       "     'index': True},\n",
       "    {'key': 'task_id', 'value': '\"4\"', 'index': True},\n",
       "    {'key': 'msg_index', 'value': '0', 'index': True}]},\n",
       "  {'type': 'dysonprotocol.script.v1.EventExecScript',\n",
       "   'attributes': [{'key': 'request',\n",
       "     'value': '{\"executor_address\":\"dys1fhhxp9xveswc4yhxekr32eqe80rkwpurya0jh0\",\"script_address\":\"dys1fhhxp9xveswc4yhxekr32eqe80rkwpurya0jh0\",\"extra_code\":\"\",\"function_name\":\"countdown\",\"args\":\"[1]\",\"kwargs\":\"\",\"attached_messages\":[]}',\n",
       "     'index': True},\n",
       "    {'key': 'response',\n",
       "     'value': '{\"result\":\"{\\\\\"cumsize\\\\\":57274,\\\\\"exception\\\\\":null,\\\\\"gas_limit\\\\\":200000,\\\\\"nodes_called\\\\\":123,\\\\\"result\\\\\":{\\\\\"next_execution\\\\\":1749757753,\\\\\"remaining\\\\\":1,\\\\\"task_result\\\\\":{\\\\\"@type\\\\\":\\\\\"/dysonprotocol.crontask.v1.MsgCreateTaskResponse\\\\\",\\\\\"task_id\\\\\":\\\\\"4\\\\\"}},\\\\\"script_gas_consumed\\\\\":36463,\\\\\"stdout\\\\\":\\\\\"COUNTDOWN: 1\\\\\\\\n\\\\\"}\",\"attached_message_results\":[]}',\n",
       "     'index': True},\n",
       "    {'key': 'msg_index', 'value': '0', 'index': True}]}]}"
      ]
     },
     "execution_count": 16,
     "metadata": {},
     "output_type": "execute_result"
    }
   ],
   "source": [
    "# Execute the script only if script module is available and upload was successful\n",
    "\n",
    "# Properly escape the arguments\n",
    "args_escaped = shlex.quote('[1]')\n",
    "\n",
    "exec_cmd = f\"dysond tx script exec --script-address {ADDRESS} --from {ADDRESS} --function-name countdown --args {args_escaped} -y --output json | jq .txhash -r\"\n",
    "tx = ! {exec_cmd}\n",
    "txhash = tx[0]\n",
    "print(f\"Script execution transaction hash: {txhash}\")\n",
    "# Some delay to ensure the transaction is available\n",
    "time.sleep(0.01)\n",
    "# Wait for transaction to be processed\n",
    "tx_result = ! dysond query wait-tx \"{txhash}\" -o json | ../scripts/parse_exec_script_tx.py\n",
    "tx_result = json.loads(\"\".join(tx_result))\n",
    "print(f\"Tx error code: {tx_result['code']}\")\n",
    "assert tx_result['code'] == 0, f\"Tx failed with code {tx_result['code']}, {tx_result['raw_log']}\"\n",
    "\n",
    "print(\"Script executed successfully.\")\n",
    "tx_result"
   ]
  },
  {
   "cell_type": "markdown",
   "metadata": {},
   "source": [
    "### Query all the tasks created by the script\n"
   ]
  },
  {
   "cell_type": "code",
   "execution_count": 17,
   "metadata": {
    "execution": {
     "iopub.execute_input": "2025-06-12T19:49:13.574285Z",
     "iopub.status.busy": "2025-06-12T19:49:13.574168Z",
     "iopub.status.idle": "2025-06-12T19:49:14.154232Z",
     "shell.execute_reply": "2025-06-12T19:49:14.153913Z"
    }
   },
   "outputs": [
    {
     "name": "stdout",
     "output_type": "stream",
     "text": [
      "Created task ID: 4\n",
      "\n",
      "--- Examining task #1 (ID: 4) ---\n",
      "Waiting for it to be executed...\n"
     ]
    },
    {
     "name": "stdout",
     "output_type": "stream",
     "text": [
      "Task details: {'task': {'task_id': '4', 'creator': 'dys1fhhxp9xveswc4yhxekr32eqe80rkwpurya0jh0', 'scheduled_timestamp': '1749757753', 'expiry_timestamp': '1749844152', 'task_gas_limit': '200000', 'task_gas_price': {'denom': 'dys', 'amount': '0'}, 'task_gas_fee': {'denom': 'dys', 'amount': '1'}, 'msgs': [{'type': '/dysonprotocol.script.v1.MsgExec', 'value': {'executor_address': 'dys1fhhxp9xveswc4yhxekr32eqe80rkwpurya0jh0', 'script_address': 'dys1fhhxp9xveswc4yhxekr32eqe80rkwpurya0jh0', 'function_name': 'countdown', 'args': '[0]', 'kwargs': '{}'}}], 'status': 'SCHEDULED', 'creation_time': '1749757752'}}\n",
      "Task status: SCHEDULED\n",
      "Waiting for it to be executed...\n"
     ]
    },
    {
     "name": "stdout",
     "output_type": "stream",
     "text": [
      "Task details: {'task': {'task_id': '4', 'creator': 'dys1fhhxp9xveswc4yhxekr32eqe80rkwpurya0jh0', 'scheduled_timestamp': '1749757753', 'expiry_timestamp': '1749844152', 'task_gas_limit': '200000', 'task_gas_price': {'denom': 'dys', 'amount': '0'}, 'task_gas_fee': {'denom': 'dys', 'amount': '1'}, 'msgs': [{'type': '/dysonprotocol.script.v1.MsgExec', 'value': {'executor_address': 'dys1fhhxp9xveswc4yhxekr32eqe80rkwpurya0jh0', 'script_address': 'dys1fhhxp9xveswc4yhxekr32eqe80rkwpurya0jh0', 'function_name': 'countdown', 'args': '[0]', 'kwargs': '{}'}}], 'status': 'SCHEDULED', 'creation_time': '1749757752'}}\n",
      "Task status: SCHEDULED\n",
      "Waiting for it to be executed...\n"
     ]
    },
    {
     "name": "stdout",
     "output_type": "stream",
     "text": [
      "Task details: {'task': {'task_id': '4', 'creator': 'dys1fhhxp9xveswc4yhxekr32eqe80rkwpurya0jh0', 'scheduled_timestamp': '1749757753', 'expiry_timestamp': '1749844152', 'task_gas_limit': '200000', 'task_gas_price': {'denom': 'dys', 'amount': '0'}, 'task_gas_fee': {'denom': 'dys', 'amount': '1'}, 'msgs': [{'type': '/dysonprotocol.script.v1.MsgExec', 'value': {'executor_address': 'dys1fhhxp9xveswc4yhxekr32eqe80rkwpurya0jh0', 'script_address': 'dys1fhhxp9xveswc4yhxekr32eqe80rkwpurya0jh0', 'function_name': 'countdown', 'args': '[0]', 'kwargs': '{}'}}], 'msg_results': [{'type': '/dysonprotocol.script.v1.MsgExecResponse', 'value': {'result': '{\"cumsize\":7958,\"exception\":null,\"gas_limit\":200000,\"nodes_called\":33,\"result\":\"Countdown complete!\",\"script_gas_consumed\":8122,\"stdout\":\"COUNTDOWN: 0\\\\n\"}'}}], 'status': 'DONE', 'creation_time': '1749757752', 'task_gas_consumed': '16081', 'execution_timestamp': '1749757753'}}\n",
      "Task status: DONE\n",
      "Task result: {'cumsize': 7958, 'exception': None, 'gas_limit': 200000, 'nodes_called': 33, 'result': 'Countdown complete!', 'script_gas_consumed': 8122, 'stdout': 'COUNTDOWN: 0\\n'}\n",
      "No next task found. Chain complete.\n",
      "\n",
      "Processed 1 tasks in the chain.\n"
     ]
    }
   ],
   "source": [
    "# Get the task ID from the script result\n",
    "task_id = tx_result['script_result']['result']['result']['task_result']['task_id']\n",
    "print(f\"Created task ID: {task_id}\")\n",
    "\n",
    "# Follow the chain of tasks\n",
    "current_task_id = task_id\n",
    "task_count = 0\n",
    "max_tasks = 10  # Safety limit to prevent infinite loops\n",
    "\n",
    "while current_task_id and task_count < max_tasks:\n",
    "    task_count += 1\n",
    "    print(f\"\\n--- Examining task #{task_count} (ID: {current_task_id}) ---\")\n",
    "    \n",
    "     # Wait for pending tasks to complete\n",
    "    task_status = 'SCHEDULED'\n",
    "    while task_status in ('SCHEDULED', 'PENDING'):\n",
    "        print(\"Waiting for it to be executed...\")\n",
    "        time.sleep(0.05)\n",
    "        # Query the current task\n",
    "        out = ! dysond query crontask task-by-id --task-id {current_task_id} -o json\n",
    "        out = ''.join(out)\n",
    "        \n",
    "        task_json = json.loads(out)\n",
    "        print(\"Task details:\", task_json)\n",
    "\n",
    "        task_status = task_json['task']['status']\n",
    "        print(f\"Task status: {task_status}\")\n",
    "    \n",
    "    # Parse the result to get the next task ID\n",
    "    task_result = json.loads(task_json['task']['msg_results'][0]['value']['result'])\n",
    "    print(f\"Task result:\", task_result)\n",
    "    \n",
    "    # Check if there's a next task\n",
    "    if 'result' in task_result and 'task_result' in task_result['result']:\n",
    "        # Check if we've reached the end of the countdown\n",
    "        remaining = task_result['result'].get('remaining', 0)\n",
    "            \n",
    "        # Get the next task ID\n",
    "        current_task_id = task_result['result']['task_result']['task_id']\n",
    "        print(f\"Next task ID: {current_task_id}\")\n",
    "    else:\n",
    "        print(\"No next task found. Chain complete.\")\n",
    "        break\n",
    "            \n",
    "print(f\"\\nProcessed {task_count} tasks in the chain.\")\n"
   ]
  },
  {
   "cell_type": "markdown",
   "metadata": {},
   "source": [
    "## 8. Best Practices\n",
    "\n",
    "1. **Gas Management**:\n",
    "   - Set appropriate gas limits based on the complexity of your task\n",
    "   - Use higher gas fees for time-sensitive operations\n",
    "\n",
    "2. **Scheduling**:\n",
    "   - Be aware of the chain parameter limits for scheduling tasks\n",
    "   - Set reasonable expiry times based on the importance of task execution\n",
    "\n",
    "3. **Error Handling**:\n",
    "   - In scripts that schedule tasks, implement error handling and monitoring\n",
    "   - Consider creating retry mechanisms for important tasks\n",
    "\n",
    "4. **Security**:\n",
    "   - Be cautious with messages in tasks, as they will execute with the creator's permissions\n",
    "   - Avoid storing sensitive information in task messages\n",
    "\n",
    "5. **Performance**:\n",
    "   - Limit the number of tasks scheduled for the same timestamp\n",
    "   - Spread out tasks over time when possible to reduce blockchain congestion"
   ]
  },
  {
   "cell_type": "markdown",
   "metadata": {},
   "source": [
    "## 9. Troubleshooting\n",
    "\n",
    "### Common Issues\n",
    "\n",
    "1. **Task not executing**: \n",
    "   - Check if the scheduled timestamp has been reached\n",
    "   - Verify that the task has not expired\n",
    "   - Ensure sufficient gas was provided\n",
    "\n",
    "2. **Task execution failing**:\n",
    "   - Check task status and error messages\n",
    "   - Verify that message permissions are correct\n",
    "   - Confirm that gas limit is sufficient\n",
    "\n",
    "3. **Cannot delete task**:\n",
    "   - Only pending tasks can be deleted\n",
    "   - Only the creator can delete their tasks\n",
    "\n",
    "4. **Task creation failing**:\n",
    "   - Ensure scheduled time is within allowed parameters\n",
    "   - Verify message format is correct\n",
    "   - Check that sufficient funds are available for gas fees"
   ]
  },
  {
   "cell_type": "markdown",
   "metadata": {},
   "source": [
    "## 10. Summary\n",
    "\n",
    "The Crontask module in Dyson Protocol provides a powerful mechanism for scheduling on-chain transactions. By combining it with the Script module, developers can create complex automation workflows directly on-chain.\n",
    "\n",
    "Key points to remember:\n",
    "1. Tasks execute automatically when their scheduled time is reached\n",
    "2. Tasks expire if not executed by their expiry time\n",
    "3. Properly manage gas to ensure task execution\n",
    "4. Monitor task status for successful execution\n",
    "5. For complex automation, combine with on-chain scripts\n",
    "\n",
    "With these tools, you can build truly decentralized applications with time-based automation, without relying on off-chain infrastructure."
   ]
  }
 ],
 "metadata": {
  "kernelspec": {
   "display_name": "Python 3",
   "language": "python",
   "name": "python3"
  },
  "language_info": {
   "codemirror_mode": {
    "name": "ipython",
    "version": 3
   },
   "file_extension": ".py",
   "mimetype": "text/x-python",
   "name": "python",
   "nbconvert_exporter": "python",
   "pygments_lexer": "ipython3",
   "version": "3.12.2"
  }
 },
 "nbformat": 4,
 "nbformat_minor": 4
}
