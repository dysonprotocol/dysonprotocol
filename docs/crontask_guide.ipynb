{
 "cells": [
  {
   "cell_type": "markdown",
   "metadata": {},
   "source": [
    "# Dyson Protocol Crontask Module Guide\n",
    "\n",
    "This notebook serves as a comprehensive guide to the Crontask module in Dyson Protocol, demonstrating how to schedule on-chain transactions for future execution."
   ]
  },
  {
   "cell_type": "markdown",
   "metadata": {},
   "source": [
    "## 1. Introduction to Crontasks\n",
    "\n",
    "The Crontask module enables scheduled execution of transactions on the Dyson Protocol blockchain. It allows users to create tasks that will execute at a specific time in the future, with an expiration deadline.\n",
    "\n",
    "**Key Features**:\n",
    "- **Scheduled Transactions**: Schedule any transaction to be executed at a future block height\n",
    "- **Flexible Timing**: Set execution times up to the maximum allowed by chain parameters\n",
    "- **Expiration Management**: Tasks expire if not executed by their expiry timestamp\n",
    "- **Gas Configuration**: Set gas limits and prices for task execution\n",
    "- **Script Integration**: Seamless interaction with on-chain Python scripts for advanced automation\n",
    "\n",
    "**Use Cases**:\n",
    "- Autonomous payouts\n",
    "- Timed auctions\n",
    "- Game rounds with automatic progression\n",
    "- Price oracles with regular updates\n",
    "- Scheduled maintenance operations"
   ]
  },
  {
   "cell_type": "markdown",
   "metadata": {},
   "source": [
    "## 2. Understanding Module Parameters\n",
    "\n",
    "First, let's check the current module parameters:"
   ]
  },
  {
   "cell_type": "code",
   "execution_count": 1,
   "metadata": {
    "execution": {
     "iopub.execute_input": "2025-06-06T13:32:51.638267Z",
     "iopub.status.busy": "2025-06-06T13:32:51.638166Z",
     "iopub.status.idle": "2025-06-06T13:32:51.837985Z",
     "shell.execute_reply": "2025-06-06T13:32:51.837664Z"
    }
   },
   "outputs": [
    {
     "name": "stdout",
     "output_type": "stream",
     "text": [
      "{\r\n",
      "  \"params\": {\r\n",
      "    \"block_gas_limit\": \"500000\",\r\n",
      "    \"expiry_limit\": \"86400\",\r\n",
      "    \"max_scheduled_time\": \"86400\"\r\n",
      "  }\r\n",
      "}\r\n"
     ]
    }
   ],
   "source": [
    "import json\n",
    "import shlex\n",
    "import time\n",
    "from datetime import datetime\n",
    "\n",
    "# Get module parameters\n",
    "! dysond query crontask params -o json"
   ]
  },
  {
   "cell_type": "markdown",
   "metadata": {},
   "source": [
    "The module parameters include:\n",
    "- `block_gas_limit`: Maximum gas that can be consumed by scheduled tasks in a single block\n",
    "- `expiry_limit`: Maximum time (in seconds) that a task can be scheduled for before expiration\n",
    "- `max_scheduled_time`: Maximum time (in seconds) in the future that a task can be scheduled"
   ]
  },
  {
   "cell_type": "markdown",
   "metadata": {},
   "source": [
    "## 3. Command Overview\n",
    "\n",
    "The Crontask module provides the following commands:\n"
   ]
  },
  {
   "cell_type": "markdown",
   "metadata": {},
   "source": [
    "### Transaction Commands"
   ]
  },
  {
   "cell_type": "code",
   "execution_count": 2,
   "metadata": {
    "execution": {
     "iopub.execute_input": "2025-06-06T13:32:51.839657Z",
     "iopub.status.busy": "2025-06-06T13:32:51.839547Z",
     "iopub.status.idle": "2025-06-06T13:32:52.021673Z",
     "shell.execute_reply": "2025-06-06T13:32:52.021298Z"
    }
   },
   "outputs": [
    {
     "name": "stdout",
     "output_type": "stream",
     "text": [
      "Transactions commands for the crontask module\r\n",
      "\r\n",
      "Usage:\r\n",
      "  dysond tx crontask [flags]\r\n",
      "  dysond tx crontask [command]\r\n",
      "\r\n",
      "Available Commands:\r\n",
      "  create-task Create a new scheduled task\r\n",
      "  delete-task Delete a scheduled task\r\n",
      "\r\n",
      "Flags:\r\n",
      "  -h, --help   help for crontask\r\n",
      "\r\n",
      "Global Flags:\r\n",
      "      --home string         directory for config and data (default \"/var/folders/th/nv7lq13d7gx0jfhfg68wdh040000gn/T/tmpnzinwxzm/chain-a-node-1\")\r\n",
      "      --log_format string   The logging format (json|plain) (default \"plain\")\r\n",
      "      --log_level string    The logging level (trace|debug|info|warn|error|fatal|panic|disabled or '*:<level>,<key>:<level>') (default \"info\")\r\n",
      "      --log_no_color        Disable colored logs\r\n",
      "      --trace               print out full stack trace on errors\r\n",
      "\r\n",
      "Use \"dysond tx crontask [command] --help\" for more information about a command.\r\n"
     ]
    }
   ],
   "source": [
    "! dysond tx crontask"
   ]
  },
  {
   "cell_type": "markdown",
   "metadata": {},
   "source": [
    "### Query Commands"
   ]
  },
  {
   "cell_type": "code",
   "execution_count": 3,
   "metadata": {
    "execution": {
     "iopub.execute_input": "2025-06-06T13:32:52.023431Z",
     "iopub.status.busy": "2025-06-06T13:32:52.023317Z",
     "iopub.status.idle": "2025-06-06T13:32:52.200881Z",
     "shell.execute_reply": "2025-06-06T13:32:52.200577Z"
    }
   },
   "outputs": [
    {
     "name": "stdout",
     "output_type": "stream",
     "text": [
      "Querying commands for the crontask module\r\n",
      "\r\n",
      "Usage:\r\n",
      "  dysond query crontask [flags]\r\n",
      "  dysond query crontask [command]\r\n",
      "\r\n",
      "Available Commands:\r\n",
      "  params                    Query module parameters\r\n",
      "  task-by-id                Query a task by ID\r\n",
      "  tasks-by-address          Query tasks by creator address\r\n",
      "  tasks-by-status-gas-price Query tasks by status and gas price\r\n",
      "  tasks-by-status-timestamp Query tasks by status and timestamp\r\n",
      "\r\n",
      "Flags:\r\n",
      "  -h, --help   help for crontask\r\n",
      "\r\n",
      "Global Flags:\r\n",
      "      --home string         directory for config and data (default \"/var/folders/th/nv7lq13d7gx0jfhfg68wdh040000gn/T/tmpnzinwxzm/chain-a-node-1\")\r\n",
      "      --log_format string   The logging format (json|plain) (default \"plain\")\r\n",
      "      --log_level string    The logging level (trace|debug|info|warn|error|fatal|panic|disabled or '*:<level>,<key>:<level>') (default \"info\")\r\n",
      "      --log_no_color        Disable colored logs\r\n",
      "      --trace               print out full stack trace on errors\r\n",
      "\r\n",
      "Use \"dysond query crontask [command] --help\" for more information about a command.\r\n"
     ]
    }
   ],
   "source": [
    "! dysond query crontask "
   ]
  },
  {
   "cell_type": "markdown",
   "metadata": {},
   "source": [
    "## 4. Creating a Crontask"
   ]
  },
  {
   "cell_type": "markdown",
   "metadata": {},
   "source": [
    "### Getting your address for the examples"
   ]
  },
  {
   "cell_type": "code",
   "execution_count": 4,
   "metadata": {
    "execution": {
     "iopub.execute_input": "2025-06-06T13:32:52.202503Z",
     "iopub.status.busy": "2025-06-06T13:32:52.202395Z",
     "iopub.status.idle": "2025-06-06T13:32:52.279445Z",
     "shell.execute_reply": "2025-06-06T13:32:52.279133Z"
    }
   },
   "outputs": [
    {
     "name": "stdout",
     "output_type": "stream",
     "text": [
      "['dys1fhhxp9xveswc4yhxekr32eqe80rkwpurya0jh0']\n",
      "Using address: dys1fhhxp9xveswc4yhxekr32eqe80rkwpurya0jh0\n"
     ]
    }
   ],
   "source": [
    "# Get the address from bob account (best case scenario)\n",
    "NAME = \"bob\"\n",
    "out = ! dysond keys show -a {NAME}\n",
    "print(out)\n",
    "ADDRESS = out[0]\n",
    "print(f\"Using address: {ADDRESS}\")"
   ]
  },
  {
   "cell_type": "markdown",
   "metadata": {},
   "source": [
    "### Creating a Simple Bank Transfer Task\n",
    "\n",
    "Let's create a task to send a small amount of tokens back to ourselves as a simple example."
   ]
  },
  {
   "cell_type": "code",
   "execution_count": 5,
   "metadata": {
    "execution": {
     "iopub.execute_input": "2025-06-06T13:32:52.280903Z",
     "iopub.status.busy": "2025-06-06T13:32:52.280780Z",
     "iopub.status.idle": "2025-06-06T13:32:52.382572Z",
     "shell.execute_reply": "2025-06-06T13:32:52.382289Z"
    }
   },
   "outputs": [
    {
     "name": "stdout",
     "output_type": "stream",
     "text": [
      "Scheduled time: 2025-06-06 15:32:53 (Unix: 1749216773)\n",
      "Expiry time: 2025-06-07 15:32:52 (Unix: 1749303172)\n"
     ]
    },
    {
     "name": "stdout",
     "output_type": "stream",
     "text": [
      "Transaction hash: 3CC37F4E9FAD43F4C0BCBA9442B9CDED30AFEE63AAA677109FA137348C6A2F4E\n"
     ]
    }
   ],
   "source": [
    "# Create the task\n",
    "import time\n",
    "import json\n",
    "\n",
    "# adjust as needed\n",
    "SCHEDULED_TIME = int(time.time() + 1)\n",
    "EXPIRY_TIME = int(time.time() + 86400)\n",
    "\n",
    "# Print in human-readable format for reference\n",
    "from datetime import datetime\n",
    "print(f\"Scheduled time: {datetime.fromtimestamp(SCHEDULED_TIME).strftime('%Y-%m-%d %H:%M:%S')} (Unix: {SCHEDULED_TIME})\")\n",
    "print(f\"Expiry time: {datetime.fromtimestamp(EXPIRY_TIME).strftime('%Y-%m-%d %H:%M:%S')} (Unix: {EXPIRY_TIME})\")\n",
    "\n",
    "# Create a message for the task\n",
    "TASK_MSG = {\n",
    "    \"@type\": \"/cosmos.bank.v1beta1.MsgSend\",\n",
    "    \"from_address\": ADDRESS,\n",
    "    \"to_address\": ADDRESS,\n",
    "    \"amount\": [{\"denom\": \"dys\", \"amount\": \"1\"}]\n",
    "}\n",
    "\n",
    "# Convert the message to a properly escaped JSON string for shell use\n",
    "TASK_MSG_JSON = shlex.quote(json.dumps(TASK_MSG))\n",
    "\n",
    "\n",
    "tx = ! dysond tx crontask create-task \\\n",
    "  --scheduled-timestamp {SCHEDULED_TIME} \\\n",
    "  --expiry-timestamp {EXPIRY_TIME} \\\n",
    "  --task-gas-limit 200000 \\\n",
    "  --task-gas-fee 1dys \\\n",
    "  --msgs {TASK_MSG_JSON} \\\n",
    "  --from {NAME} -y -o json | jq .txhash -r ; sleep 0.01\n",
    "txhash = tx[0]\n",
    "print(f\"Transaction hash: {txhash}\")\n"
   ]
  },
  {
   "cell_type": "code",
   "execution_count": 6,
   "metadata": {
    "execution": {
     "iopub.execute_input": "2025-06-06T13:32:52.383956Z",
     "iopub.status.busy": "2025-06-06T13:32:52.383836Z",
     "iopub.status.idle": "2025-06-06T13:32:52.549268Z",
     "shell.execute_reply": "2025-06-06T13:32:52.548959Z"
    }
   },
   "outputs": [
    {
     "name": "stdout",
     "output_type": "stream",
     "text": [
      "['{\"height\":\"441273\",\"txhash\":\"3CC37F4E9FAD43F4C0BCBA9442B9CDED30AFEE63AAA677109FA137348C6A2F4E\",\"codespace\":\"\",\"code\":0,\"data\":\"12360A302F6479736F6E70726F746F636F6C2E63726F6E7461736B2E76312E4D73674372656174655461736B526573706F6E736512020812\",\"raw_log\":\"\",\"logs\":[],\"info\":\"\",\"gas_wanted\":\"200000\",\"gas_used\":\"56188\",\"tx\":null,\"timestamp\":\"\",\"events\":[{\"type\":\"tx\",\"attributes\":[{\"key\":\"acc_seq\",\"value\":\"dys1fhhxp9xveswc4yhxekr32eqe80rkwpurya0jh0/58\",\"index\":true}]},{\"type\":\"tx\",\"attributes\":[{\"key\":\"signature\",\"value\":\"lrAZ1zQhpOymL4cX0n+7KBJsKaBRiAvVW6icJgbssdgjXOHcV6jOpYWQcHJ93tUNXYwuqhxH/Lcuprc+tYXHzg==\",\"index\":true}]},{\"type\":\"message\",\"attributes\":[{\"key\":\"action\",\"value\":\"/dysonprotocol.crontask.v1.MsgCreateTask\",\"index\":true},{\"key\":\"sender\",\"value\":\"dys1fhhxp9xveswc4yhxekr32eqe80rkwpurya0jh0\",\"index\":true},{\"key\":\"module\",\"value\":\"crontask\",\"index\":true},{\"key\":\"msg_index\",\"value\":\"0\",\"index\":true}]},{\"type\":\"dysonprotocol.crontask.v1.EventTaskCreated\",\"attributes\":[{\"key\":\"creator\",\"value\":\"\\\\\"dys1fhhxp9xveswc4yhxekr32eqe80rkwpurya0jh0\\\\\"\",\"index\":true},{\"key\":\"task_id\",\"value\":\"\\\\\"18\\\\\"\",\"index\":true},{\"key\":\"msg_index\",\"value\":\"0\",\"index\":true}]}]}']\n",
      "Tx error code: 0\n"
     ]
    }
   ],
   "source": [
    "\n",
    "# Wait for transaction to be processed\n",
    "tx_result = ! dysond query wait-tx \"{txhash}\" -o json\n",
    "print(tx_result)\n",
    "tx_result = json.loads(\"\".join(tx_result))\n",
    "print(f\"Tx error code: {tx_result['code']}\")\n",
    "assert tx_result['code'] == 0, f\"Tx failed with code {tx_result['code']}, {tx_result['raw_log']}\"\n"
   ]
  },
  {
   "cell_type": "markdown",
   "metadata": {},
   "source": [
    "### Getting the Task ID\n",
    "\n",
    "Let's extract the task ID from the transaction result. We'll query for the most recent task created by our address."
   ]
  },
  {
   "cell_type": "code",
   "execution_count": 7,
   "metadata": {
    "execution": {
     "iopub.execute_input": "2025-06-06T13:32:52.550874Z",
     "iopub.status.busy": "2025-06-06T13:32:52.550758Z",
     "iopub.status.idle": "2025-06-06T13:32:52.553006Z",
     "shell.execute_reply": "2025-06-06T13:32:52.552827Z"
    }
   },
   "outputs": [
    {
     "name": "stdout",
     "output_type": "stream",
     "text": [
      "{\n",
      "  \"type\": \"dysonprotocol.crontask.v1.EventTaskCreated\",\n",
      "  \"attributes\": [\n",
      "    {\n",
      "      \"key\": \"creator\",\n",
      "      \"value\": \"\\\"dys1fhhxp9xveswc4yhxekr32eqe80rkwpurya0jh0\\\"\",\n",
      "      \"index\": true\n",
      "    },\n",
      "    {\n",
      "      \"key\": \"task_id\",\n",
      "      \"value\": \"\\\"18\\\"\",\n",
      "      \"index\": true\n",
      "    },\n",
      "    {\n",
      "      \"key\": \"msg_index\",\n",
      "      \"value\": \"0\",\n",
      "      \"index\": true\n",
      "    }\n",
      "  ]\n",
      "}\n",
      "Created task ID: 18\n"
     ]
    }
   ],
   "source": [
    "# Print the transaction events to see what happened\n",
    "\n",
    "# Extract the task ID from the event attributes\n",
    "for event in tx_result.get('events', []):\n",
    "    if event.get('type') == 'dysonprotocol.crontask.v1.EventTaskCreated':\n",
    "        print(json.dumps(event, indent=2))\n",
    "\n",
    "        for attr in event.get('attributes', []):\n",
    "            if attr.get('key') == 'task_id':\n",
    "                TASK_ID = attr.get('value').strip('\"')\n",
    "                break\n",
    "\n",
    "print(f\"Created task ID: {TASK_ID}\")"
   ]
  },
  {
   "cell_type": "markdown",
   "metadata": {},
   "source": [
    "## 5. Querying Task Information\n",
    "\n",
    "### Query a Task by ID"
   ]
  },
  {
   "cell_type": "code",
   "execution_count": 8,
   "metadata": {
    "execution": {
     "iopub.execute_input": "2025-06-06T13:32:52.554132Z",
     "iopub.status.busy": "2025-06-06T13:32:52.554032Z",
     "iopub.status.idle": "2025-06-06T13:32:52.631476Z",
     "shell.execute_reply": "2025-06-06T13:32:52.631098Z"
    }
   },
   "outputs": [
    {
     "name": "stdout",
     "output_type": "stream",
     "text": [
      "{\n",
      "  \"task\": {\n",
      "    \"task_id\": \"18\",\n",
      "    \"creator\": \"dys1fhhxp9xveswc4yhxekr32eqe80rkwpurya0jh0\",\n",
      "    \"scheduled_timestamp\": \"1749216773\",\n",
      "    \"expiry_timestamp\": \"1749303172\",\n",
      "    \"task_gas_limit\": \"200000\",\n",
      "    \"task_gas_price\": {\n",
      "      \"denom\": \"dys\",\n",
      "      \"amount\": \"0\"\n",
      "    },\n",
      "    \"task_gas_fee\": {\n",
      "      \"denom\": \"dys\",\n",
      "      \"amount\": \"1\"\n",
      "    },\n",
      "    \"msgs\": [\n",
      "      {\n",
      "        \"type\": \"/cosmos.bank.v1beta1.MsgSend\",\n",
      "        \"value\": {\n",
      "          \"from_address\": \"dys1fhhxp9xveswc4yhxekr32eqe80rkwpurya0jh0\",\n",
      "          \"to_address\": \"dys1fhhxp9xveswc4yhxekr32eqe80rkwpurya0jh0\",\n",
      "          \"amount\": [\n",
      "            {\n",
      "              \"denom\": \"dys\",\n",
      "              \"amount\": \"1\"\n",
      "            }\n",
      "          ]\n",
      "        }\n",
      "      }\n",
      "    ],\n",
      "    \"status\": \"PENDING\",\n",
      "    \"creation_time\": \"1749216772\"\n",
      "  }\n",
      "}\n"
     ]
    }
   ],
   "source": [
    "# Query task by ID\n",
    "task_info = ! dysond query crontask task-by-id --task-id {TASK_ID} -o json \n",
    "task_info_str = ''.join(task_info)\n",
    "print(json.dumps(json.loads(task_info_str), indent=2))"
   ]
  },
  {
   "cell_type": "markdown",
   "metadata": {},
   "source": [
    "### Query All Tasks by Address"
   ]
  },
  {
   "cell_type": "code",
   "execution_count": 9,
   "metadata": {
    "execution": {
     "iopub.execute_input": "2025-06-06T13:32:52.632874Z",
     "iopub.status.busy": "2025-06-06T13:32:52.632776Z",
     "iopub.status.idle": "2025-06-06T13:32:52.713794Z",
     "shell.execute_reply": "2025-06-06T13:32:52.713504Z"
    }
   },
   "outputs": [
    {
     "data": {
      "text/plain": [
       "{'tasks': [{'task_id': '2',\n",
       "   'creator': 'dys1fhhxp9xveswc4yhxekr32eqe80rkwpurya0jh0',\n",
       "   'scheduled_timestamp': '1749201322',\n",
       "   'expiry_timestamp': '1749287721',\n",
       "   'task_gas_limit': '200000',\n",
       "   'task_gas_price': {'denom': 'dys', 'amount': '0'},\n",
       "   'task_gas_fee': {'denom': 'dys', 'amount': '1'},\n",
       "   'msgs': [{'type': '/dysonprotocol.script.v1.MsgExec',\n",
       "     'value': {'executor_address': 'dys1fhhxp9xveswc4yhxekr32eqe80rkwpurya0jh0',\n",
       "      'script_address': 'dys1fhhxp9xveswc4yhxekr32eqe80rkwpurya0jh0',\n",
       "      'function_name': 'countdown',\n",
       "      'args': '[2]',\n",
       "      'kwargs': '{}'}}],\n",
       "   'msg_results': [{'type': '/dysonprotocol.script.v1.MsgExecResponse',\n",
       "     'value': {'result': '{\"cumsize\":52354,\"exception\":null,\"gas_limit\":200000,\"nodes_called\":115,\"result\":{\"next_execution\":1749201323,\"remaining\":2,\"task_result\":{\"@type\":\"/dysonprotocol.crontask.v1.MsgCreateTaskResponse\",\"task_id\":\"3\"}},\"script_gas_consumed\":8044,\"stdout\":\"COUNTDOWN: 2\\\\n\"}'}}],\n",
       "   'status': 'DONE',\n",
       "   'creation_time': '1749201321'},\n",
       "  {'task_id': '3',\n",
       "   'creator': 'dys1fhhxp9xveswc4yhxekr32eqe80rkwpurya0jh0',\n",
       "   'scheduled_timestamp': '1749201323',\n",
       "   'expiry_timestamp': '1749287722',\n",
       "   'task_gas_limit': '200000',\n",
       "   'task_gas_price': {'denom': 'dys', 'amount': '0'},\n",
       "   'task_gas_fee': {'denom': 'dys', 'amount': '1'},\n",
       "   'msgs': [{'type': '/dysonprotocol.script.v1.MsgExec',\n",
       "     'value': {'executor_address': 'dys1fhhxp9xveswc4yhxekr32eqe80rkwpurya0jh0',\n",
       "      'script_address': 'dys1fhhxp9xveswc4yhxekr32eqe80rkwpurya0jh0',\n",
       "      'function_name': 'countdown',\n",
       "      'args': '[1]',\n",
       "      'kwargs': '{}'}}],\n",
       "   'msg_results': [{'type': '/dysonprotocol.script.v1.MsgExecResponse',\n",
       "     'value': {'result': '{\"cumsize\":52354,\"exception\":null,\"gas_limit\":200000,\"nodes_called\":115,\"result\":{\"next_execution\":1749201324,\"remaining\":1,\"task_result\":{\"@type\":\"/dysonprotocol.crontask.v1.MsgCreateTaskResponse\",\"task_id\":\"4\"}},\"script_gas_consumed\":8044,\"stdout\":\"COUNTDOWN: 1\\\\n\"}'}}],\n",
       "   'status': 'DONE',\n",
       "   'creation_time': '1749201322'},\n",
       "  {'task_id': '4',\n",
       "   'creator': 'dys1fhhxp9xveswc4yhxekr32eqe80rkwpurya0jh0',\n",
       "   'scheduled_timestamp': '1749201324',\n",
       "   'expiry_timestamp': '1749287723',\n",
       "   'task_gas_limit': '200000',\n",
       "   'task_gas_price': {'denom': 'dys', 'amount': '0'},\n",
       "   'task_gas_fee': {'denom': 'dys', 'amount': '1'},\n",
       "   'msgs': [{'type': '/dysonprotocol.script.v1.MsgExec',\n",
       "     'value': {'executor_address': 'dys1fhhxp9xveswc4yhxekr32eqe80rkwpurya0jh0',\n",
       "      'script_address': 'dys1fhhxp9xveswc4yhxekr32eqe80rkwpurya0jh0',\n",
       "      'function_name': 'countdown',\n",
       "      'args': '[0]',\n",
       "      'kwargs': '{}'}}],\n",
       "   'msg_results': [{'type': '/dysonprotocol.script.v1.MsgExecResponse',\n",
       "     'value': {'result': '{\"cumsize\":6726,\"exception\":null,\"gas_limit\":200000,\"nodes_called\":25,\"result\":\"Countdown complete!\",\"script_gas_consumed\":8044,\"stdout\":\"COUNTDOWN: 0\\\\n\"}'}}],\n",
       "   'status': 'DONE',\n",
       "   'creation_time': '1749201323'}],\n",
       " 'pagination': {'next_key': 'AAAAAAAAAAY='}}"
      ]
     },
     "execution_count": 9,
     "metadata": {},
     "output_type": "execute_result"
    }
   ],
   "source": [
    "# Query all tasks by address (we will only return 3 tasks for this example)\n",
    "out = ! dysond query crontask tasks-by-address --creator {ADDRESS} --page-limit 3 -o json\n",
    "tasks_by_addr_json = json.loads(''.join(out))\n",
    "tasks_by_addr_json"
   ]
  },
  {
   "cell_type": "markdown",
   "metadata": {},
   "source": [
    "### Query Tasks by Status\n",
    "The status can be one of the following: \n",
    "- PENDING: The task is scheduled to be executed\n",
    "- DONE: The task has been executed successfully\n",
    "- FAILED: The task failed when executed\n",
    "- EXPIRED: The task has expired by the expiry timestamp and was not executed"
   ]
  },
  {
   "cell_type": "code",
   "execution_count": 10,
   "metadata": {
    "execution": {
     "iopub.execute_input": "2025-06-06T13:32:52.715170Z",
     "iopub.status.busy": "2025-06-06T13:32:52.715064Z",
     "iopub.status.idle": "2025-06-06T13:32:52.793778Z",
     "shell.execute_reply": "2025-06-06T13:32:52.793478Z"
    }
   },
   "outputs": [
    {
     "data": {
      "text/plain": [
       "{'tasks': [{'task_id': '2',\n",
       "   'creator': 'dys1fhhxp9xveswc4yhxekr32eqe80rkwpurya0jh0',\n",
       "   'scheduled_timestamp': '1749201322',\n",
       "   'expiry_timestamp': '1749287721',\n",
       "   'task_gas_limit': '200000',\n",
       "   'task_gas_price': {'denom': 'dys', 'amount': '0'},\n",
       "   'task_gas_fee': {'denom': 'dys', 'amount': '1'},\n",
       "   'msgs': [{'type': '/dysonprotocol.script.v1.MsgExec',\n",
       "     'value': {'executor_address': 'dys1fhhxp9xveswc4yhxekr32eqe80rkwpurya0jh0',\n",
       "      'script_address': 'dys1fhhxp9xveswc4yhxekr32eqe80rkwpurya0jh0',\n",
       "      'function_name': 'countdown',\n",
       "      'args': '[2]',\n",
       "      'kwargs': '{}'}}],\n",
       "   'msg_results': [{'type': '/dysonprotocol.script.v1.MsgExecResponse',\n",
       "     'value': {'result': '{\"cumsize\":52354,\"exception\":null,\"gas_limit\":200000,\"nodes_called\":115,\"result\":{\"next_execution\":1749201323,\"remaining\":2,\"task_result\":{\"@type\":\"/dysonprotocol.crontask.v1.MsgCreateTaskResponse\",\"task_id\":\"3\"}},\"script_gas_consumed\":8044,\"stdout\":\"COUNTDOWN: 2\\\\n\"}'}}],\n",
       "   'status': 'DONE',\n",
       "   'creation_time': '1749201321'},\n",
       "  {'task_id': '3',\n",
       "   'creator': 'dys1fhhxp9xveswc4yhxekr32eqe80rkwpurya0jh0',\n",
       "   'scheduled_timestamp': '1749201323',\n",
       "   'expiry_timestamp': '1749287722',\n",
       "   'task_gas_limit': '200000',\n",
       "   'task_gas_price': {'denom': 'dys', 'amount': '0'},\n",
       "   'task_gas_fee': {'denom': 'dys', 'amount': '1'},\n",
       "   'msgs': [{'type': '/dysonprotocol.script.v1.MsgExec',\n",
       "     'value': {'executor_address': 'dys1fhhxp9xveswc4yhxekr32eqe80rkwpurya0jh0',\n",
       "      'script_address': 'dys1fhhxp9xveswc4yhxekr32eqe80rkwpurya0jh0',\n",
       "      'function_name': 'countdown',\n",
       "      'args': '[1]',\n",
       "      'kwargs': '{}'}}],\n",
       "   'msg_results': [{'type': '/dysonprotocol.script.v1.MsgExecResponse',\n",
       "     'value': {'result': '{\"cumsize\":52354,\"exception\":null,\"gas_limit\":200000,\"nodes_called\":115,\"result\":{\"next_execution\":1749201324,\"remaining\":1,\"task_result\":{\"@type\":\"/dysonprotocol.crontask.v1.MsgCreateTaskResponse\",\"task_id\":\"4\"}},\"script_gas_consumed\":8044,\"stdout\":\"COUNTDOWN: 1\\\\n\"}'}}],\n",
       "   'status': 'DONE',\n",
       "   'creation_time': '1749201322'},\n",
       "  {'task_id': '4',\n",
       "   'creator': 'dys1fhhxp9xveswc4yhxekr32eqe80rkwpurya0jh0',\n",
       "   'scheduled_timestamp': '1749201324',\n",
       "   'expiry_timestamp': '1749287723',\n",
       "   'task_gas_limit': '200000',\n",
       "   'task_gas_price': {'denom': 'dys', 'amount': '0'},\n",
       "   'task_gas_fee': {'denom': 'dys', 'amount': '1'},\n",
       "   'msgs': [{'type': '/dysonprotocol.script.v1.MsgExec',\n",
       "     'value': {'executor_address': 'dys1fhhxp9xveswc4yhxekr32eqe80rkwpurya0jh0',\n",
       "      'script_address': 'dys1fhhxp9xveswc4yhxekr32eqe80rkwpurya0jh0',\n",
       "      'function_name': 'countdown',\n",
       "      'args': '[0]',\n",
       "      'kwargs': '{}'}}],\n",
       "   'msg_results': [{'type': '/dysonprotocol.script.v1.MsgExecResponse',\n",
       "     'value': {'result': '{\"cumsize\":6726,\"exception\":null,\"gas_limit\":200000,\"nodes_called\":25,\"result\":\"Countdown complete!\",\"script_gas_consumed\":8044,\"stdout\":\"COUNTDOWN: 0\\\\n\"}'}}],\n",
       "   'status': 'DONE',\n",
       "   'creation_time': '1749201323'}],\n",
       " 'pagination': {'next_key': 'AAAAAAAAAAY='}}"
      ]
     },
     "execution_count": 10,
     "metadata": {},
     "output_type": "execute_result"
    }
   ],
   "source": [
    "# Query tasks that are status DONE\n",
    "\n",
    "out = ! dysond query crontask tasks-by-status-timestamp --status DONE -o json --page-limit 3\n",
    "json.loads(''.join(out))"
   ]
  },
  {
   "cell_type": "code",
   "execution_count": 11,
   "metadata": {
    "execution": {
     "iopub.execute_input": "2025-06-06T13:32:52.795092Z",
     "iopub.status.busy": "2025-06-06T13:32:52.794987Z",
     "iopub.status.idle": "2025-06-06T13:32:52.980042Z",
     "shell.execute_reply": "2025-06-06T13:32:52.979689Z"
    }
   },
   "outputs": [
    {
     "name": "stdout",
     "output_type": "stream",
     "text": [
      "Pending tasks:\n"
     ]
    },
    {
     "name": "stdout",
     "output_type": "stream",
     "text": [
      "{\r\n",
      "  \"tasks\": [\r\n",
      "    {\r\n",
      "      \"task_id\": \"18\",\r\n",
      "      \"creator\": \"dys1fhhxp9xveswc4yhxekr32eqe80rkwpurya0jh0\",\r\n",
      "      \"scheduled_timestamp\": \"1749216773\",\r\n",
      "      \"expiry_timestamp\": \"1749303172\",\r\n",
      "      \"task_gas_limit\": \"200000\",\r\n",
      "      \"task_gas_price\": {\r\n",
      "        \"denom\": \"dys\",\r\n",
      "        \"amount\": \"0\"\r\n",
      "      },\r\n",
      "      \"task_gas_fee\": {\r\n",
      "        \"denom\": \"dys\",\r\n",
      "        \"amount\": \"1\"\r\n",
      "      },\r\n",
      "      \"msgs\": [\r\n",
      "        {\r\n",
      "          \"type\": \"/cosmos.bank.v1beta1.MsgSend\",\r\n",
      "          \"value\": {\r\n",
      "            \"from_address\": \"dys1fhhxp9xveswc4yhxekr32eqe80rkwpurya0jh0\",\r\n",
      "            \"to_address\": \"dys1fhhxp9xveswc4yhxekr32eqe80rkwpurya0jh0\",\r\n",
      "            \"amount\": [\r\n",
      "              {\r\n",
      "                \"denom\": \"dys\",\r\n",
      "                \"amount\": \"1\"\r\n",
      "              }\r\n",
      "            ]\r\n",
      "          }\r\n",
      "        }\r\n",
      "      ],\r\n",
      "      \"status\": \"PENDING\",\r\n",
      "      \"creation_time\": \"1749216772\"\r\n",
      "    }\r\n",
      "  ],\r\n",
      "  \"pagination\": {\r\n",
      "    \"total\": \"1\"\r\n",
      "  }\r\n",
      "}\r\n"
     ]
    }
   ],
   "source": [
    "# List pending tasks\n",
    "print(\"Pending tasks:\")\n",
    "! dysond query crontask tasks-by-status-timestamp --status PENDING -o json | jq -M"
   ]
  },
  {
   "cell_type": "markdown",
   "metadata": {},
   "source": [
    "### Wait for the Task to Execute"
   ]
  },
  {
   "cell_type": "code",
   "execution_count": 12,
   "metadata": {
    "execution": {
     "iopub.execute_input": "2025-06-06T13:32:52.981667Z",
     "iopub.status.busy": "2025-06-06T13:32:52.981550Z",
     "iopub.status.idle": "2025-06-06T13:32:53.336526Z",
     "shell.execute_reply": "2025-06-06T13:32:53.336261Z"
    }
   },
   "outputs": [
    {
     "name": "stdout",
     "output_type": "stream",
     "text": [
      "Checking task status...."
     ]
    },
    {
     "name": "stdout",
     "output_type": "stream",
     "text": [
      "."
     ]
    },
    {
     "data": {
      "text/plain": [
       "{'task': {'task_id': '18',\n",
       "  'creator': 'dys1fhhxp9xveswc4yhxekr32eqe80rkwpurya0jh0',\n",
       "  'scheduled_timestamp': '1749216773',\n",
       "  'expiry_timestamp': '1749303172',\n",
       "  'task_gas_limit': '200000',\n",
       "  'task_gas_price': {'denom': 'dys', 'amount': '0'},\n",
       "  'task_gas_fee': {'denom': 'dys', 'amount': '1'},\n",
       "  'msgs': [{'type': '/cosmos.bank.v1beta1.MsgSend',\n",
       "    'value': {'from_address': 'dys1fhhxp9xveswc4yhxekr32eqe80rkwpurya0jh0',\n",
       "     'to_address': 'dys1fhhxp9xveswc4yhxekr32eqe80rkwpurya0jh0',\n",
       "     'amount': [{'denom': 'dys', 'amount': '1'}]}}],\n",
       "  'msg_results': [{'type': '/cosmos.bank.v1beta1.MsgSendResponse',\n",
       "    'value': {}}],\n",
       "  'status': 'DONE',\n",
       "  'creation_time': '1749216772'}}"
      ]
     },
     "execution_count": 12,
     "metadata": {},
     "output_type": "execute_result"
    }
   ],
   "source": [
    "task_status = \"PENDING\"\n",
    "# loop until the task is done or expired\n",
    "\n",
    "print(\"Checking task status...\", end=\"\")\n",
    "\n",
    "while task_status == \"PENDING\":\n",
    "    print(\".\", end=\"\")\n",
    "    time.sleep(0.1)\n",
    "    out = ! dysond query crontask task-by-id --task-id {TASK_ID} -o json\n",
    "    task_json = json.loads(''.join(out))\n",
    "    task_status = task_json['task']['status']\n",
    "    scheduled_time = task_json['task']['scheduled_timestamp']\n",
    "    current_time = int(time.time())\n",
    "\n",
    "task_json"
   ]
  },
  {
   "cell_type": "markdown",
   "metadata": {},
   "source": [
    "## 6. Deleting a Task\n"
   ]
  },
  {
   "cell_type": "code",
   "execution_count": 13,
   "metadata": {
    "execution": {
     "iopub.execute_input": "2025-06-06T13:32:53.337931Z",
     "iopub.status.busy": "2025-06-06T13:32:53.337816Z",
     "iopub.status.idle": "2025-06-06T13:32:53.643450Z",
     "shell.execute_reply": "2025-06-06T13:32:53.643137Z"
    }
   },
   "outputs": [
    {
     "name": "stdout",
     "output_type": "stream",
     "text": [
      "Delete transaction hash: F170FE23ADC2C320D3E27FA74882E663D696382973F02C96FE2C53F301D089A0\n"
     ]
    },
    {
     "name": "stdout",
     "output_type": "stream",
     "text": [
      "Tx error code: 0\n",
      "{\n",
      "  \"type\": \"dysonprotocol.crontask.v1.EventTaskDeleted\",\n",
      "  \"attributes\": [\n",
      "    {\n",
      "      \"key\": \"creator\",\n",
      "      \"value\": \"\\\"dys1fhhxp9xveswc4yhxekr32eqe80rkwpurya0jh0\\\"\",\n",
      "      \"index\": true\n",
      "    },\n",
      "    {\n",
      "      \"key\": \"task_id\",\n",
      "      \"value\": \"\\\"18\\\"\",\n",
      "      \"index\": true\n",
      "    },\n",
      "    {\n",
      "      \"key\": \"msg_index\",\n",
      "      \"value\": \"0\",\n",
      "      \"index\": true\n",
      "    }\n",
      "  ]\n",
      "}\n"
     ]
    }
   ],
   "source": [
    "# Query task by ID to check current status\n",
    "out = ! dysond query crontask task-by-id --task-id {TASK_ID} -o json\n",
    "out = ''.join(out)\n",
    "# Check if the task exists\n",
    "assert 'NotFound' not in out, f\"Task not found: {out}\"\n",
    "\n",
    "# Parse the JSON response\n",
    "task_json = json.loads(out)\n",
    "task_id = task_json['task']['task_id']\n",
    "\n",
    "# Delete the task\n",
    "out = ! dysond tx crontask delete-task --task-id {task_id} --from {NAME} -y -o json | jq .txhash -r\n",
    "txhash = out[0]\n",
    "print(f\"Delete transaction hash: {txhash}\")\n",
    "\n",
    "# Wait for transaction to be processed\n",
    "out = ! dysond query wait-tx \"{txhash}\" -o json\n",
    "tx_result = json.loads(\"\".join(out))\n",
    "print(f\"Tx error code: {tx_result['code']}\")\n",
    "assert tx_result['code'] == 0, f\"Tx failed with code {tx_result['code']}, {tx_result['raw_log']}\"\n",
    "\n",
    "# Find the EventTaskDeleted event\n",
    "for event in tx_result['events']:\n",
    "    if event['type'] == 'dysonprotocol.crontask.v1.EventTaskDeleted':\n",
    "        print(json.dumps(event, indent=2))\n"
   ]
  },
  {
   "cell_type": "markdown",
   "metadata": {},
   "source": [
    "## 7. Advanced Example: Integration with Python Scripts\n",
    "\n",
    "One of the most powerful features of Dyson Protocol is the ability to combine the Crontask module with the Script module. This allows for complex automation directly on-chain.\n",
    "\n",
    "Here's a Python script that creates a self-perpetuating countdown:"
   ]
  },
  {
   "cell_type": "code",
   "execution_count": 14,
   "metadata": {
    "execution": {
     "iopub.execute_input": "2025-06-06T13:32:53.644925Z",
     "iopub.status.busy": "2025-06-06T13:32:53.644817Z",
     "iopub.status.idle": "2025-06-06T13:32:53.650663Z",
     "shell.execute_reply": "2025-06-06T13:32:53.650443Z"
    }
   },
   "outputs": [
    {
     "name": "stdout",
     "output_type": "stream",
     "text": [
      "Created countdown script at /tmp/crontask_countdown.py\n"
     ]
    }
   ],
   "source": [
    "# Create the countdown script file\n",
    "countdown_script = '''\n",
    "import datetime\n",
    "import json\n",
    "from dys import _msg, _query, get_script_address, get_executor_address\n",
    "\n",
    "def countdown(count=10):\n",
    "    \"\"\"Creates a countdown that repeats every 3 seconds\"\"\"\n",
    "    # Convert to int in case passed as string from CLI\n",
    "    remaining = int(count)\n",
    "    \n",
    "    # Print current count\n",
    "    print(f\"COUNTDOWN: {remaining}\")\n",
    "    \n",
    "    # Stop if we've reached zero\n",
    "    if remaining <= 0:\n",
    "        return \"Countdown complete!\"\n",
    "    \n",
    "    # Schedule next countdown for 1 seconds from now\n",
    "    now = datetime.datetime.now()\n",
    "    scheduled_time = int((now + datetime.timedelta(seconds=1)).timestamp())\n",
    "    expiry_time = int((now + datetime.timedelta(days=1)).timestamp())\n",
    "    \n",
    "    # Create a message to call this script again with count-1\n",
    "    exec_script_msg = {\n",
    "        \"@type\": \"/dysonprotocol.script.v1.MsgExec\",\n",
    "        \"executor_address\": get_executor_address(),\n",
    "        \"script_address\": get_script_address(),\n",
    "        \"function_name\": \"countdown\",\n",
    "        \"args\": json.dumps([remaining - 1]),\n",
    "        \"kwargs\": \"{}\"\n",
    "    }\n",
    "    \n",
    "    # Create crontask to execute our script again with decremented count\n",
    "    result = _msg({\n",
    "        \"@type\": \"/dysonprotocol.crontask.v1.MsgCreateTask\",\n",
    "        \"creator\": get_executor_address(),\n",
    "        \"scheduled_timestamp\": str(scheduled_time),\n",
    "        \"expiry_timestamp\": str(expiry_time),\n",
    "        \"task_gas_limit\": \"200000\",\n",
    "        \"task_gas_fee\": {\"denom\": \"dys\", \"amount\": \"1\"},\n",
    "        \"msgs\": [exec_script_msg]\n",
    "    })\n",
    "    \n",
    "    return {\n",
    "        \"remaining\": remaining,\n",
    "        \"next_execution\": scheduled_time,\n",
    "        \"task_result\": result\n",
    "    }\n",
    "'''\n",
    "\n",
    "script_path = '/tmp/crontask_countdown.py'\n",
    "with open(script_path, 'w') as f:\n",
    "    f.write(countdown_script)\n",
    "\n",
    "print(\"Created countdown script at /tmp/crontask_countdown.py\")"
   ]
  },
  {
   "cell_type": "markdown",
   "metadata": {},
   "source": [
    "### Deploy the Script\n",
    "\n",
    "Now let's upload this script to the chain:"
   ]
  },
  {
   "cell_type": "code",
   "execution_count": 15,
   "metadata": {
    "execution": {
     "iopub.execute_input": "2025-06-06T13:32:53.651898Z",
     "iopub.status.busy": "2025-06-06T13:32:53.651813Z",
     "iopub.status.idle": "2025-06-06T13:32:53.957767Z",
     "shell.execute_reply": "2025-06-06T13:32:53.957431Z"
    }
   },
   "outputs": [
    {
     "name": "stdout",
     "output_type": "stream",
     "text": [
      "Script update transaction hash: 00D15DE59CABE690309DB641F4777E003E7A2545EA676BC61E8E90395275BF0F\n"
     ]
    },
    {
     "name": "stdout",
     "output_type": "stream",
     "text": [
      "Tx error code: 0\n",
      "Script uploaded successfully.\n",
      "{\n",
      "  \"type\": \"dysonprotocol.script.v1.EventUpdateScript\",\n",
      "  \"attributes\": [\n",
      "    {\n",
      "      \"key\": \"version\",\n",
      "      \"value\": \"\\\"5\\\"\",\n",
      "      \"index\": true\n",
      "    },\n",
      "    {\n",
      "      \"key\": \"msg_index\",\n",
      "      \"value\": \"0\",\n",
      "      \"index\": true\n",
      "    }\n",
      "  ]\n",
      "}\n"
     ]
    }
   ],
   "source": [
    "# Upload the script only if script module is avail\n",
    "update_cmd = f\"dysond tx script update --from {ADDRESS} --code-path {script_path} -y -o json | jq .txhash -r\"\n",
    "tx = ! {update_cmd}\n",
    "txhash = tx[0]\n",
    "print(f\"Script update transaction hash: {txhash}\")\n",
    "\n",
    "# Wait for transaction to be processed\n",
    "tx_result = ! dysond query wait-tx \"{txhash}\" -o json ; sleep 0.01\n",
    "tx_result = json.loads(\"\".join(tx_result))\n",
    "print(f\"Tx error code: {tx_result['code']}\")\n",
    "assert tx_result['code'] == 0, f\"Tx failed with code {tx_result['code']}, {tx_result['raw_log']}\"\n",
    "\n",
    "print(\"Script uploaded successfully.\")\n",
    "\n",
    "for event in tx_result['events']:\n",
    "    if event['type'] == 'dysonprotocol.script.v1.EventUpdateScript':\n",
    "        print(json.dumps(event, indent=2))\n"
   ]
  },
  {
   "cell_type": "markdown",
   "metadata": {},
   "source": [
    "### Execute the Script\n",
    "\n",
    "Now let's execute the script with a starting countdown value of 3:"
   ]
  },
  {
   "cell_type": "code",
   "execution_count": 16,
   "metadata": {
    "execution": {
     "iopub.execute_input": "2025-06-06T13:32:53.959637Z",
     "iopub.status.busy": "2025-06-06T13:32:53.959354Z",
     "iopub.status.idle": "2025-06-06T13:32:54.569497Z",
     "shell.execute_reply": "2025-06-06T13:32:54.569190Z"
    }
   },
   "outputs": [
    {
     "name": "stdout",
     "output_type": "stream",
     "text": [
      "Script execution transaction hash: B278EDE1E3E06B611C0A835F1E2ABB1276ABA438ABB616D57EE8825A448E4A69\n"
     ]
    },
    {
     "name": "stdout",
     "output_type": "stream",
     "text": [
      "Tx error code: 0\n",
      "Script executed successfully.\n"
     ]
    },
    {
     "data": {
      "text/plain": [
       "{'code': 0,\n",
       " 'script_result': {'result': {'cumsize': 52450,\n",
       "   'exception': None,\n",
       "   'gas_limit': 200000,\n",
       "   'nodes_called': 115,\n",
       "   'result': {'next_execution': 1749216775,\n",
       "    'remaining': 3,\n",
       "    'task_result': {'@type': '/dysonprotocol.crontask.v1.MsgCreateTaskResponse',\n",
       "     'task_id': '19'}},\n",
       "   'script_gas_consumed': 36385,\n",
       "   'stdout': 'COUNTDOWN: 3\\n'},\n",
       "  'attached_message_results': []},\n",
       " 'raw_log': '',\n",
       " 'events': [{'type': 'tx',\n",
       "   'attributes': [{'key': 'acc_seq',\n",
       "     'value': 'dys1fhhxp9xveswc4yhxekr32eqe80rkwpurya0jh0/61',\n",
       "     'index': True}]},\n",
       "  {'type': 'tx',\n",
       "   'attributes': [{'key': 'signature',\n",
       "     'value': 'JJC4Ut/nV79fNxnyp4uj2//57MD5QcWOV8h4RS7yyZB+IRnMKaA3oxFEV7IX4Fs8ZrTBKKXnjbecg9w8AC6Tcw==',\n",
       "     'index': True}]},\n",
       "  {'type': 'message',\n",
       "   'attributes': [{'key': 'action',\n",
       "     'value': '/dysonprotocol.script.v1.MsgExec',\n",
       "     'index': True},\n",
       "    {'key': 'sender',\n",
       "     'value': 'dys1fhhxp9xveswc4yhxekr32eqe80rkwpurya0jh0',\n",
       "     'index': True},\n",
       "    {'key': 'module', 'value': 'script', 'index': True},\n",
       "    {'key': 'msg_index', 'value': '0', 'index': True}]},\n",
       "  {'type': 'dysonprotocol.crontask.v1.EventTaskCreated',\n",
       "   'attributes': [{'key': 'creator',\n",
       "     'value': '\"dys1fhhxp9xveswc4yhxekr32eqe80rkwpurya0jh0\"',\n",
       "     'index': True},\n",
       "    {'key': 'task_id', 'value': '\"19\"', 'index': True},\n",
       "    {'key': 'msg_index', 'value': '0', 'index': True}]},\n",
       "  {'type': 'dysonprotocol.script.v1.EventExecScript',\n",
       "   'attributes': [{'key': 'request',\n",
       "     'value': '{\"executor_address\":\"dys1fhhxp9xveswc4yhxekr32eqe80rkwpurya0jh0\",\"script_address\":\"dys1fhhxp9xveswc4yhxekr32eqe80rkwpurya0jh0\",\"extra_code\":\"\",\"function_name\":\"countdown\",\"args\":\"[3]\",\"kwargs\":\"\",\"attached_messages\":[]}',\n",
       "     'index': True},\n",
       "    {'key': 'response',\n",
       "     'value': '{\"result\":\"{\\\\\"cumsize\\\\\":52450,\\\\\"exception\\\\\":null,\\\\\"gas_limit\\\\\":200000,\\\\\"nodes_called\\\\\":115,\\\\\"result\\\\\":{\\\\\"next_execution\\\\\":1749216775,\\\\\"remaining\\\\\":3,\\\\\"task_result\\\\\":{\\\\\"@type\\\\\":\\\\\"/dysonprotocol.crontask.v1.MsgCreateTaskResponse\\\\\",\\\\\"task_id\\\\\":\\\\\"19\\\\\"}},\\\\\"script_gas_consumed\\\\\":36385,\\\\\"stdout\\\\\":\\\\\"COUNTDOWN: 3\\\\\\\\n\\\\\"}\",\"attached_message_results\":[]}',\n",
       "     'index': True},\n",
       "    {'key': 'msg_index', 'value': '0', 'index': True}]}]}"
      ]
     },
     "execution_count": 16,
     "metadata": {},
     "output_type": "execute_result"
    }
   ],
   "source": [
    "# Execute the script only if script module is available and upload was successful\n",
    "\n",
    "# Properly escape the arguments\n",
    "args_escaped = shlex.quote('[3]')\n",
    "\n",
    "exec_cmd = f\"dysond tx script exec --script-address {ADDRESS} --from {ADDRESS} --function-name countdown --args {args_escaped} -y --output json | jq .txhash -r\"\n",
    "tx = ! {exec_cmd}\n",
    "txhash = tx[0]\n",
    "print(f\"Script execution transaction hash: {txhash}\")\n",
    "# Some delay to ensure the transaction is available\n",
    "time.sleep(0.01)\n",
    "# Wait for transaction to be processed\n",
    "tx_result = ! dysond query wait-tx \"{txhash}\" -o json | ../scripts/parse_exec_script_tx.py\n",
    "tx_result = json.loads(\"\".join(tx_result))\n",
    "print(f\"Tx error code: {tx_result['code']}\")\n",
    "assert tx_result['code'] == 0, f\"Tx failed with code {tx_result['code']}, {tx_result['raw_log']}\"\n",
    "\n",
    "print(\"Script executed successfully.\")\n",
    "tx_result"
   ]
  },
  {
   "cell_type": "markdown",
   "metadata": {},
   "source": [
    "### Query all the tasks created by the script\n"
   ]
  },
  {
   "cell_type": "code",
   "execution_count": 17,
   "metadata": {
    "execution": {
     "iopub.execute_input": "2025-06-06T13:32:54.570869Z",
     "iopub.status.busy": "2025-06-06T13:32:54.570765Z",
     "iopub.status.idle": "2025-06-06T13:32:57.658676Z",
     "shell.execute_reply": "2025-06-06T13:32:57.657884Z"
    }
   },
   "outputs": [
    {
     "name": "stdout",
     "output_type": "stream",
     "text": [
      "Created task ID: 19\n",
      "\n",
      "--- Examining task #1 (ID: 19) ---\n",
      "Waiting for it to be executed...\n"
     ]
    },
    {
     "name": "stdout",
     "output_type": "stream",
     "text": [
      "Task details: {'task': {'task_id': '19', 'creator': 'dys1fhhxp9xveswc4yhxekr32eqe80rkwpurya0jh0', 'scheduled_timestamp': '1749216775', 'expiry_timestamp': '1749303174', 'task_gas_limit': '200000', 'task_gas_price': {'denom': 'dys', 'amount': '0'}, 'task_gas_fee': {'denom': 'dys', 'amount': '1'}, 'msgs': [{'type': '/dysonprotocol.script.v1.MsgExec', 'value': {'executor_address': 'dys1fhhxp9xveswc4yhxekr32eqe80rkwpurya0jh0', 'script_address': 'dys1fhhxp9xveswc4yhxekr32eqe80rkwpurya0jh0', 'function_name': 'countdown', 'args': '[2]', 'kwargs': '{}'}}], 'status': 'PENDING', 'creation_time': '1749216774'}}\n",
      "Task status: PENDING\n",
      "Waiting for it to be executed...\n"
     ]
    },
    {
     "name": "stdout",
     "output_type": "stream",
     "text": [
      "Task details: {'task': {'task_id': '19', 'creator': 'dys1fhhxp9xveswc4yhxekr32eqe80rkwpurya0jh0', 'scheduled_timestamp': '1749216775', 'expiry_timestamp': '1749303174', 'task_gas_limit': '200000', 'task_gas_price': {'denom': 'dys', 'amount': '0'}, 'task_gas_fee': {'denom': 'dys', 'amount': '1'}, 'msgs': [{'type': '/dysonprotocol.script.v1.MsgExec', 'value': {'executor_address': 'dys1fhhxp9xveswc4yhxekr32eqe80rkwpurya0jh0', 'script_address': 'dys1fhhxp9xveswc4yhxekr32eqe80rkwpurya0jh0', 'function_name': 'countdown', 'args': '[2]', 'kwargs': '{}'}}], 'status': 'PENDING', 'creation_time': '1749216774'}}\n",
      "Task status: PENDING\n",
      "Waiting for it to be executed...\n"
     ]
    },
    {
     "name": "stdout",
     "output_type": "stream",
     "text": [
      "Task details: {'task': {'task_id': '19', 'creator': 'dys1fhhxp9xveswc4yhxekr32eqe80rkwpurya0jh0', 'scheduled_timestamp': '1749216775', 'expiry_timestamp': '1749303174', 'task_gas_limit': '200000', 'task_gas_price': {'denom': 'dys', 'amount': '0'}, 'task_gas_fee': {'denom': 'dys', 'amount': '1'}, 'msgs': [{'type': '/dysonprotocol.script.v1.MsgExec', 'value': {'executor_address': 'dys1fhhxp9xveswc4yhxekr32eqe80rkwpurya0jh0', 'script_address': 'dys1fhhxp9xveswc4yhxekr32eqe80rkwpurya0jh0', 'function_name': 'countdown', 'args': '[2]', 'kwargs': '{}'}}], 'msg_results': [{'type': '/dysonprotocol.script.v1.MsgExecResponse', 'value': {'result': '{\"cumsize\":52450,\"exception\":null,\"gas_limit\":200000,\"nodes_called\":115,\"result\":{\"next_execution\":1749216776,\"remaining\":2,\"task_result\":{\"@type\":\"/dysonprotocol.crontask.v1.MsgCreateTaskResponse\",\"task_id\":\"20\"}},\"script_gas_consumed\":8044,\"stdout\":\"COUNTDOWN: 2\\\\n\"}'}}], 'status': 'DONE', 'creation_time': '1749216774'}}\n",
      "Task status: DONE\n",
      "Task result: {'cumsize': 52450, 'exception': None, 'gas_limit': 200000, 'nodes_called': 115, 'result': {'next_execution': 1749216776, 'remaining': 2, 'task_result': {'@type': '/dysonprotocol.crontask.v1.MsgCreateTaskResponse', 'task_id': '20'}}, 'script_gas_consumed': 8044, 'stdout': 'COUNTDOWN: 2\\n'}\n",
      "Next task ID: 20\n",
      "\n",
      "--- Examining task #2 (ID: 20) ---\n",
      "Waiting for it to be executed...\n"
     ]
    },
    {
     "name": "stdout",
     "output_type": "stream",
     "text": [
      "Task details: {'task': {'task_id': '20', 'creator': 'dys1fhhxp9xveswc4yhxekr32eqe80rkwpurya0jh0', 'scheduled_timestamp': '1749216776', 'expiry_timestamp': '1749303175', 'task_gas_limit': '200000', 'task_gas_price': {'denom': 'dys', 'amount': '0'}, 'task_gas_fee': {'denom': 'dys', 'amount': '1'}, 'msgs': [{'type': '/dysonprotocol.script.v1.MsgExec', 'value': {'executor_address': 'dys1fhhxp9xveswc4yhxekr32eqe80rkwpurya0jh0', 'script_address': 'dys1fhhxp9xveswc4yhxekr32eqe80rkwpurya0jh0', 'function_name': 'countdown', 'args': '[1]', 'kwargs': '{}'}}], 'status': 'PENDING', 'creation_time': '1749216775'}}\n",
      "Task status: PENDING\n",
      "Waiting for it to be executed...\n"
     ]
    },
    {
     "name": "stdout",
     "output_type": "stream",
     "text": [
      "Task details: {'task': {'task_id': '20', 'creator': 'dys1fhhxp9xveswc4yhxekr32eqe80rkwpurya0jh0', 'scheduled_timestamp': '1749216776', 'expiry_timestamp': '1749303175', 'task_gas_limit': '200000', 'task_gas_price': {'denom': 'dys', 'amount': '0'}, 'task_gas_fee': {'denom': 'dys', 'amount': '1'}, 'msgs': [{'type': '/dysonprotocol.script.v1.MsgExec', 'value': {'executor_address': 'dys1fhhxp9xveswc4yhxekr32eqe80rkwpurya0jh0', 'script_address': 'dys1fhhxp9xveswc4yhxekr32eqe80rkwpurya0jh0', 'function_name': 'countdown', 'args': '[1]', 'kwargs': '{}'}}], 'msg_results': [{'type': '/dysonprotocol.script.v1.MsgExecResponse', 'value': {'result': '{\"cumsize\":52450,\"exception\":null,\"gas_limit\":200000,\"nodes_called\":115,\"result\":{\"next_execution\":1749216777,\"remaining\":1,\"task_result\":{\"@type\":\"/dysonprotocol.crontask.v1.MsgCreateTaskResponse\",\"task_id\":\"21\"}},\"script_gas_consumed\":8044,\"stdout\":\"COUNTDOWN: 1\\\\n\"}'}}], 'status': 'DONE', 'creation_time': '1749216775'}}\n",
      "Task status: DONE\n",
      "Task result: {'cumsize': 52450, 'exception': None, 'gas_limit': 200000, 'nodes_called': 115, 'result': {'next_execution': 1749216777, 'remaining': 1, 'task_result': {'@type': '/dysonprotocol.crontask.v1.MsgCreateTaskResponse', 'task_id': '21'}}, 'script_gas_consumed': 8044, 'stdout': 'COUNTDOWN: 1\\n'}\n",
      "Next task ID: 21\n",
      "\n",
      "--- Examining task #3 (ID: 21) ---\n",
      "Waiting for it to be executed...\n"
     ]
    },
    {
     "name": "stdout",
     "output_type": "stream",
     "text": [
      "Task details: {'task': {'task_id': '21', 'creator': 'dys1fhhxp9xveswc4yhxekr32eqe80rkwpurya0jh0', 'scheduled_timestamp': '1749216777', 'expiry_timestamp': '1749303176', 'task_gas_limit': '200000', 'task_gas_price': {'denom': 'dys', 'amount': '0'}, 'task_gas_fee': {'denom': 'dys', 'amount': '1'}, 'msgs': [{'type': '/dysonprotocol.script.v1.MsgExec', 'value': {'executor_address': 'dys1fhhxp9xveswc4yhxekr32eqe80rkwpurya0jh0', 'script_address': 'dys1fhhxp9xveswc4yhxekr32eqe80rkwpurya0jh0', 'function_name': 'countdown', 'args': '[0]', 'kwargs': '{}'}}], 'status': 'PENDING', 'creation_time': '1749216776'}}\n",
      "Task status: PENDING\n",
      "Waiting for it to be executed...\n"
     ]
    },
    {
     "name": "stdout",
     "output_type": "stream",
     "text": [
      "Task details: {'task': {'task_id': '21', 'creator': 'dys1fhhxp9xveswc4yhxekr32eqe80rkwpurya0jh0', 'scheduled_timestamp': '1749216777', 'expiry_timestamp': '1749303176', 'task_gas_limit': '200000', 'task_gas_price': {'denom': 'dys', 'amount': '0'}, 'task_gas_fee': {'denom': 'dys', 'amount': '1'}, 'msgs': [{'type': '/dysonprotocol.script.v1.MsgExec', 'value': {'executor_address': 'dys1fhhxp9xveswc4yhxekr32eqe80rkwpurya0jh0', 'script_address': 'dys1fhhxp9xveswc4yhxekr32eqe80rkwpurya0jh0', 'function_name': 'countdown', 'args': '[0]', 'kwargs': '{}'}}], 'status': 'PENDING', 'creation_time': '1749216776'}}\n",
      "Task status: PENDING\n",
      "Waiting for it to be executed...\n"
     ]
    },
    {
     "name": "stdout",
     "output_type": "stream",
     "text": [
      "Task details: {'task': {'task_id': '21', 'creator': 'dys1fhhxp9xveswc4yhxekr32eqe80rkwpurya0jh0', 'scheduled_timestamp': '1749216777', 'expiry_timestamp': '1749303176', 'task_gas_limit': '200000', 'task_gas_price': {'denom': 'dys', 'amount': '0'}, 'task_gas_fee': {'denom': 'dys', 'amount': '1'}, 'msgs': [{'type': '/dysonprotocol.script.v1.MsgExec', 'value': {'executor_address': 'dys1fhhxp9xveswc4yhxekr32eqe80rkwpurya0jh0', 'script_address': 'dys1fhhxp9xveswc4yhxekr32eqe80rkwpurya0jh0', 'function_name': 'countdown', 'args': '[0]', 'kwargs': '{}'}}], 'msg_results': [{'type': '/dysonprotocol.script.v1.MsgExecResponse', 'value': {'result': '{\"cumsize\":6726,\"exception\":null,\"gas_limit\":200000,\"nodes_called\":25,\"result\":\"Countdown complete!\",\"script_gas_consumed\":8044,\"stdout\":\"COUNTDOWN: 0\\\\n\"}'}}], 'status': 'DONE', 'creation_time': '1749216776'}}\n",
      "Task status: DONE\n",
      "Task result: {'cumsize': 6726, 'exception': None, 'gas_limit': 200000, 'nodes_called': 25, 'result': 'Countdown complete!', 'script_gas_consumed': 8044, 'stdout': 'COUNTDOWN: 0\\n'}\n",
      "No next task found. Chain complete.\n",
      "\n",
      "Processed 3 tasks in the chain.\n"
     ]
    }
   ],
   "source": [
    "# Get the task ID from the script result\n",
    "task_id = tx_result['script_result']['result']['result']['task_result']['task_id']\n",
    "print(f\"Created task ID: {task_id}\")\n",
    "\n",
    "# Follow the chain of tasks\n",
    "current_task_id = task_id\n",
    "task_count = 0\n",
    "max_tasks = 10  # Safety limit to prevent infinite loops\n",
    "\n",
    "while current_task_id and task_count < max_tasks:\n",
    "    task_count += 1\n",
    "    print(f\"\\n--- Examining task #{task_count} (ID: {current_task_id}) ---\")\n",
    "    \n",
    "     # Wait for pending tasks to complete\n",
    "    task_status = 'PENDING'\n",
    "    while task_status == 'PENDING':\n",
    "        print(\"Waiting for it to be executed...\")\n",
    "        time.sleep(0.3)\n",
    "        # Query the current task\n",
    "        out = ! dysond query crontask task-by-id --task-id {current_task_id} -o json\n",
    "        out = ''.join(out)\n",
    "        \n",
    "        task_json = json.loads(out)\n",
    "        print(\"Task details:\", task_json)\n",
    "\n",
    "        task_status = task_json['task']['status']\n",
    "        print(f\"Task status: {task_status}\")\n",
    "    \n",
    "    # Parse the result to get the next task ID\n",
    "    task_result = json.loads(task_json['task']['msg_results'][0]['value']['result'])\n",
    "    print(f\"Task result:\", task_result)\n",
    "    \n",
    "    # Check if there's a next task\n",
    "    if 'result' in task_result and 'task_result' in task_result['result']:\n",
    "        # Check if we've reached the end of the countdown\n",
    "        remaining = task_result['result'].get('remaining', 0)\n",
    "            \n",
    "        # Get the next task ID\n",
    "        current_task_id = task_result['result']['task_result']['task_id']\n",
    "        print(f\"Next task ID: {current_task_id}\")\n",
    "    else:\n",
    "        print(\"No next task found. Chain complete.\")\n",
    "        break\n",
    "            \n",
    "print(f\"\\nProcessed {task_count} tasks in the chain.\")\n"
   ]
  },
  {
   "cell_type": "markdown",
   "metadata": {},
   "source": [
    "## 8. Best Practices\n",
    "\n",
    "1. **Gas Management**:\n",
    "   - Set appropriate gas limits based on the complexity of your task\n",
    "   - Use higher gas fees for time-sensitive operations\n",
    "\n",
    "2. **Scheduling**:\n",
    "   - Be aware of the chain parameter limits for scheduling tasks\n",
    "   - Set reasonable expiry times based on the importance of task execution\n",
    "\n",
    "3. **Error Handling**:\n",
    "   - In scripts that schedule tasks, implement error handling and monitoring\n",
    "   - Consider creating retry mechanisms for important tasks\n",
    "\n",
    "4. **Security**:\n",
    "   - Be cautious with messages in tasks, as they will execute with the creator's permissions\n",
    "   - Avoid storing sensitive information in task messages\n",
    "\n",
    "5. **Performance**:\n",
    "   - Limit the number of tasks scheduled for the same timestamp\n",
    "   - Spread out tasks over time when possible to reduce blockchain congestion"
   ]
  },
  {
   "cell_type": "markdown",
   "metadata": {},
   "source": [
    "## 9. Troubleshooting\n",
    "\n",
    "### Common Issues\n",
    "\n",
    "1. **Task not executing**: \n",
    "   - Check if the scheduled timestamp has been reached\n",
    "   - Verify that the task has not expired\n",
    "   - Ensure sufficient gas was provided\n",
    "\n",
    "2. **Task execution failing**:\n",
    "   - Check task status and error messages\n",
    "   - Verify that message permissions are correct\n",
    "   - Confirm that gas limit is sufficient\n",
    "\n",
    "3. **Cannot delete task**:\n",
    "   - Only pending tasks can be deleted\n",
    "   - Only the creator can delete their tasks\n",
    "\n",
    "4. **Task creation failing**:\n",
    "   - Ensure scheduled time is within allowed parameters\n",
    "   - Verify message format is correct\n",
    "   - Check that sufficient funds are available for gas fees"
   ]
  },
  {
   "cell_type": "markdown",
   "metadata": {},
   "source": [
    "## 10. Summary\n",
    "\n",
    "The Crontask module in Dyson Protocol provides a powerful mechanism for scheduling on-chain transactions. By combining it with the Script module, developers can create complex automation workflows directly on-chain.\n",
    "\n",
    "Key points to remember:\n",
    "1. Tasks execute automatically when their scheduled time is reached\n",
    "2. Tasks expire if not executed by their expiry time\n",
    "3. Properly manage gas to ensure task execution\n",
    "4. Monitor task status for successful execution\n",
    "5. For complex automation, combine with on-chain scripts\n",
    "\n",
    "With these tools, you can build truly decentralized applications with time-based automation, without relying on off-chain infrastructure."
   ]
  }
 ],
 "metadata": {
  "kernelspec": {
   "display_name": ".venv",
   "language": "python",
   "name": "python3"
  },
  "language_info": {
   "codemirror_mode": {
    "name": "ipython",
    "version": 3
   },
   "file_extension": ".py",
   "mimetype": "text/x-python",
   "name": "python",
   "nbconvert_exporter": "python",
   "pygments_lexer": "ipython3",
   "version": "3.12.2"
  }
 },
 "nbformat": 4,
 "nbformat_minor": 4
}
