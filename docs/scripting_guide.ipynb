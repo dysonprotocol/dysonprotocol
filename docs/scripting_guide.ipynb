{
 "cells": [
  {
   "cell_type": "markdown",
   "metadata": {},
   "source": [
    "# Dyson Protocol Scripting Guide\n",
    "\n",
    "This guide provides an end-to-end demonstration of the Dyson Protocol Script Module for developers. It covers script management, execution, data handling, and web access through name resolution in the least number of steps."
   ]
  },
  {
   "cell_type": "markdown",
   "metadata": {},
   "source": [
    "## Fetch Your Address\n",
    "\n",
    "First, we'll retrieve the address associated with the 'alice' account. This address will serve as our identity throughout this guide and will be referenced in subsequent commands.\n"
   ]
  },
  {
   "cell_type": "code",
   "execution_count": 1,
   "metadata": {
    "execution": {
     "iopub.execute_input": "2025-06-11T11:23:16.505277Z",
     "iopub.status.busy": "2025-06-11T11:23:16.505184Z",
     "iopub.status.idle": "2025-06-11T11:23:16.583895Z",
     "shell.execute_reply": "2025-06-11T11:23:16.583497Z"
    }
   },
   "outputs": [
    {
     "name": "stdout",
     "output_type": "stream",
     "text": [
      "dys1tvhkv3gqr90jpycaky02xa5ukhaxllu38wawhz\n"
     ]
    }
   ],
   "source": [
    "[address] = ! dysond keys show alice -a\n",
    "print(address)"
   ]
  },
  {
   "cell_type": "markdown",
   "metadata": {},
   "source": [
    "## Update Script on Chain\n",
    "Now, let's deploy our script to the blockchain. We'll create a simple Python script with two functions:\n",
    "1. An `add` function that performs basic arithmetic\n",
    "2. A WSGI application that serves a welcome HTML page when accessed via web\n",
    "\n",
    "This demonstrates how Dyson Protocol enables both computational functions and web hosting capabilities.\n"
   ]
  },
  {
   "cell_type": "code",
   "execution_count": 2,
   "metadata": {
    "execution": {
     "iopub.execute_input": "2025-06-11T11:23:16.601597Z",
     "iopub.status.busy": "2025-06-11T11:23:16.601456Z",
     "iopub.status.idle": "2025-06-11T11:23:16.899920Z",
     "shell.execute_reply": "2025-06-11T11:23:16.899630Z"
    }
   },
   "outputs": [
    {
     "data": {
      "text/plain": [
       "{'height': '1056',\n",
       " 'txhash': '481A17C6C181B617185D59C7B7E35F103C736AF000BA55B98F5ACB096C506D99',\n",
       " 'codespace': '',\n",
       " 'code': 0,\n",
       " 'data': '12360A302F6479736F6E70726F746F636F6C2E7363726970742E76312E4D7367557064617465536372697074526573706F6E736512020802',\n",
       " 'raw_log': '',\n",
       " 'logs': [],\n",
       " 'info': '',\n",
       " 'gas_wanted': '200000',\n",
       " 'gas_used': '55966',\n",
       " 'tx': None,\n",
       " 'timestamp': '',\n",
       " 'events': [{'type': 'tx',\n",
       "   'attributes': [{'key': 'acc_seq',\n",
       "     'value': 'dys1tvhkv3gqr90jpycaky02xa5ukhaxllu38wawhz/65',\n",
       "     'index': True}]},\n",
       "  {'type': 'tx',\n",
       "   'attributes': [{'key': 'signature',\n",
       "     'value': 'TZu2SQrqsEh+ejDdoUEN8WEj1vTjfiJ6+SD6h5nmwZ4k1v+qkYlAgdGAmNqo7nZIlkQGOxxa+vthprDIZxQVoA==',\n",
       "     'index': True}]},\n",
       "  {'type': 'message',\n",
       "   'attributes': [{'key': 'action',\n",
       "     'value': '/dysonprotocol.script.v1.MsgUpdateScript',\n",
       "     'index': True},\n",
       "    {'key': 'sender',\n",
       "     'value': 'dys1tvhkv3gqr90jpycaky02xa5ukhaxllu38wawhz',\n",
       "     'index': True},\n",
       "    {'key': 'module', 'value': 'script', 'index': True},\n",
       "    {'key': 'msg_index', 'value': '0', 'index': True}]},\n",
       "  {'type': 'dysonprotocol.script.v1.EventUpdateScript',\n",
       "   'attributes': [{'key': 'version', 'value': '\"2\"', 'index': True},\n",
       "    {'key': 'msg_index', 'value': '0', 'index': True}]}]}"
      ]
     },
     "execution_count": 2,
     "metadata": {},
     "output_type": "execute_result"
    }
   ],
   "source": [
    "import os\n",
    "\n",
    "code = \"\"\"\n",
    "def add(a, b):\n",
    "    print(f\"Adding {a} and {b}\")\n",
    "    return {\"a\": a, \"b\": b, \"add_result\": a + b}\n",
    "\n",
    "def wsgi(environ, start_response):\n",
    "    status = '200 OK'\n",
    "    headers = [('Content-type', 'text/html')]\n",
    "    start_response(status, headers)\n",
    "    return [b'''\n",
    "<html>\n",
    "    <body>\n",
    "        <h1>Hello from Dyson Protocol!</h1>\n",
    "    </body>\n",
    "</html>''']\n",
    "\"\"\"\n",
    "import tempfile\n",
    "import json\n",
    "\n",
    "with tempfile.NamedTemporaryFile(suffix='.py', delete=True) as tmp:\n",
    "    tmp.write(code.encode())\n",
    "    tmp.flush()\n",
    "    path = tmp.name\n",
    "    \n",
    "    tx = ! dysond tx script update --code-path $path \\\n",
    "        --from alice \\\n",
    "        -y | dysond query wait-tx -o json\n",
    "    \n",
    "json.loads('\\n'.join(tx))"
   ]
  },
  {
   "cell_type": "markdown",
   "metadata": {},
   "source": [
    "## Access Script via Web Interface\n",
    "Dyson Protocol allows scripts to be accessed as web applications through the WSGI interface. Let's access our script directly using its address. This demonstrates how Dyson Protocol enables decentralized web hosting without traditional servers.\n",
    "\n",
    "We'll use the script address to construct a URL that points to our deployed application. The format is:\n",
    "`http://<script_address>.example.com`\n",
    "\n",
    "For local development, we'll use localhost:8000 as our domain suffix."
   ]
  },
  {
   "cell_type": "code",
   "execution_count": 3,
   "metadata": {
    "execution": {
     "iopub.execute_input": "2025-06-11T11:23:16.901448Z",
     "iopub.status.busy": "2025-06-11T11:23:16.901328Z",
     "iopub.status.idle": "2025-06-11T11:23:17.163424Z",
     "shell.execute_reply": "2025-06-11T11:23:17.163123Z"
    }
   },
   "outputs": [
    {
     "name": "stdout",
     "output_type": "stream",
     "text": [
      "Accessing your DWapp at 'http://dys1tvhkv3gqr90jpycaky02xa5ukhaxllu38wawhz.localhost:2417'\n"
     ]
    },
    {
     "name": "stdout",
     "output_type": "stream",
     "text": [
      "* Host dys1tvhkv3gqr90jpycaky02xa5ukhaxllu38wawhz.localhost:2417 was resolved.\n",
      "* IPv6: ::1\n",
      "* IPv4: 127.0.0.1\n",
      "*   Trying [::1]:2417...\n",
      "* connect to ::1 port 2417 from ::1 port 64083 failed: Connection refused\n",
      "*   Trying 127.0.0.1:2417...\n",
      "* Connected to dys1tvhkv3gqr90jpycaky02xa5ukhaxllu38wawhz.localhost (127.0.0.1) port 2417\n",
      "> GET /hi HTTP/1.1\n",
      "> Host: dys1tvhkv3gqr90jpycaky02xa5ukhaxllu38wawhz.localhost:2417\n",
      "> User-Agent: curl/8.6.0\n",
      "> Accept: */*\n",
      "> \n",
      "< HTTP/1.1 200 OK\n",
      "< Content-Length: 82\n",
      "< Content-Type: text/html\n",
      "< Date: Wed, 11 Jun 2025 11:23:16 GMT\n",
      "< Server: WSGIServer/0.2 CPython/3.11.4\n",
      "< X-Server-Time: 1749640996\n",
      "< \n",
      "{ [82 bytes data]\n",
      "* Connection #0 to host dys1tvhkv3gqr90jpycaky02xa5ukhaxllu38wawhz.localhost left intact\n",
      "\n",
      "<html>\n",
      "    <body>\n",
      "        <h1>Hello from Dyson Protocol!</h1>\n",
      "    </body>\n",
      "</html>\n"
     ]
    }
   ],
   "source": [
    "[output] = ! dysond config get app api.address\n",
    "port = output.split(\":\")[-1].strip(\"\\\"\")\n",
    "\n",
    "dwapp_url = f\"http://{address}.localhost:{port}\"\n",
    "\n",
    "print(f\"Accessing your DWapp at '{dwapp_url}'\")\n",
    "output = ! curl -s \"$dwapp_url/hi\" -v\n",
    "output = \"\\n\".join(output).strip()\n",
    "print(output)\n",
    "assert \"Hello from Dyson Protocol!\" in output, \"Expected 'Hello from Dyson Protocol!' in output, got: \" + output"
   ]
  },
  {
   "cell_type": "markdown",
   "metadata": {},
   "source": [
    "## Query Script Information\n",
    "Let's examine the script we just deployed to the blockchain. This query retrieves the script's metadata and code content, allowing us to verify our update was successful.\n"
   ]
  },
  {
   "cell_type": "code",
   "execution_count": 4,
   "metadata": {
    "execution": {
     "iopub.execute_input": "2025-06-11T11:23:17.164954Z",
     "iopub.status.busy": "2025-06-11T11:23:17.164829Z",
     "iopub.status.idle": "2025-06-11T11:23:17.244839Z",
     "shell.execute_reply": "2025-06-11T11:23:17.244484Z"
    }
   },
   "outputs": [
    {
     "name": "stdout",
     "output_type": "stream",
     "text": [
      "{\n",
      "  \"script\": {\n",
      "    \"address\": \"dys1tvhkv3gqr90jpycaky02xa5ukhaxllu38wawhz\",\n",
      "    \"version\": \"2\",\n",
      "    \"code\": \"def add(a, b):\\n    print(f\\\"Adding {a} and {b}\\\")\\n    return {\\\"a\\\": a, \\\"b\\\": b, \\\"add_result\\\": a + b}\\n\\n\\ndef wsgi(environ, start_response):\\n    status = \\\"200 OK\\\"\\n    headers = [(\\\"Content-type\\\", \\\"text/html\\\")]\\n    start_response(status, headers)\\n    return [\\n        b\\\"\\\"\\\"\\n\\u003chtml\\u003e\\n    \\u003cbody\\u003e\\n        \\u003ch1\\u003eHello from Dyson Protocol!\\u003c/h1\\u003e\\n    \\u003c/body\\u003e\\n\\u003c/html\\u003e\\\"\\\"\\\"\\n    ]\\n\\n\"\n",
      "  }\n",
      "}\n",
      "✓ Script query successful for address: dys1tvhkv3gqr90jpycaky02xa5ukhaxllu38wawhz\n"
     ]
    }
   ],
   "source": [
    "import json\n",
    "\n",
    "output = ! dysond query script script-info --address \"$address\" -o json \n",
    "\n",
    "print(\"\\n\".join(output))\n",
    "script_info = json.loads('\\n'.join(output))\n",
    "print(f\"✓ Script query successful for address: {address}\")\n"
   ]
  },
  {
   "cell_type": "markdown",
   "metadata": {},
   "source": [
    "## Execute Script\n",
    "## Execute Script Function\n",
    "Now we'll invoke the `add` function we deployed in our script. This demonstrates how Dyson Protocol enables \n",
    "decentralized computation by executing functions directly on the blockchain. We'll pass the arguments `5` and `7`, \n",
    "and observe how the function processes these values and returns the calculated sum of `12` along with additional metadata."
   ]
  },
  {
   "cell_type": "code",
   "execution_count": 5,
   "metadata": {
    "execution": {
     "iopub.execute_input": "2025-06-11T11:23:17.246573Z",
     "iopub.status.busy": "2025-06-11T11:23:17.246453Z",
     "iopub.status.idle": "2025-06-11T11:23:17.805084Z",
     "shell.execute_reply": "2025-06-11T11:23:17.804564Z"
    }
   },
   "outputs": [
    {
     "name": "stdout",
     "output_type": "stream",
     "text": [
      "{\r\n",
      "  \"code\": 0,\r\n",
      "  \"script_result\": {\r\n",
      "    \"result\": {\r\n",
      "      \"cumsize\": 2041,\r\n",
      "      \"exception\": null,\r\n",
      "      \"gas_limit\": 200000,\r\n",
      "      \"nodes_called\": 28,\r\n",
      "      \"result\": {\r\n",
      "        \"a\": 5,\r\n",
      "        \"add_result\": 12,\r\n",
      "        \"b\": 7\r\n",
      "      },\r\n",
      "      \"script_gas_consumed\": 32566,\r\n",
      "      \"stdout\": \"Adding 5 and 7\\n\"\r\n",
      "    },\r\n",
      "    \"attached_message_results\": []\r\n",
      "  },\r\n",
      "  \"raw_log\": \"\",\r\n",
      "  \"events\": [\r\n",
      "    {\r\n",
      "      \"type\": \"tx\",\r\n",
      "      \"attributes\": [\r\n",
      "        {\r\n",
      "          \"key\": \"acc_seq\",\r\n",
      "          \"value\": \"dys1tvhkv3gqr90jpycaky02xa5ukhaxllu38wawhz/66\",\r\n",
      "          \"index\": true\r\n",
      "        }\r\n",
      "      ]\r\n",
      "    },\r\n",
      "    {\r\n",
      "      \"type\": \"tx\",\r\n",
      "      \"attributes\": [\r\n",
      "        {\r\n",
      "          \"key\": \"signature\",\r\n",
      "          \"value\": \"Y/dJfLWXdQmhzMbHsxMvq9XoM8MU0j9wIO/eY6o4DJNbXxO7FxWaZz6EC1hvxD0muims9/NztqPWsA+bVrpJ6Q==\",\r\n",
      "          \"index\": true\r\n",
      "        }\r\n",
      "      ]\r\n",
      "    },\r\n",
      "    {\r\n",
      "      \"type\": \"message\",\r\n",
      "      \"attributes\": [\r\n",
      "        {\r\n",
      "          \"key\": \"action\",\r\n",
      "          \"value\": \"/dysonprotocol.script.v1.MsgExec\",\r\n",
      "          \"index\": true\r\n",
      "        },\r\n",
      "        {\r\n",
      "          \"key\": \"sender\",\r\n",
      "          \"value\": \"dys1tvhkv3gqr90jpycaky02xa5ukhaxllu38wawhz\",\r\n",
      "          \"index\": true\r\n",
      "        },\r\n",
      "        {\r\n",
      "          \"key\": \"module\",\r\n",
      "          \"value\": \"script\",\r\n",
      "          \"index\": true\r\n",
      "        },\r\n",
      "        {\r\n",
      "          \"key\": \"msg_index\",\r\n",
      "          \"value\": \"0\",\r\n",
      "          \"index\": true\r\n",
      "        }\r\n",
      "      ]\r\n",
      "    },\r\n",
      "    {\r\n",
      "      \"type\": \"dysonprotocol.script.v1.EventExecScript\",\r\n",
      "      \"attributes\": [\r\n",
      "        {\r\n",
      "          \"key\": \"request\",\r\n",
      "          \"value\": \"{\\\"executor_address\\\":\\\"dys1tvhkv3gqr90jpycaky02xa5ukhaxllu38wawhz\\\",\\\"script_address\\\":\\\"dys1tvhkv3gqr90jpycaky02xa5ukhaxllu38wawhz\\\",\\\"extra_code\\\":\\\"\\\",\\\"function_name\\\":\\\"add\\\",\\\"args\\\":\\\"[5, 7]\\\",\\\"kwargs\\\":\\\"\\\",\\\"attached_messages\\\":[]}\",\r\n",
      "          \"index\": true\r\n",
      "        },\r\n",
      "        {\r\n",
      "          \"key\": \"response\",\r\n",
      "          \"value\": \"{\\\"result\\\":\\\"{\\\\\\\"cumsize\\\\\\\":2041,\\\\\\\"exception\\\\\\\":null,\\\\\\\"gas_limit\\\\\\\":200000,\\\\\\\"nodes_called\\\\\\\":28,\\\\\\\"result\\\\\\\":{\\\\\\\"a\\\\\\\":5,\\\\\\\"add_result\\\\\\\":12,\\\\\\\"b\\\\\\\":7},\\\\\\\"script_gas_consumed\\\\\\\":32566,\\\\\\\"stdout\\\\\\\":\\\\\\\"Adding 5 and 7\\\\\\\\n\\\\\\\"}\\\",\\\"attached_message_results\\\":[]}\",\r\n",
      "          \"index\": true\r\n",
      "        },\r\n",
      "        {\r\n",
      "          \"key\": \"msg_index\",\r\n",
      "          \"value\": \"0\",\r\n",
      "          \"index\": true\r\n",
      "        }\r\n",
      "      ]\r\n",
      "    }\r\n",
      "  ]\r\n",
      "}\r\n"
     ]
    }
   ],
   "source": [
    "! dysond tx script exec \\\n",
    "    --script-address \"$address\" \\\n",
    "    --function-name add \\\n",
    "    --args '[5, 7]' \\\n",
    "    --from alice \\\n",
    "    -y \\\n",
    "    -o json  | dysond query wait-tx -o json | python ../scripts/parse_exec_script_tx.py"
   ]
  },
  {
   "cell_type": "markdown",
   "metadata": {},
   "source": [
    "# Encoding JSON for Blockchain Operations\n",
    "Your project may require converting complex JSON structures into a compact binary format for efficient on-chain storage and transmission. The following example demonstrates how to encode a standard transaction message into its binary representation."
   ]
  },
  {
   "cell_type": "code",
   "execution_count": 6,
   "metadata": {
    "execution": {
     "iopub.execute_input": "2025-06-11T11:23:17.806894Z",
     "iopub.status.busy": "2025-06-11T11:23:17.806664Z",
     "iopub.status.idle": "2025-06-11T11:23:17.991193Z",
     "shell.execute_reply": "2025-06-11T11:23:17.990757Z"
    }
   },
   "outputs": [
    {
     "name": "stdout",
     "output_type": "stream",
     "text": [
      "{\r\n",
      "  \"bytes\": \"CgxkeXMxZXhhbXBsZTESDGR5czFleGFtcGxlMhoKCgNkeXMSAzEwMA==\"\r\n",
      "}\r\n"
     ]
    }
   ],
   "source": [
    "! dysond query script encode-json --json '{\\\n",
    "  \"@type\": \"/cosmos.bank.v1beta1.MsgSend\", \\\n",
    "  \"from_address\": \"dys1example1\", \\\n",
    "  \"to_address\": \"dys1example2\", \\\n",
    "  \"amount\": [ { \"denom\": \"dys\", \"amount\": \"100\" } ] \\\n",
    "}' -o json"
   ]
  },
  {
   "cell_type": "markdown",
   "metadata": {},
   "source": [
    "## Decode Bytes\n",
    "Decoding Binary Data\n",
    "In this step, we'll convert the previously encoded binary data back into its original JSON format. This bidirectional conversion capability is essential for working with blockchain data that needs to be both efficiently stored on-chain and human-readable when retrieved."
   ]
  },
  {
   "cell_type": "code",
   "execution_count": 7,
   "metadata": {
    "execution": {
     "iopub.execute_input": "2025-06-11T11:23:17.992981Z",
     "iopub.status.busy": "2025-06-11T11:23:17.992873Z",
     "iopub.status.idle": "2025-06-11T11:23:18.172454Z",
     "shell.execute_reply": "2025-06-11T11:23:18.172073Z"
    }
   },
   "outputs": [
    {
     "name": "stdout",
     "output_type": "stream",
     "text": [
      "\u001b[1;39m{\r\n",
      "  \u001b[0m\u001b[1;34m\"json\"\u001b[0m\u001b[1;39m: \u001b[0m\u001b[0;32m\"{\\\"@type\\\":\\\"/cosmos.bank.v1beta1.MsgSend\\\",\\\"from_address\\\":\\\"dys1example1\\\",\\\"to_address\\\":\\\"dys1example2\\\",\\\"amount\\\":[{\\\"denom\\\":\\\"dys\\\",\\\"amount\\\":\\\"100\\\"}]}\"\u001b[0m\u001b[1;39m\r\n",
      "\u001b[1;39m}\u001b[0m\r\n"
     ]
    }
   ],
   "source": [
    "! dysond query script decode-bytes --bytes \"CgxkeXMxZXhhbXBsZTESDGR5czFleGFtcGxlMhoKCgNkeXMSAzEwMA==\"  --type-url \"/cosmos.bank.v1beta1.MsgSend\" -o json | jq"
   ]
  },
  {
   "cell_type": "markdown",
   "metadata": {},
   "source": [
    "## Commit Name Registration\n",
    "More details on name registration can be found in the Name Service section of the documentation.\n",
    "Commit to registering a name using a computed hash. First, compute the hash."
   ]
  },
  {
   "cell_type": "code",
   "execution_count": 8,
   "metadata": {
    "execution": {
     "iopub.execute_input": "2025-06-11T11:23:18.174121Z",
     "iopub.status.busy": "2025-06-11T11:23:18.174005Z",
     "iopub.status.idle": "2025-06-11T11:23:18.253376Z",
     "shell.execute_reply": "2025-06-11T11:23:18.253002Z"
    }
   },
   "outputs": [
    {
     "name": "stdout",
     "output_type": "stream",
     "text": [
      "Name: alice-vkqlo.dys\n",
      "Salt: r0iknr5u9u\n",
      "Hex Hash: d82a0ba3256bdc977742b5ddf0202e77d4fa4ce005a8750b67ecf34816f5b881\n"
     ]
    }
   ],
   "source": [
    "import random\n",
    "import string\n",
    "\n",
    "def random_string(length=10):\n",
    "    return ''.join(random.choices(string.ascii_lowercase + string.digits, k=length))\n",
    "\n",
    "name = f\"alice-{random_string(5)}.dys\"\n",
    "salt = random_string(10)\n",
    "\n",
    "[hex_hash] = ! dysond query nameservice compute-hash \\\n",
    "    --name \"$name\" \\\n",
    "    --salt \"$salt\" \\\n",
    "    --committer \"$address\" \\\n",
    "    -o json | jq '.hex_hash' -r\n",
    "\n",
    "print(f\"Name: {name}\")\n",
    "print(f\"Salt: {salt}\")\n",
    "print(f\"Hex Hash: {hex_hash}\")"
   ]
  },
  {
   "cell_type": "code",
   "execution_count": 9,
   "metadata": {
    "execution": {
     "iopub.execute_input": "2025-06-11T11:23:18.255306Z",
     "iopub.status.busy": "2025-06-11T11:23:18.255106Z",
     "iopub.status.idle": "2025-06-11T11:23:18.548258Z",
     "shell.execute_reply": "2025-06-11T11:23:18.547908Z"
    }
   },
   "outputs": [
    {
     "name": "stdout",
     "output_type": "stream",
     "text": [
      "{\r\n",
      "  \"height\": \"1067\",\r\n",
      "  \"txhash\": \"23BF81F42A9618158E04B94904BBFF144630D430162EDAD889F415F53538984E\",\r\n",
      "  \"codespace\": \"\",\r\n",
      "  \"code\": 0,\r\n",
      "  \"data\": \"12310A2F2F6479736F6E70726F746F636F6C2E6E616D65736572766963652E76312E4D7367436F6D6D6974526573706F6E7365\",\r\n",
      "  \"raw_log\": \"\",\r\n",
      "  \"logs\": [],\r\n",
      "  \"info\": \"\",\r\n",
      "  \"gas_wanted\": \"200000\",\r\n",
      "  \"gas_used\": \"39792\",\r\n",
      "  \"tx\": null,\r\n",
      "  \"timestamp\": \"\",\r\n",
      "  \"events\": [\r\n",
      "    {\r\n",
      "      \"type\": \"tx\",\r\n",
      "      \"attributes\": [\r\n",
      "        {\r\n",
      "          \"key\": \"acc_seq\",\r\n",
      "          \"value\": \"dys1tvhkv3gqr90jpycaky02xa5ukhaxllu38wawhz/67\",\r\n",
      "          \"index\": true\r\n",
      "        }\r\n",
      "      ]\r\n",
      "    },\r\n",
      "    {\r\n",
      "      \"type\": \"tx\",\r\n",
      "      \"attributes\": [\r\n",
      "        {\r\n",
      "          \"key\": \"signature\",\r\n",
      "          \"value\": \"3mzgnGzbPNy7sRWJ+kuU6O98jlmPozWRLphBAd/v8pUOrdTHzVFaEwo3J175sKqre02vN/wTmOQFhbRk2Vs8xw==\",\r\n",
      "          \"index\": true\r\n",
      "        }\r\n",
      "      ]\r\n",
      "    },\r\n",
      "    {\r\n",
      "      \"type\": \"message\",\r\n",
      "      \"attributes\": [\r\n",
      "        {\r\n",
      "          \"key\": \"action\",\r\n",
      "          \"value\": \"/dysonprotocol.nameservice.v1.MsgCommit\",\r\n",
      "          \"index\": true\r\n",
      "        },\r\n",
      "        {\r\n",
      "          \"key\": \"sender\",\r\n",
      "          \"value\": \"dys1tvhkv3gqr90jpycaky02xa5ukhaxllu38wawhz\",\r\n",
      "          \"index\": true\r\n",
      "        },\r\n",
      "        {\r\n",
      "          \"key\": \"module\",\r\n",
      "          \"value\": \"nameservice\",\r\n",
      "          \"index\": true\r\n",
      "        },\r\n",
      "        {\r\n",
      "          \"key\": \"msg_index\",\r\n",
      "          \"value\": \"0\",\r\n",
      "          \"index\": true\r\n",
      "        }\r\n",
      "      ]\r\n",
      "    },\r\n",
      "    {\r\n",
      "      \"type\": \"dysonprotocol.nameservice.v1.EventCommitmentCreated\",\r\n",
      "      \"attributes\": [\r\n",
      "        {\r\n",
      "          \"key\": \"hexhash\",\r\n",
      "          \"value\": \"\\\"d82a0ba3256bdc977742b5ddf0202e77d4fa4ce005a8750b67ecf34816f5b881\\\"\",\r\n",
      "          \"index\": true\r\n",
      "        },\r\n",
      "        {\r\n",
      "          \"key\": \"msg_index\",\r\n",
      "          \"value\": \"0\",\r\n",
      "          \"index\": true\r\n",
      "        }\r\n",
      "      ]\r\n",
      "    }\r\n",
      "  ]\r\n",
      "}\r\n"
     ]
    }
   ],
   "source": [
    "valuation = '100dys'\n",
    "! dysond tx nameservice commit --commitment \"$hex_hash\" --valuation \"$valuation\" --from alice -y | dysond query wait-tx -o json | jq -M"
   ]
  },
  {
   "cell_type": "markdown",
   "metadata": {},
   "source": [
    "## Reveal Name Registration\n",
    "Reveal the name to complete registration."
   ]
  },
  {
   "cell_type": "code",
   "execution_count": 10,
   "metadata": {
    "execution": {
     "iopub.execute_input": "2025-06-11T11:23:18.549953Z",
     "iopub.status.busy": "2025-06-11T11:23:18.549840Z",
     "iopub.status.idle": "2025-06-11T11:23:18.875424Z",
     "shell.execute_reply": "2025-06-11T11:23:18.875072Z"
    }
   },
   "outputs": [
    {
     "name": "stdout",
     "output_type": "stream",
     "text": [
      "{\r\n",
      "  \"height\": \"1069\",\r\n",
      "  \"txhash\": \"8A9D299D61B92573691F9B5B801E039CDF2E92D33B69201D766BDAAD1A3DD9D7\",\r\n",
      "  \"codespace\": \"\",\r\n",
      "  \"code\": 0,\r\n",
      "  \"data\": \"12310A2F2F6479736F6E70726F746F636F6C2E6E616D65736572766963652E76312E4D736752657665616C526573706F6E7365\",\r\n",
      "  \"raw_log\": \"\",\r\n",
      "  \"logs\": [],\r\n",
      "  \"info\": \"\",\r\n",
      "  \"gas_wanted\": \"200000\",\r\n",
      "  \"gas_used\": \"120594\",\r\n",
      "  \"tx\": null,\r\n",
      "  \"timestamp\": \"\",\r\n",
      "  \"events\": [\r\n",
      "    {\r\n",
      "      \"type\": \"tx\",\r\n",
      "      \"attributes\": [\r\n",
      "        {\r\n",
      "          \"key\": \"acc_seq\",\r\n",
      "          \"value\": \"dys1tvhkv3gqr90jpycaky02xa5ukhaxllu38wawhz/68\",\r\n",
      "          \"index\": true\r\n",
      "        }\r\n",
      "      ]\r\n",
      "    },\r\n",
      "    {\r\n",
      "      \"type\": \"tx\",\r\n",
      "      \"attributes\": [\r\n",
      "        {\r\n",
      "          \"key\": \"signature\",\r\n",
      "          \"value\": \"9O1QAqxU+xNSeelKDE/DOR6UvKnJt1JqDoPI6Kwq0wkbm0VsYvB9XhHyI3IRUlm9Kmip1pUUaWEIUyyT5+bbow==\",\r\n",
      "          \"index\": true\r\n",
      "        }\r\n",
      "      ]\r\n",
      "    },\r\n",
      "    {\r\n",
      "      \"type\": \"message\",\r\n",
      "      \"attributes\": [\r\n",
      "        {\r\n",
      "          \"key\": \"action\",\r\n",
      "          \"value\": \"/dysonprotocol.nameservice.v1.MsgReveal\",\r\n",
      "          \"index\": true\r\n",
      "        },\r\n",
      "        {\r\n",
      "          \"key\": \"sender\",\r\n",
      "          \"value\": \"dys1tvhkv3gqr90jpycaky02xa5ukhaxllu38wawhz\",\r\n",
      "          \"index\": true\r\n",
      "        },\r\n",
      "        {\r\n",
      "          \"key\": \"module\",\r\n",
      "          \"value\": \"nameservice\",\r\n",
      "          \"index\": true\r\n",
      "        },\r\n",
      "        {\r\n",
      "          \"key\": \"msg_index\",\r\n",
      "          \"value\": \"0\",\r\n",
      "          \"index\": true\r\n",
      "        }\r\n",
      "      ]\r\n",
      "    },\r\n",
      "    {\r\n",
      "      \"type\": \"cosmos.nft.v1beta1.EventMint\",\r\n",
      "      \"attributes\": [\r\n",
      "        {\r\n",
      "          \"key\": \"class_id\",\r\n",
      "          \"value\": \"\\\"nameservice.dys\\\"\",\r\n",
      "          \"index\": true\r\n",
      "        },\r\n",
      "        {\r\n",
      "          \"key\": \"id\",\r\n",
      "          \"value\": \"\\\"nameservice.dys\\\"\",\r\n",
      "          \"index\": true\r\n",
      "        },\r\n",
      "        {\r\n",
      "          \"key\": \"owner\",\r\n",
      "          \"value\": \"\\\"dys10d07y265gmmuvt4z0w9aw880jnsr700j9rmwgs\\\"\",\r\n",
      "          \"index\": true\r\n",
      "        },\r\n",
      "        {\r\n",
      "          \"key\": \"msg_index\",\r\n",
      "          \"value\": \"0\",\r\n",
      "          \"index\": true\r\n",
      "        }\r\n",
      "      ]\r\n",
      "    },\r\n",
      "    {\r\n",
      "      \"type\": \"coin_spent\",\r\n",
      "      \"attributes\": [\r\n",
      "        {\r\n",
      "          \"key\": \"spender\",\r\n",
      "          \"value\": \"dys1tvhkv3gqr90jpycaky02xa5ukhaxllu38wawhz\",\r\n",
      "          \"index\": true\r\n",
      "        },\r\n",
      "        {\r\n",
      "          \"key\": \"amount\",\r\n",
      "          \"value\": \"1dys\",\r\n",
      "          \"index\": true\r\n",
      "        },\r\n",
      "        {\r\n",
      "          \"key\": \"msg_index\",\r\n",
      "          \"value\": \"0\",\r\n",
      "          \"index\": true\r\n",
      "        }\r\n",
      "      ]\r\n",
      "    },\r\n",
      "    {\r\n",
      "      \"type\": \"coin_received\",\r\n",
      "      \"attributes\": [\r\n",
      "        {\r\n",
      "          \"key\": \"receiver\",\r\n",
      "          \"value\": \"dys1jv65s3grqf6v6jl3dp4t6c9t9rk99cd8c7vhhu\",\r\n",
      "          \"index\": true\r\n",
      "        },\r\n",
      "        {\r\n",
      "          \"key\": \"amount\",\r\n",
      "          \"value\": \"1dys\",\r\n",
      "          \"index\": true\r\n",
      "        },\r\n",
      "        {\r\n",
      "          \"key\": \"msg_index\",\r\n",
      "          \"value\": \"0\",\r\n",
      "          \"index\": true\r\n",
      "        }\r\n",
      "      ]\r\n",
      "    },\r\n",
      "    {\r\n",
      "      \"type\": \"transfer\",\r\n",
      "      \"attributes\": [\r\n",
      "        {\r\n",
      "          \"key\": \"recipient\",\r\n",
      "          \"value\": \"dys1jv65s3grqf6v6jl3dp4t6c9t9rk99cd8c7vhhu\",\r\n",
      "          \"index\": true\r\n",
      "        },\r\n",
      "        {\r\n",
      "          \"key\": \"sender\",\r\n",
      "          \"value\": \"dys1tvhkv3gqr90jpycaky02xa5ukhaxllu38wawhz\",\r\n",
      "          \"index\": true\r\n",
      "        },\r\n",
      "        {\r\n",
      "          \"key\": \"amount\",\r\n",
      "          \"value\": \"1dys\",\r\n",
      "          \"index\": true\r\n",
      "        },\r\n",
      "        {\r\n",
      "          \"key\": \"msg_index\",\r\n",
      "          \"value\": \"0\",\r\n",
      "          \"index\": true\r\n",
      "        }\r\n",
      "      ]\r\n",
      "    },\r\n",
      "    {\r\n",
      "      \"type\": \"message\",\r\n",
      "      \"attributes\": [\r\n",
      "        {\r\n",
      "          \"key\": \"sender\",\r\n",
      "          \"value\": \"dys1tvhkv3gqr90jpycaky02xa5ukhaxllu38wawhz\",\r\n",
      "          \"index\": true\r\n",
      "        },\r\n",
      "        {\r\n",
      "          \"key\": \"msg_index\",\r\n",
      "          \"value\": \"0\",\r\n",
      "          \"index\": true\r\n",
      "        }\r\n",
      "      ]\r\n",
      "    },\r\n",
      "    {\r\n",
      "      \"type\": \"cosmos.nft.v1beta1.EventMint\",\r\n",
      "      \"attributes\": [\r\n",
      "        {\r\n",
      "          \"key\": \"class_id\",\r\n",
      "          \"value\": \"\\\"nameservice.dys\\\"\",\r\n",
      "          \"index\": true\r\n",
      "        },\r\n",
      "        {\r\n",
      "          \"key\": \"id\",\r\n",
      "          \"value\": \"\\\"alice-vkqlo.dys\\\"\",\r\n",
      "          \"index\": true\r\n",
      "        },\r\n",
      "        {\r\n",
      "          \"key\": \"owner\",\r\n",
      "          \"value\": \"\\\"dys1tvhkv3gqr90jpycaky02xa5ukhaxllu38wawhz\\\"\",\r\n",
      "          \"index\": true\r\n",
      "        },\r\n",
      "        {\r\n",
      "          \"key\": \"msg_index\",\r\n",
      "          \"value\": \"0\",\r\n",
      "          \"index\": true\r\n",
      "        }\r\n",
      "      ]\r\n",
      "    },\r\n",
      "    {\r\n",
      "      \"type\": \"dysonprotocol.nameservice.v1.EventNameRegistered\",\r\n",
      "      \"attributes\": [\r\n",
      "        {\r\n",
      "          \"key\": \"fee\",\r\n",
      "          \"value\": \"[{\\\"denom\\\":\\\"dys\\\",\\\"amount\\\":\\\"1\\\"}]\",\r\n",
      "          \"index\": true\r\n",
      "        },\r\n",
      "        {\r\n",
      "          \"key\": \"name\",\r\n",
      "          \"value\": \"\\\"alice-vkqlo.dys\\\"\",\r\n",
      "          \"index\": true\r\n",
      "        },\r\n",
      "        {\r\n",
      "          \"key\": \"msg_index\",\r\n",
      "          \"value\": \"0\",\r\n",
      "          \"index\": true\r\n",
      "        }\r\n",
      "      ]\r\n",
      "    }\r\n",
      "  ]\r\n",
      "}\r\n"
     ]
    }
   ],
   "source": [
    "! dysond tx nameservice reveal \\\n",
    "    --name \"$name\" \\\n",
    "    --salt \"$salt\" \\\n",
    "    --from alice \\\n",
    "    -y | dysond query wait-tx -o json | jq -M"
   ]
  },
  {
   "cell_type": "markdown",
   "metadata": {},
   "source": [
    "## Set Destination for Name\n",
    "Set the destination of the registered name to Alice's address."
   ]
  },
  {
   "cell_type": "code",
   "execution_count": 11,
   "metadata": {
    "execution": {
     "iopub.execute_input": "2025-06-11T11:23:18.877192Z",
     "iopub.status.busy": "2025-06-11T11:23:18.877063Z",
     "iopub.status.idle": "2025-06-11T11:23:19.065145Z",
     "shell.execute_reply": "2025-06-11T11:23:19.064761Z"
    }
   },
   "outputs": [
    {
     "name": "stdout",
     "output_type": "stream",
     "text": [
      "{\r\n",
      "  \"height\": \"0\",\r\n",
      "  \"txhash\": \"C64C604416C984B3BED03AD76BDA41B4D59E39A057A0C1607942F0A1237A71C3\",\r\n",
      "  \"codespace\": \"\",\r\n",
      "  \"code\": 0,\r\n",
      "  \"data\": \"\",\r\n",
      "  \"raw_log\": \"\",\r\n",
      "  \"logs\": [],\r\n",
      "  \"info\": \"\",\r\n",
      "  \"gas_wanted\": \"0\",\r\n",
      "  \"gas_used\": \"0\",\r\n",
      "  \"tx\": null,\r\n",
      "  \"timestamp\": \"\",\r\n",
      "  \"events\": []\r\n",
      "}\r\n"
     ]
    }
   ],
   "source": [
    "! dysond tx nameservice set-destination \\\n",
    "    --name \"$name\" \\\n",
    "    --destination \"$address\" \\\n",
    "    --from alice \\\n",
    "    -y \\\n",
    "    -o json | jq -M"
   ]
  },
  {
   "cell_type": "markdown",
   "metadata": {},
   "source": [
    "## Access Script via Name\n",
    "Access the script via the registered name to demonstrate decentralized web hosting."
   ]
  },
  {
   "cell_type": "code",
   "execution_count": 12,
   "metadata": {
    "execution": {
     "iopub.execute_input": "2025-06-11T11:23:19.067088Z",
     "iopub.status.busy": "2025-06-11T11:23:19.066959Z",
     "iopub.status.idle": "2025-06-11T11:23:20.333396Z",
     "shell.execute_reply": "2025-06-11T11:23:20.332734Z"
    }
   },
   "outputs": [
    {
     "name": "stdout",
     "output_type": "stream",
     "text": [
      "Accessing your DWapp at 'http://alice-vkqlo.dys.localhost:2417'\n"
     ]
    },
    {
     "name": "stdout",
     "output_type": "stream",
     "text": [
      "* Host alice-vkqlo.dys.localhost:2417 was resolved.\n",
      "* IPv6: ::1\n",
      "* IPv4: 127.0.0.1\n",
      "*   Trying [::1]:2417...\n",
      "* connect to ::1 port 2417 from ::1 port 50165 failed: Connection refused\n",
      "*   Trying 127.0.0.1:2417...\n",
      "* Connected to alice-vkqlo.dys.localhost (127.0.0.1) port 2417\n",
      "> GET /hi HTTP/1.1\n",
      "> Host: alice-vkqlo.dys.localhost:2417\n",
      "> User-Agent: curl/8.6.0\n",
      "> Accept: */*\n",
      "> \n",
      "< HTTP/1.1 200 OK\n",
      "< Content-Length: 82\n",
      "< Content-Type: text/html\n",
      "< Date: Wed, 11 Jun 2025 11:23:18 GMT\n",
      "< Server: WSGIServer/0.2 CPython/3.11.4\n",
      "< X-Server-Time: 1749640999\n",
      "< \n",
      "{ [82 bytes data]\n",
      "* Connection #0 to host alice-vkqlo.dys.localhost left intact\n",
      "\n",
      "<html>\n",
      "    <body>\n",
      "        <h1>Hello from Dyson Protocol!</h1>\n",
      "    </body>\n",
      "</html>\n"
     ]
    }
   ],
   "source": [
    "[output] = ! dysond config get app api.address\n",
    "port = output.split(\":\")[-1].strip(\"\\\"\")\n",
    "\n",
    "dwapp_url = f\"http://{name}.localhost:{port}\"\n",
    "\n",
    "print(f\"Accessing your DWapp at '{dwapp_url}'\")\n",
    "output = ! curl -s \"$dwapp_url/hi\" -v\n",
    "output = \"\\n\".join(output).strip()\n",
    "print(output)\n",
    "assert \"Hello from Dyson Protocol!\" in output, \"Expected 'Hello from Dyson Protocol!' in output, got: \" + output"
   ]
  }
 ],
 "metadata": {
  "kernelspec": {
   "display_name": "Python 3",
   "language": "python",
   "name": "python3"
  },
  "language_info": {
   "codemirror_mode": {
    "name": "ipython",
    "version": 3
   },
   "file_extension": ".py",
   "mimetype": "text/x-python",
   "name": "python",
   "nbconvert_exporter": "python",
   "pygments_lexer": "ipython3",
   "version": "3.12.2"
  }
 },
 "nbformat": 4,
 "nbformat_minor": 2
}
