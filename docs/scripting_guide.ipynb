{
 "cells": [
  {
   "cell_type": "markdown",
   "metadata": {},
   "source": [
    "# Dyson Protocol Scripting Guide\n",
    "\n",
    "This guide provides an end-to-end demonstration of the Dyson Protocol Script Module for developers. It covers script management, execution, data handling, and web access through name resolution in the least number of steps."
   ]
  },
  {
   "cell_type": "markdown",
   "metadata": {},
   "source": [
    "## Fetch Your Address\n",
    "\n",
    "First, we'll retrieve the address associated with the 'alice' account. This address will serve as our identity throughout this guide and will be referenced in subsequent commands.\n"
   ]
  },
  {
   "cell_type": "code",
   "execution_count": 1,
   "metadata": {
    "execution": {
     "iopub.execute_input": "2025-06-06T10:45:49.102943Z",
     "iopub.status.busy": "2025-06-06T10:45:49.102842Z",
     "iopub.status.idle": "2025-06-06T10:45:49.181930Z",
     "shell.execute_reply": "2025-06-06T10:45:49.181670Z"
    }
   },
   "outputs": [
    {
     "name": "stdout",
     "output_type": "stream",
     "text": [
      "dys1tvhkv3gqr90jpycaky02xa5ukhaxllu38wawhz\n"
     ]
    }
   ],
   "source": [
    "[address] = ! dysond keys show alice -a\n",
    "print(address)"
   ]
  },
  {
   "cell_type": "markdown",
   "metadata": {},
   "source": [
    "## Update Script on Chain\n",
    "Now, let's deploy our script to the blockchain. We'll create a simple Python script with two functions:\n",
    "1. An `add` function that performs basic arithmetic\n",
    "2. A WSGI application that serves a welcome HTML page when accessed via web\n",
    "\n",
    "This demonstrates how Dyson Protocol enables both computational functions and web hosting capabilities.\n"
   ]
  },
  {
   "cell_type": "code",
   "execution_count": 2,
   "metadata": {
    "execution": {
     "iopub.execute_input": "2025-06-06T10:45:49.199896Z",
     "iopub.status.busy": "2025-06-06T10:45:49.199703Z",
     "iopub.status.idle": "2025-06-06T10:45:49.394018Z",
     "shell.execute_reply": "2025-06-06T10:45:49.393697Z"
    }
   },
   "outputs": [
    {
     "data": {
      "text/plain": [
       "{'height': '371302',\n",
       " 'txhash': '9D3A003BC758265E464733696E41DB1B8E87E08CE831FF9A1BC21F716A7B6CFC',\n",
       " 'codespace': '',\n",
       " 'code': 0,\n",
       " 'data': '12360A302F6479736F6E70726F746F636F6C2E7363726970742E76312E4D7367557064617465536372697074526573706F6E736512020814',\n",
       " 'raw_log': '',\n",
       " 'logs': [],\n",
       " 'info': '',\n",
       " 'gas_wanted': '200000',\n",
       " 'gas_used': '55304',\n",
       " 'tx': None,\n",
       " 'timestamp': '',\n",
       " 'events': [{'type': 'tx',\n",
       "   'attributes': [{'key': 'acc_seq',\n",
       "     'value': 'dys1tvhkv3gqr90jpycaky02xa5ukhaxllu38wawhz/150',\n",
       "     'index': True}]},\n",
       "  {'type': 'tx',\n",
       "   'attributes': [{'key': 'signature',\n",
       "     'value': '8kz6s4kqO+Wgyiz02/u5JRMefFEsoqlRfVqk3nPd2Vw5jD6qAFaHtlNfh/cx2Bd426NjWRzinqPIHsKL4RoHKA==',\n",
       "     'index': True}]},\n",
       "  {'type': 'message',\n",
       "   'attributes': [{'key': 'action',\n",
       "     'value': '/dysonprotocol.script.v1.MsgUpdateScript',\n",
       "     'index': True},\n",
       "    {'key': 'sender',\n",
       "     'value': 'dys1tvhkv3gqr90jpycaky02xa5ukhaxllu38wawhz',\n",
       "     'index': True},\n",
       "    {'key': 'module', 'value': 'script', 'index': True},\n",
       "    {'key': 'msg_index', 'value': '0', 'index': True}]},\n",
       "  {'type': 'dysonprotocol.script.v1.EventUpdateScript',\n",
       "   'attributes': [{'key': 'version', 'value': '\"20\"', 'index': True},\n",
       "    {'key': 'msg_index', 'value': '0', 'index': True}]}]}"
      ]
     },
     "execution_count": 2,
     "metadata": {},
     "output_type": "execute_result"
    }
   ],
   "source": [
    "import os\n",
    "\n",
    "code = \"\"\"\n",
    "def add(a, b):\n",
    "    print(f\"Adding {a} and {b}\")\n",
    "    return {\"a\": a, \"b\": b, \"add_result\": a + b}\n",
    "\n",
    "def wsgi(environ, start_response):\n",
    "    status = '200 OK'\n",
    "    headers = [('Content-type', 'text/html')]\n",
    "    start_response(status, headers)\n",
    "    return [b'''\n",
    "<html>\n",
    "    <body>\n",
    "        <h1>Hello from Dyson Protocol!</h1>\n",
    "    </body>\n",
    "</html>''']\n",
    "\"\"\"\n",
    "import tempfile\n",
    "import json\n",
    "\n",
    "with tempfile.NamedTemporaryFile(suffix='.py', delete=True) as tmp:\n",
    "    tmp.write(code.encode())\n",
    "    tmp.flush()\n",
    "    path = tmp.name\n",
    "    \n",
    "    tx = ! dysond tx script update --code-path $path \\\n",
    "        --from alice \\\n",
    "        -y | dysond query wait-tx -o json\n",
    "    \n",
    "json.loads('\\n'.join(tx))"
   ]
  },
  {
   "cell_type": "markdown",
   "metadata": {},
   "source": [
    "## Access Script via Web Interface\n",
    "Dyson Protocol allows scripts to be accessed as web applications through the WSGI interface. Let's access our script directly using its address. This demonstrates how Dyson Protocol enables decentralized web hosting without traditional servers.\n",
    "\n",
    "We'll use the script address to construct a URL that points to our deployed application. The format is:\n",
    "`http://<script_address>.example.com`\n",
    "\n",
    "For local development, we'll use localhost:8000 as our domain suffix."
   ]
  },
  {
   "cell_type": "code",
   "execution_count": 3,
   "metadata": {
    "execution": {
     "iopub.execute_input": "2025-06-06T10:45:49.395500Z",
     "iopub.status.busy": "2025-06-06T10:45:49.395403Z",
     "iopub.status.idle": "2025-06-06T10:45:49.644598Z",
     "shell.execute_reply": "2025-06-06T10:45:49.644295Z"
    }
   },
   "outputs": [
    {
     "name": "stdout",
     "output_type": "stream",
     "text": [
      "Accessing your DWapp at 'http://dys1tvhkv3gqr90jpycaky02xa5ukhaxllu38wawhz.localhost:2417'\n"
     ]
    },
    {
     "name": "stdout",
     "output_type": "stream",
     "text": [
      "* Host dys1tvhkv3gqr90jpycaky02xa5ukhaxllu38wawhz.localhost:2417 was resolved.\n",
      "* IPv6: ::1\n",
      "* IPv4: 127.0.0.1\n",
      "*   Trying [::1]:2417...\n",
      "* connect to ::1 port 2417 from ::1 port 63297 failed: Connection refused\n",
      "*   Trying 127.0.0.1:2417...\n",
      "* Connected to dys1tvhkv3gqr90jpycaky02xa5ukhaxllu38wawhz.localhost (127.0.0.1) port 2417\n",
      "> GET /hi HTTP/1.1\n",
      "> Host: dys1tvhkv3gqr90jpycaky02xa5ukhaxllu38wawhz.localhost:2417\n",
      "> User-Agent: curl/8.6.0\n",
      "> Accept: */*\n",
      "> \n",
      "< HTTP/1.1 200 OK\n",
      "< Content-Length: 82\n",
      "< Content-Type: text/html\n",
      "< Date: Fri, 06 Jun 2025 10:45:49 GMT\n",
      "< Server: WSGIServer/0.2 CPython/3.11.4\n",
      "< X-Server-Time: 1749206749\n",
      "< \n",
      "{ [82 bytes data]\n",
      "* Connection #0 to host dys1tvhkv3gqr90jpycaky02xa5ukhaxllu38wawhz.localhost left intact\n",
      "\n",
      "<html>\n",
      "    <body>\n",
      "        <h1>Hello from Dyson Protocol!</h1>\n",
      "    </body>\n",
      "</html>\n"
     ]
    }
   ],
   "source": [
    "[output] = ! dysond config get app api.address\n",
    "port = output.split(\":\")[-1].strip(\"\\\"\")\n",
    "\n",
    "dwapp_url = f\"http://{address}.localhost:{port}\"\n",
    "\n",
    "print(f\"Accessing your DWapp at '{dwapp_url}'\")\n",
    "output = ! curl -s \"$dwapp_url/hi\" -v\n",
    "output = \"\\n\".join(output).strip()\n",
    "print(output)\n",
    "assert \"Hello from Dyson Protocol!\" in output, \"Expected 'Hello from Dyson Protocol!' in output, got: \" + output"
   ]
  },
  {
   "cell_type": "markdown",
   "metadata": {},
   "source": [
    "## Query Script Information\n",
    "Let's examine the script we just deployed to the blockchain. This query retrieves the script's metadata and code content, allowing us to verify our update was successful.\n"
   ]
  },
  {
   "cell_type": "code",
   "execution_count": 4,
   "metadata": {
    "execution": {
     "iopub.execute_input": "2025-06-06T10:45:49.645994Z",
     "iopub.status.busy": "2025-06-06T10:45:49.645895Z",
     "iopub.status.idle": "2025-06-06T10:45:49.722880Z",
     "shell.execute_reply": "2025-06-06T10:45:49.722537Z"
    }
   },
   "outputs": [
    {
     "name": "stdout",
     "output_type": "stream",
     "text": [
      "{\n",
      "  \"script\": {\n",
      "    \"address\": \"dys1tvhkv3gqr90jpycaky02xa5ukhaxllu38wawhz\",\n",
      "    \"version\": \"20\",\n",
      "    \"code\": \"\\ndef add(a, b):\\n    print(f\\\"Adding {a} and {b}\\\")\\n    return {\\\"a\\\": a, \\\"b\\\": b, \\\"add_result\\\": a + b}\\n\\ndef wsgi(environ, start_response):\\n    status = '200 OK'\\n    headers = [('Content-type', 'text/html')]\\n    start_response(status, headers)\\n    return [b'''\\n\\u003chtml\\u003e\\n    \\u003cbody\\u003e\\n        \\u003ch1\\u003eHello from Dyson Protocol!\\u003c/h1\\u003e\\n    \\u003c/body\\u003e\\n\\u003c/html\\u003e''']\\n\"\n",
      "  }\n",
      "}\n",
      "✓ Script query successful for address: dys1tvhkv3gqr90jpycaky02xa5ukhaxllu38wawhz\n"
     ]
    }
   ],
   "source": [
    "import json\n",
    "\n",
    "output = ! dysond query script script-info --address \"$address\" -o json \n",
    "\n",
    "print(\"\\n\".join(output))\n",
    "script_info = json.loads('\\n'.join(output))\n",
    "print(f\"✓ Script query successful for address: {address}\")\n"
   ]
  },
  {
   "cell_type": "markdown",
   "metadata": {},
   "source": [
    "## Execute Script\n",
    "## Execute Script Function\n",
    "Now we'll invoke the `add` function we deployed in our script. This demonstrates how Dyson Protocol enables \n",
    "decentralized computation by executing functions directly on the blockchain. We'll pass the arguments `5` and `7`, \n",
    "and observe how the function processes these values and returns the calculated sum of `12` along with additional metadata."
   ]
  },
  {
   "cell_type": "code",
   "execution_count": 5,
   "metadata": {
    "execution": {
     "iopub.execute_input": "2025-06-06T10:45:49.724489Z",
     "iopub.status.busy": "2025-06-06T10:45:49.724372Z",
     "iopub.status.idle": "2025-06-06T10:45:50.158440Z",
     "shell.execute_reply": "2025-06-06T10:45:50.158036Z"
    }
   },
   "outputs": [
    {
     "name": "stdout",
     "output_type": "stream",
     "text": [
      "{\r\n",
      "  \"code\": 0,\r\n",
      "  \"script_result\": {\r\n",
      "    \"result\": {\r\n",
      "      \"cumsize\": 1675,\r\n",
      "      \"exception\": null,\r\n",
      "      \"gas_limit\": 200000,\r\n",
      "      \"nodes_called\": 22,\r\n",
      "      \"result\": {\r\n",
      "        \"a\": 5,\r\n",
      "        \"add_result\": 12,\r\n",
      "        \"b\": 7\r\n",
      "      },\r\n",
      "      \"script_gas_consumed\": 32576,\r\n",
      "      \"stdout\": \"Adding 5 and 7\\n\"\r\n",
      "    },\r\n",
      "    \"attached_message_results\": []\r\n",
      "  },\r\n",
      "  \"raw_log\": \"\",\r\n",
      "  \"events\": [\r\n",
      "    {\r\n",
      "      \"type\": \"tx\",\r\n",
      "      \"attributes\": [\r\n",
      "        {\r\n",
      "          \"key\": \"acc_seq\",\r\n",
      "          \"value\": \"dys1tvhkv3gqr90jpycaky02xa5ukhaxllu38wawhz/151\",\r\n",
      "          \"index\": true\r\n",
      "        }\r\n",
      "      ]\r\n",
      "    },\r\n",
      "    {\r\n",
      "      \"type\": \"tx\",\r\n",
      "      \"attributes\": [\r\n",
      "        {\r\n",
      "          \"key\": \"signature\",\r\n",
      "          \"value\": \"PqtMYnsCtO7V39HeA/oseCIx7d7yT/8uKCSftnheUyUgaS96cQCSaROCT6frd2x1NXkIh3NLBkKENtxhAuvARg==\",\r\n",
      "          \"index\": true\r\n",
      "        }\r\n",
      "      ]\r\n",
      "    },\r\n",
      "    {\r\n",
      "      \"type\": \"message\",\r\n",
      "      \"attributes\": [\r\n",
      "        {\r\n",
      "          \"key\": \"action\",\r\n",
      "          \"value\": \"/dysonprotocol.script.v1.MsgExec\",\r\n",
      "          \"index\": true\r\n",
      "        },\r\n",
      "        {\r\n",
      "          \"key\": \"sender\",\r\n",
      "          \"value\": \"dys1tvhkv3gqr90jpycaky02xa5ukhaxllu38wawhz\",\r\n",
      "          \"index\": true\r\n",
      "        },\r\n",
      "        {\r\n",
      "          \"key\": \"module\",\r\n",
      "          \"value\": \"script\",\r\n",
      "          \"index\": true\r\n",
      "        },\r\n",
      "        {\r\n",
      "          \"key\": \"msg_index\",\r\n",
      "          \"value\": \"0\",\r\n",
      "          \"index\": true\r\n",
      "        }\r\n",
      "      ]\r\n",
      "    },\r\n",
      "    {\r\n",
      "      \"type\": \"dysonprotocol.script.v1.EventExecScript\",\r\n",
      "      \"attributes\": [\r\n",
      "        {\r\n",
      "          \"key\": \"request\",\r\n",
      "          \"value\": \"{\\\"executor_address\\\":\\\"dys1tvhkv3gqr90jpycaky02xa5ukhaxllu38wawhz\\\",\\\"script_address\\\":\\\"dys1tvhkv3gqr90jpycaky02xa5ukhaxllu38wawhz\\\",\\\"extra_code\\\":\\\"\\\",\\\"function_name\\\":\\\"add\\\",\\\"args\\\":\\\"[5, 7]\\\",\\\"kwargs\\\":\\\"\\\",\\\"attached_messages\\\":[]}\",\r\n",
      "          \"index\": true\r\n",
      "        },\r\n",
      "        {\r\n",
      "          \"key\": \"response\",\r\n",
      "          \"value\": \"{\\\"result\\\":\\\"{\\\\\\\"cumsize\\\\\\\":1675,\\\\\\\"exception\\\\\\\":null,\\\\\\\"gas_limit\\\\\\\":200000,\\\\\\\"nodes_called\\\\\\\":22,\\\\\\\"result\\\\\\\":{\\\\\\\"a\\\\\\\":5,\\\\\\\"add_result\\\\\\\":12,\\\\\\\"b\\\\\\\":7},\\\\\\\"script_gas_consumed\\\\\\\":32576,\\\\\\\"stdout\\\\\\\":\\\\\\\"Adding 5 and 7\\\\\\\\n\\\\\\\"}\\\",\\\"attached_message_results\\\":[]}\",\r\n",
      "          \"index\": true\r\n",
      "        },\r\n",
      "        {\r\n",
      "          \"key\": \"msg_index\",\r\n",
      "          \"value\": \"0\",\r\n",
      "          \"index\": true\r\n",
      "        }\r\n",
      "      ]\r\n",
      "    }\r\n",
      "  ]\r\n",
      "}\r\n"
     ]
    }
   ],
   "source": [
    "! dysond tx script exec \\\n",
    "    --script-address \"$address\" \\\n",
    "    --function-name add \\\n",
    "    --args '[5, 7]' \\\n",
    "    --from alice \\\n",
    "    -y \\\n",
    "    -o json  | dysond query wait-tx -o json | python ../scripts/parse_exec_script_tx.py"
   ]
  },
  {
   "cell_type": "markdown",
   "metadata": {},
   "source": [
    "# Encoding JSON for Blockchain Operations\n",
    "Your project may require converting complex JSON structures into a compact binary format for efficient on-chain storage and transmission. The following example demonstrates how to encode a standard transaction message into its binary representation."
   ]
  },
  {
   "cell_type": "code",
   "execution_count": 6,
   "metadata": {
    "execution": {
     "iopub.execute_input": "2025-06-06T10:45:50.160009Z",
     "iopub.status.busy": "2025-06-06T10:45:50.159895Z",
     "iopub.status.idle": "2025-06-06T10:45:50.342127Z",
     "shell.execute_reply": "2025-06-06T10:45:50.341775Z"
    }
   },
   "outputs": [
    {
     "name": "stdout",
     "output_type": "stream",
     "text": [
      "{\r\n",
      "  \"bytes\": \"CgxkeXMxZXhhbXBsZTESDGR5czFleGFtcGxlMhoKCgNkeXMSAzEwMA==\"\r\n",
      "}\r\n"
     ]
    }
   ],
   "source": [
    "! dysond query script encode-json --json '{\\\n",
    "  \"@type\": \"/cosmos.bank.v1beta1.MsgSend\", \\\n",
    "  \"from_address\": \"dys1example1\", \\\n",
    "  \"to_address\": \"dys1example2\", \\\n",
    "  \"amount\": [ { \"denom\": \"dys\", \"amount\": \"100\" } ] \\\n",
    "}' -o json"
   ]
  },
  {
   "cell_type": "markdown",
   "metadata": {},
   "source": [
    "## Decode Bytes\n",
    "Decoding Binary Data\n",
    "In this step, we'll convert the previously encoded binary data back into its original JSON format. This bidirectional conversion capability is essential for working with blockchain data that needs to be both efficiently stored on-chain and human-readable when retrieved."
   ]
  },
  {
   "cell_type": "code",
   "execution_count": 7,
   "metadata": {
    "execution": {
     "iopub.execute_input": "2025-06-06T10:45:50.343912Z",
     "iopub.status.busy": "2025-06-06T10:45:50.343796Z",
     "iopub.status.idle": "2025-06-06T10:45:50.535216Z",
     "shell.execute_reply": "2025-06-06T10:45:50.534923Z"
    }
   },
   "outputs": [
    {
     "name": "stdout",
     "output_type": "stream",
     "text": [
      "\u001b[1;39m{\r\n",
      "  \u001b[0m\u001b[1;34m\"json\"\u001b[0m\u001b[1;39m: \u001b[0m\u001b[0;32m\"{\\\"@type\\\":\\\"/cosmos.bank.v1beta1.MsgSend\\\",\\\"from_address\\\":\\\"dys1example1\\\",\\\"to_address\\\":\\\"dys1example2\\\",\\\"amount\\\":[{\\\"denom\\\":\\\"dys\\\",\\\"amount\\\":\\\"100\\\"}]}\"\u001b[0m\u001b[1;39m\r\n",
      "\u001b[1;39m}\u001b[0m\r\n"
     ]
    }
   ],
   "source": [
    "! dysond query script decode-bytes --bytes \"CgxkeXMxZXhhbXBsZTESDGR5czFleGFtcGxlMhoKCgNkeXMSAzEwMA==\"  --type-url \"/cosmos.bank.v1beta1.MsgSend\" -o json | jq"
   ]
  },
  {
   "cell_type": "markdown",
   "metadata": {},
   "source": [
    "## Commit Name Registration\n",
    "More details on name registration can be found in the Name Service section of the documentation.\n",
    "Commit to registering a name using a computed hash. First, compute the hash."
   ]
  },
  {
   "cell_type": "code",
   "execution_count": 8,
   "metadata": {
    "execution": {
     "iopub.execute_input": "2025-06-06T10:45:50.536730Z",
     "iopub.status.busy": "2025-06-06T10:45:50.536621Z",
     "iopub.status.idle": "2025-06-06T10:45:50.614542Z",
     "shell.execute_reply": "2025-06-06T10:45:50.614238Z"
    }
   },
   "outputs": [
    {
     "name": "stdout",
     "output_type": "stream",
     "text": [
      "Name: alice-kf7u1.dys\n",
      "Salt: pbvbk3gm07\n",
      "Hex Hash: 5dc1d0f6ce1191c75c3f30cc937d4aa098ea5428eeae0f3bb270f7d096391dde\n"
     ]
    }
   ],
   "source": [
    "import random\n",
    "import string\n",
    "\n",
    "def random_string(length=10):\n",
    "    return ''.join(random.choices(string.ascii_lowercase + string.digits, k=length))\n",
    "\n",
    "name = f\"alice-{random_string(5)}.dys\"\n",
    "salt = random_string(10)\n",
    "\n",
    "[hex_hash] = ! dysond query nameservice compute-hash \\\n",
    "    --name \"$name\" \\\n",
    "    --salt \"$salt\" \\\n",
    "    --committer \"$address\" \\\n",
    "    -o json | jq '.hex_hash' -r\n",
    "\n",
    "print(f\"Name: {name}\")\n",
    "print(f\"Salt: {salt}\")\n",
    "print(f\"Hex Hash: {hex_hash}\")"
   ]
  },
  {
   "cell_type": "code",
   "execution_count": 9,
   "metadata": {
    "execution": {
     "iopub.execute_input": "2025-06-06T10:45:50.615795Z",
     "iopub.status.busy": "2025-06-06T10:45:50.615700Z",
     "iopub.status.idle": "2025-06-06T10:45:50.915679Z",
     "shell.execute_reply": "2025-06-06T10:45:50.915308Z"
    }
   },
   "outputs": [
    {
     "name": "stdout",
     "output_type": "stream",
     "text": [
      "{\r\n",
      "  \"height\": \"371312\",\r\n",
      "  \"txhash\": \"88122945F8C213B1AF3BA493F363BBF01EA2D42A184B956422450A55EE7C8572\",\r\n",
      "  \"codespace\": \"\",\r\n",
      "  \"code\": 0,\r\n",
      "  \"data\": \"12310A2F2F6479736F6E70726F746F636F6C2E6E616D65736572766963652E76312E4D7367436F6D6D6974526573706F6E7365\",\r\n",
      "  \"raw_log\": \"\",\r\n",
      "  \"logs\": [],\r\n",
      "  \"info\": \"\",\r\n",
      "  \"gas_wanted\": \"200000\",\r\n",
      "  \"gas_used\": \"39847\",\r\n",
      "  \"tx\": null,\r\n",
      "  \"timestamp\": \"\",\r\n",
      "  \"events\": [\r\n",
      "    {\r\n",
      "      \"type\": \"tx\",\r\n",
      "      \"attributes\": [\r\n",
      "        {\r\n",
      "          \"key\": \"acc_seq\",\r\n",
      "          \"value\": \"dys1tvhkv3gqr90jpycaky02xa5ukhaxllu38wawhz/152\",\r\n",
      "          \"index\": true\r\n",
      "        }\r\n",
      "      ]\r\n",
      "    },\r\n",
      "    {\r\n",
      "      \"type\": \"tx\",\r\n",
      "      \"attributes\": [\r\n",
      "        {\r\n",
      "          \"key\": \"signature\",\r\n",
      "          \"value\": \"4XWt7tdGsWhCiKASAd4LM0mx8TIU4rG7L/ajx0xYG95MG/ubFCcOXcrIHs9/cVPa8XQKVFsk/re3lvxgmwochw==\",\r\n",
      "          \"index\": true\r\n",
      "        }\r\n",
      "      ]\r\n",
      "    },\r\n",
      "    {\r\n",
      "      \"type\": \"message\",\r\n",
      "      \"attributes\": [\r\n",
      "        {\r\n",
      "          \"key\": \"action\",\r\n",
      "          \"value\": \"/dysonprotocol.nameservice.v1.MsgCommit\",\r\n",
      "          \"index\": true\r\n",
      "        },\r\n",
      "        {\r\n",
      "          \"key\": \"sender\",\r\n",
      "          \"value\": \"dys1tvhkv3gqr90jpycaky02xa5ukhaxllu38wawhz\",\r\n",
      "          \"index\": true\r\n",
      "        },\r\n",
      "        {\r\n",
      "          \"key\": \"module\",\r\n",
      "          \"value\": \"nameservice\",\r\n",
      "          \"index\": true\r\n",
      "        },\r\n",
      "        {\r\n",
      "          \"key\": \"msg_index\",\r\n",
      "          \"value\": \"0\",\r\n",
      "          \"index\": true\r\n",
      "        }\r\n",
      "      ]\r\n",
      "    },\r\n",
      "    {\r\n",
      "      \"type\": \"dysonprotocol.nameservice.v1.EventCommitmentCreated\",\r\n",
      "      \"attributes\": [\r\n",
      "        {\r\n",
      "          \"key\": \"hexhash\",\r\n",
      "          \"value\": \"\\\"5dc1d0f6ce1191c75c3f30cc937d4aa098ea5428eeae0f3bb270f7d096391dde\\\"\",\r\n",
      "          \"index\": true\r\n",
      "        },\r\n",
      "        {\r\n",
      "          \"key\": \"msg_index\",\r\n",
      "          \"value\": \"0\",\r\n",
      "          \"index\": true\r\n",
      "        }\r\n",
      "      ]\r\n",
      "    }\r\n",
      "  ]\r\n",
      "}\r\n"
     ]
    }
   ],
   "source": [
    "valuation = '100dys'\n",
    "! dysond tx nameservice commit --commitment \"$hex_hash\" --valuation \"$valuation\" --from alice -y | dysond query wait-tx -o json | jq -M"
   ]
  },
  {
   "cell_type": "markdown",
   "metadata": {},
   "source": [
    "## Reveal Name Registration\n",
    "Reveal the name to complete registration."
   ]
  },
  {
   "cell_type": "code",
   "execution_count": 10,
   "metadata": {
    "execution": {
     "iopub.execute_input": "2025-06-06T10:45:50.917294Z",
     "iopub.status.busy": "2025-06-06T10:45:50.917182Z",
     "iopub.status.idle": "2025-06-06T10:45:51.183767Z",
     "shell.execute_reply": "2025-06-06T10:45:51.183474Z"
    }
   },
   "outputs": [
    {
     "name": "stdout",
     "output_type": "stream",
     "text": [
      "{\r\n",
      "  \"height\": \"371314\",\r\n",
      "  \"txhash\": \"6B49B0578D13B5327DA96F09792D5935BDFD6ADDF546C72D983528CFB0D06BA9\",\r\n",
      "  \"codespace\": \"\",\r\n",
      "  \"code\": 0,\r\n",
      "  \"data\": \"12310A2F2F6479736F6E70726F746F636F6C2E6E616D65736572766963652E76312E4D736752657665616C526573706F6E7365\",\r\n",
      "  \"raw_log\": \"\",\r\n",
      "  \"logs\": [],\r\n",
      "  \"info\": \"\",\r\n",
      "  \"gas_wanted\": \"200000\",\r\n",
      "  \"gas_used\": \"80411\",\r\n",
      "  \"tx\": null,\r\n",
      "  \"timestamp\": \"\",\r\n",
      "  \"events\": [\r\n",
      "    {\r\n",
      "      \"type\": \"tx\",\r\n",
      "      \"attributes\": [\r\n",
      "        {\r\n",
      "          \"key\": \"acc_seq\",\r\n"
     ]
    },
    {
     "name": "stdout",
     "output_type": "stream",
     "text": [
      "          \"value\": \"dys1tvhkv3gqr90jpycaky02xa5ukhaxllu38wawhz/153\",\r\n",
      "          \"index\": true\r\n",
      "        }\r\n",
      "      ]\r\n",
      "    },\r\n",
      "    {\r\n",
      "      \"type\": \"tx\",\r\n",
      "      \"attributes\": [\r\n",
      "        {\r\n",
      "          \"key\": \"signature\",\r\n",
      "          \"value\": \"YMjnHItUm6vjZncvAqRps2epskyYW+IZxTUmz0UFuVcudY95h/8d7BKIaxSpBvaCinc3Pa3b+pKvVbAqbCyTZg==\",\r\n",
      "          \"index\": true\r\n",
      "        }\r\n",
      "      ]\r\n",
      "    },\r\n",
      "    {\r\n",
      "      \"type\": \"message\",\r\n",
      "      \"attributes\": [\r\n",
      "        {\r\n",
      "          \"key\": \"action\",\r\n",
      "          \"value\": \"/dysonprotocol.nameservice.v1.MsgReveal\",\r\n",
      "          \"index\": true\r\n",
      "        },\r\n",
      "        {\r\n",
      "          \"key\": \"sender\",\r\n",
      "          \"value\": \"dys1tvhkv3gqr90jpycaky02xa5ukhaxllu38wawhz\",\r\n",
      "          \"index\": true\r\n",
      "        },\r\n",
      "        {\r\n",
      "          \"key\": \"module\",\r\n",
      "          \"value\": \"nameservice\",\r\n",
      "          \"index\": true\r\n",
      "        },\r\n",
      "        {\r\n",
      "          \"key\": \"msg_index\",\r\n",
      "          \"value\": \"0\",\r\n",
      "          \"index\": true\r\n",
      "        }\r\n",
      "      ]\r\n",
      "    },\r\n",
      "    {\r\n",
      "      \"type\": \"coin_spent\",\r\n",
      "      \"attributes\": [\r\n",
      "        {\r\n",
      "          \"key\": \"spender\",\r\n",
      "          \"value\": \"dys1tvhkv3gqr90jpycaky02xa5ukhaxllu38wawhz\",\r\n",
      "          \"index\": true\r\n",
      "        },\r\n",
      "        {\r\n",
      "          \"key\": \"amount\",\r\n",
      "          \"value\": \"1dys\",\r\n",
      "          \"index\": true\r\n",
      "        },\r\n",
      "        {\r\n",
      "          \"key\": \"msg_index\",\r\n",
      "          \"value\": \"0\",\r\n",
      "          \"index\": true\r\n",
      "        }\r\n",
      "      ]\r\n",
      "    },\r\n",
      "    {\r\n",
      "      \"type\": \"coin_received\",\r\n",
      "      \"attributes\": [\r\n",
      "        {\r\n",
      "          \"key\": \"receiver\",\r\n",
      "          \"value\": \"dys1jv65s3grqf6v6jl3dp4t6c9t9rk99cd8c7vhhu\",\r\n",
      "          \"index\": true\r\n",
      "        },\r\n",
      "        {\r\n",
      "          \"key\": \"amount\",\r\n",
      "          \"value\": \"1dys\",\r\n",
      "          \"index\": true\r\n",
      "        },\r\n",
      "        {\r\n",
      "          \"key\": \"msg_index\",\r\n",
      "          \"value\": \"0\",\r\n",
      "          \"index\": true\r\n",
      "        }\r\n",
      "      ]\r\n",
      "    },\r\n",
      "    {\r\n",
      "      \"type\": \"transfer\",\r\n",
      "      \"attributes\": [\r\n",
      "        {\r\n",
      "          \"key\": \"recipient\",\r\n",
      "          \"value\": \"dys1jv65s3grqf6v6jl3dp4t6c9t9rk99cd8c7vhhu\",\r\n",
      "          \"index\": true\r\n",
      "        },\r\n",
      "        {\r\n",
      "          \"key\": \"sender\",\r\n",
      "          \"value\": \"dys1tvhkv3gqr90jpycaky02xa5ukhaxllu38wawhz\",\r\n",
      "          \"index\": true\r\n",
      "        },\r\n",
      "        {\r\n",
      "          \"key\": \"amount\",\r\n",
      "          \"value\": \"1dys\",\r\n",
      "          \"index\": true\r\n",
      "        },\r\n",
      "        {\r\n",
      "          \"key\": \"msg_index\",\r\n",
      "          \"value\": \"0\",\r\n",
      "          \"index\": true\r\n",
      "        }\r\n",
      "      ]\r\n",
      "    },\r\n",
      "    {\r\n",
      "      \"type\": \"message\",\r\n",
      "      \"attributes\": [\r\n",
      "        {\r\n",
      "          \"key\": \"sender\",\r\n",
      "          \"value\": \"dys1tvhkv3gqr90jpycaky02xa5ukhaxllu38wawhz\",\r\n",
      "          \"index\": true\r\n",
      "        },\r\n",
      "        {\r\n",
      "          \"key\": \"msg_index\",\r\n",
      "          \"value\": \"0\",\r\n",
      "          \"index\": true\r\n",
      "        }\r\n",
      "      ]\r\n",
      "    },\r\n",
      "    {\r\n",
      "      \"type\": \"cosmos.nft.v1beta1.EventMint\",\r\n",
      "      \"attributes\": [\r\n",
      "        {\r\n",
      "          \"key\": \"class_id\",\r\n",
      "          \"value\": \"\\\"nameservice.dys\\\"\",\r\n",
      "          \"index\": true\r\n",
      "        },\r\n",
      "        {\r\n",
      "          \"key\": \"id\",\r\n",
      "          \"value\": \"\\\"alice-kf7u1.dys\\\"\",\r\n",
      "          \"index\": true\r\n",
      "        },\r\n",
      "        {\r\n",
      "          \"key\": \"owner\",\r\n",
      "          \"value\": \"\\\"dys1tvhkv3gqr90jpycaky02xa5ukhaxllu38wawhz\\\"\",\r\n",
      "          \"index\": true\r\n",
      "        },\r\n",
      "        {\r\n",
      "          \"key\": \"msg_index\",\r\n",
      "          \"value\": \"0\",\r\n",
      "          \"index\": true\r\n",
      "        }\r\n",
      "      ]\r\n",
      "    },\r\n",
      "    {\r\n",
      "      \"type\": \"dysonprotocol.nameservice.v1.EventNameRegistered\",\r\n",
      "      \"attributes\": [\r\n",
      "        {\r\n",
      "          \"key\": \"fee\",\r\n",
      "          \"value\": \"[{\\\"denom\\\":\\\"dys\\\",\\\"amount\\\":\\\"1\\\"}]\",\r\n",
      "          \"index\": true\r\n",
      "        },\r\n",
      "        {\r\n",
      "          \"key\": \"name\",\r\n",
      "          \"value\": \"\\\"alice-kf7u1.dys\\\"\",\r\n",
      "          \"index\": true\r\n",
      "        },\r\n",
      "        {\r\n",
      "          \"key\": \"msg_index\",\r\n",
      "          \"value\": \"0\",\r\n",
      "          \"index\": true\r\n",
      "        }\r\n",
      "      ]\r\n",
      "    }\r\n",
      "  ]\r\n",
      "}\r\n"
     ]
    }
   ],
   "source": [
    "! dysond tx nameservice reveal \\\n",
    "    --name \"$name\" \\\n",
    "    --salt \"$salt\" \\\n",
    "    --from alice \\\n",
    "    -y | dysond query wait-tx -o json | jq -M"
   ]
  },
  {
   "cell_type": "markdown",
   "metadata": {},
   "source": [
    "## Set Destination for Name\n",
    "Set the destination of the registered name to Alice's address."
   ]
  },
  {
   "cell_type": "code",
   "execution_count": 11,
   "metadata": {
    "execution": {
     "iopub.execute_input": "2025-06-06T10:45:51.185288Z",
     "iopub.status.busy": "2025-06-06T10:45:51.185173Z",
     "iopub.status.idle": "2025-06-06T10:45:51.376514Z",
     "shell.execute_reply": "2025-06-06T10:45:51.376157Z"
    }
   },
   "outputs": [
    {
     "name": "stdout",
     "output_type": "stream",
     "text": [
      "{\r\n",
      "  \"height\": \"0\",\r\n",
      "  \"txhash\": \"68CF919C79DEA485B62B17117B546D1C7CCFB2B8AEFBCCE77917CACC4470CFD9\",\r\n",
      "  \"codespace\": \"\",\r\n",
      "  \"code\": 0,\r\n",
      "  \"data\": \"\",\r\n",
      "  \"raw_log\": \"\",\r\n",
      "  \"logs\": [],\r\n",
      "  \"info\": \"\",\r\n",
      "  \"gas_wanted\": \"0\",\r\n",
      "  \"gas_used\": \"0\",\r\n",
      "  \"tx\": null,\r\n",
      "  \"timestamp\": \"\",\r\n",
      "  \"events\": []\r\n",
      "}\r\n"
     ]
    }
   ],
   "source": [
    "! dysond tx nameservice set-destination \\\n",
    "    --name \"$name\" \\\n",
    "    --destination \"$address\" \\\n",
    "    --from alice \\\n",
    "    -y \\\n",
    "    -o json | jq -M"
   ]
  },
  {
   "cell_type": "markdown",
   "metadata": {},
   "source": [
    "## Access Script via Name\n",
    "Access the script via the registered name to demonstrate decentralized web hosting."
   ]
  },
  {
   "cell_type": "code",
   "execution_count": 12,
   "metadata": {
    "execution": {
     "iopub.execute_input": "2025-06-06T10:45:51.378097Z",
     "iopub.status.busy": "2025-06-06T10:45:51.378006Z",
     "iopub.status.idle": "2025-06-06T10:45:51.636131Z",
     "shell.execute_reply": "2025-06-06T10:45:51.635788Z"
    }
   },
   "outputs": [
    {
     "name": "stdout",
     "output_type": "stream",
     "text": [
      "Accessing your DWapp at 'http://alice-kf7u1.dys.localhost:2417'\n"
     ]
    },
    {
     "name": "stdout",
     "output_type": "stream",
     "text": [
      "* Host alice-kf7u1.dys.localhost:2417 was resolved.\n",
      "* IPv6: ::1\n",
      "* IPv4: 127.0.0.1\n",
      "*   Trying [::1]:2417...\n",
      "* connect to ::1 port 2417 from ::1 port 49425 failed: Connection refused\n",
      "*   Trying 127.0.0.1:2417...\n",
      "* Connected to alice-kf7u1.dys.localhost (127.0.0.1) port 2417\n",
      "> GET /hi HTTP/1.1\n",
      "> Host: alice-kf7u1.dys.localhost:2417\n",
      "> User-Agent: curl/8.6.0\n",
      "> Accept: */*\n",
      "> \n",
      "< HTTP/1.1 200 OK\n",
      "< Content-Length: 82\n",
      "< Content-Type: text/html\n",
      "< Date: Fri, 06 Jun 2025 10:45:51 GMT\n",
      "< Server: WSGIServer/0.2 CPython/3.11.4\n",
      "< X-Server-Time: 1749206751\n",
      "< \n",
      "{ [82 bytes data]\n",
      "* Connection #0 to host alice-kf7u1.dys.localhost left intact\n",
      "\n",
      "<html>\n",
      "    <body>\n",
      "        <h1>Hello from Dyson Protocol!</h1>\n",
      "    </body>\n",
      "</html>\n"
     ]
    }
   ],
   "source": [
    "[output] = ! dysond config get app api.address\n",
    "port = output.split(\":\")[-1].strip(\"\\\"\")\n",
    "\n",
    "dwapp_url = f\"http://{name}.localhost:{port}\"\n",
    "\n",
    "print(f\"Accessing your DWapp at '{dwapp_url}'\")\n",
    "output = ! curl -s \"$dwapp_url/hi\" -v\n",
    "output = \"\\n\".join(output).strip()\n",
    "print(output)\n",
    "assert \"Hello from Dyson Protocol!\" in output, \"Expected 'Hello from Dyson Protocol!' in output, got: \" + output"
   ]
  }
 ],
 "metadata": {
  "kernelspec": {
   "display_name": "Python 3",
   "language": "python",
   "name": "python3"
  },
  "language_info": {
   "codemirror_mode": {
    "name": "ipython",
    "version": 3
   },
   "file_extension": ".py",
   "mimetype": "text/x-python",
   "name": "python",
   "nbconvert_exporter": "python",
   "pygments_lexer": "ipython3",
   "version": "3.12.2"
  }
 },
 "nbformat": 4,
 "nbformat_minor": 2
}
