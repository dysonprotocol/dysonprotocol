{
 "cells": [
  {
   "cell_type": "markdown",
   "metadata": {},
   "source": [
    "# Dyson Protocol Storage Module Guide\n",
    "\n",
    "This notebook demonstrates the key features of the Dyson Protocol's Storage module, which provides on-chain persistent key-value storage functionality. The Storage module allows dApps and scripts to maintain state between transactions and serves as a foundation for building robust decentralized applications."
   ]
  },
  {
   "cell_type": "markdown",
   "metadata": {},
   "source": [
    "## Introduction to Storage\n",
    "\n",
    "The Storage module provides a simple yet powerful key-value store with these key features:\n",
    "\n",
    "- **Key-Value Store**: Persistent on-chain storage of data\n",
    "- **Owner-Based Access Control**: Only owners can modify their storage entries\n",
    "- **Prefix-Based Queries**: List entries with common prefixes for efficient data organization\n",
    "- **JSON Support**: Easy storage of complex data structures as JSON\n",
    "- **Script Integration**: Seamless interaction with on-chain Python scripts"
   ]
  },
  {
   "cell_type": "markdown",
   "metadata": {},
   "source": [
    "## Command Overview\n",
    "\n",
    "Let's explore the available commands for the Storage module:"
   ]
  },
  {
   "cell_type": "code",
   "execution_count": 3,
   "metadata": {
    "execution": {
     "iopub.execute_input": "2025-06-06T10:46:21.912268Z",
     "iopub.status.busy": "2025-06-06T10:46:21.912175Z",
     "iopub.status.idle": "2025-06-06T10:46:22.091063Z",
     "shell.execute_reply": "2025-06-06T10:46:22.090707Z"
    }
   },
   "outputs": [
    {
     "name": "stdout",
     "output_type": "stream",
     "text": [
      "Storage subcommands\n",
      "\n",
      "Usage:\n",
      "  dysond tx storage [flags]\n",
      "  dysond tx storage [command]\n",
      "\n",
      "Available Commands:\n",
      "  delete      Delete one or more storage entries with the specified indexes\n",
      "  set         Set or update a storage entry with the specified index and data\n",
      "\n",
      "Flags:\n",
      "  -h, --help   help for storage\n",
      "\n",
      "Global Flags:\n",
      "      --home string         directory for config and data (default \"/Users/user/.dysonprotocol\")\n",
      "      --log_format string   The logging format (json|plain) (default \"plain\")\n",
      "      --log_level string    The logging level (trace|debug|info|warn|error|fatal|panic|disabled or '*:<level>,<key>:<level>') (default \"info\")\n",
      "      --log_no_color        Disable colored logs\n",
      "      --trace               print out full stack trace on errors\n",
      "\n",
      "Use \"dysond tx storage [command] --help\" for more information about a command.\n"
     ]
    }
   ],
   "source": [
    "# Transaction commands\n",
    "! dysond tx storage -h"
   ]
  },
  {
   "cell_type": "code",
   "execution_count": 4,
   "metadata": {
    "execution": {
     "iopub.execute_input": "2025-06-06T10:46:22.092684Z",
     "iopub.status.busy": "2025-06-06T10:46:22.092560Z",
     "iopub.status.idle": "2025-06-06T10:46:22.272024Z",
     "shell.execute_reply": "2025-06-06T10:46:22.271602Z"
    }
   },
   "outputs": [
    {
     "name": "stdout",
     "output_type": "stream",
     "text": [
      "Querying commands for the storage module\n",
      "\n",
      "Usage:\n",
      "  dysond query storage [flags]\n",
      "  dysond query storage [command]\n",
      "\n",
      "Available Commands:\n",
      "  get         Query the value of an index in the storage by owner\n",
      "  list        List all storage entries for an owner, optionally filtered by index prefix\n",
      "\n",
      "Flags:\n",
      "  -h, --help   help for storage\n",
      "\n",
      "Global Flags:\n",
      "      --home string         directory for config and data (default \"/Users/user/.dysonprotocol\")\n",
      "      --log_format string   The logging format (json|plain) (default \"plain\")\n",
      "      --log_level string    The logging level (trace|debug|info|warn|error|fatal|panic|disabled or '*:<level>,<key>:<level>') (default \"info\")\n",
      "      --log_no_color        Disable colored logs\n",
      "      --trace               print out full stack trace on errors\n",
      "\n",
      "Use \"dysond query storage [command] --help\" for more information about a command.\n"
     ]
    }
   ],
   "source": [
    "# Query commands\n",
    "! dysond query storage -h"
   ]
  },
  {
   "cell_type": "markdown",
   "metadata": {},
   "source": [
    "## Setting Up Your Account\n",
    "\n",
    "Let's set up our account for the following examples:"
   ]
  },
  {
   "cell_type": "code",
   "execution_count": 5,
   "metadata": {
    "execution": {
     "iopub.execute_input": "2025-06-06T10:46:22.274080Z",
     "iopub.status.busy": "2025-06-06T10:46:22.273936Z",
     "iopub.status.idle": "2025-06-06T10:46:22.354118Z",
     "shell.execute_reply": "2025-06-06T10:46:22.353834Z"
    }
   },
   "outputs": [
    {
     "name": "stdout",
     "output_type": "stream",
     "text": [
      "Using address: dys18lm54xtj4ar7jmw85zpkvj9gaze3509xvlmls0\n"
     ]
    }
   ],
   "source": [
    "# Get the address from bob account\n",
    "[ADDRESS] = ! dysond keys show -a bob\n",
    "print(f\"Using address: {ADDRESS}\")"
   ]
  },
  {
   "cell_type": "markdown",
   "metadata": {},
   "source": [
    "## Basic Storage Operations\n",
    "\n",
    "The Storage module provides basic CRUD operations. Let's explore these operations with practical examples."
   ]
  },
  {
   "cell_type": "markdown",
   "metadata": {},
   "source": [
    "### Creating/Updating Storage Entries\n",
    "\n",
    "Let's store some user profile data. The Storage module accepts JSON data, making it ideal for structured information:"
   ]
  },
  {
   "cell_type": "code",
   "execution_count": 22,
   "metadata": {
    "execution": {
     "iopub.execute_input": "2025-06-06T10:46:22.355478Z",
     "iopub.status.busy": "2025-06-06T10:46:22.355387Z",
     "iopub.status.idle": "2025-06-06T10:46:22.625491Z",
     "shell.execute_reply": "2025-06-06T10:46:22.625147Z"
    }
   },
   "outputs": [
    {
     "name": "stdout",
     "output_type": "stream",
     "text": [
      "{\n",
      "  \"type\": \"dysonprotocol.storage.v1.EventStorageUpdated\",\n",
      "  \"attributes\": [\n",
      "    {\n",
      "      \"key\": \"address\",\n",
      "      \"value\": \"\\\"dys18lm54xtj4ar7jmw85zpkvj9gaze3509xvlmls0\\\"\",\n",
      "      \"index\": true\n",
      "    },\n",
      "    {\n",
      "      \"key\": \"index\",\n",
      "      \"value\": \"\\\"profile/info\\\"\",\n",
      "      \"index\": true\n",
      "    },\n",
      "    {\n",
      "      \"key\": \"msg_index\",\n",
      "      \"value\": \"0\",\n",
      "      \"index\": true\n",
      "    }\n",
      "  ]\n",
      "}\n"
     ]
    }
   ],
   "source": [
    "# Store a user profile as JSON\n",
    "import json\n",
    "import shlex\n",
    "\n",
    "PROFILE_DATA = shlex.quote(json.dumps({\"name\": \"Bob\", \"bio\": \"Blockchain enthusiast\", \"skills\": [\"Smart Contracts\", \"DeFi\", \"Web3\"]}))\n",
    "\n",
    "out = ! dysond tx storage set \\\n",
    "    --index \"profile/info\" \\\n",
    "    --data $PROFILE_DATA \\\n",
    "    --from $ADDRESS \\\n",
    "    -y -o json | dysond q wait-tx -o json\n",
    "\n",
    "out = ''.join(out)\n",
    "tx_result = json.loads(out)\n",
    "\n",
    "for event in tx_result['events']:\n",
    "    if \"dysonprotocol\" in event['type']:\n",
    "        print(json.dumps(event, indent=2))\n",
    "        break\n",
    "\n",
    "\n"
   ]
  },
  {
   "cell_type": "markdown",
   "metadata": {},
   "source": [
    "Let's store some additional entries to demonstrate the prefix-based querying feature:"
   ]
  },
  {
   "cell_type": "code",
   "execution_count": null,
   "metadata": {
    "execution": {
     "iopub.execute_input": "2025-06-06T10:46:22.626862Z",
     "iopub.status.busy": "2025-06-06T10:46:22.626751Z",
     "iopub.status.idle": "2025-06-06T10:46:22.891238Z",
     "shell.execute_reply": "2025-06-06T10:46:22.890883Z"
    }
   },
   "outputs": [
    {
     "name": "stdout",
     "output_type": "stream",
     "text": [
      "{\n",
      "  \"type\": \"dysonprotocol.storage.v1.EventStorageUpdated\",\n",
      "  \"attributes\": [\n",
      "    {\n",
      "      \"key\": \"address\",\n",
      "      \"value\": \"\\\"dys18lm54xtj4ar7jmw85zpkvj9gaze3509xvlmls0\\\"\",\n",
      "      \"index\": true\n",
      "    },\n",
      "    {\n",
      "      \"key\": \"index\",\n",
      "      \"value\": \"\\\"settings/app\\\"\",\n",
      "      \"index\": true\n",
      "    },\n",
      "    {\n",
      "      \"key\": \"msg_index\",\n",
      "      \"value\": \"0\",\n",
      "      \"index\": true\n",
      "    }\n",
      "  ]\n",
      "}\n"
     ]
    }
   ],
   "source": [
    "# Store some settings\n",
    "SETTINGS_DATA = shlex.quote(json.dumps({\"theme\": \"dark\", \"notifications\": True}))\n",
    "\n",
    "out = ! dysond tx storage set \\\n",
    "    --index \"settings/app\" \\\n",
    "    --data $SETTINGS_DATA \\\n",
    "    --from $ADDRESS \\\n",
    "    -y | dysond q wait-tx -o json \n",
    "out = ''.join(out)\n",
    "tx_result = json.loads(out)\n",
    "\n",
    "for event in tx_result['events']:\n",
    "    if \"dysonprotocol\" in event['type']:\n",
    "        print(json.dumps(event, indent=2))\n",
    "        break"
   ]
  },
  {
   "cell_type": "code",
   "execution_count": 24,
   "metadata": {
    "execution": {
     "iopub.execute_input": "2025-06-06T10:46:22.892612Z",
     "iopub.status.busy": "2025-06-06T10:46:22.892484Z",
     "iopub.status.idle": "2025-06-06T10:46:23.151754Z",
     "shell.execute_reply": "2025-06-06T10:46:23.151443Z"
    }
   },
   "outputs": [
    {
     "name": "stdout",
     "output_type": "stream",
     "text": [
      "{\n",
      "  \"type\": \"dysonprotocol.storage.v1.EventStorageUpdated\",\n",
      "  \"attributes\": [\n",
      "    {\n",
      "      \"key\": \"address\",\n",
      "      \"value\": \"\\\"dys18lm54xtj4ar7jmw85zpkvj9gaze3509xvlmls0\\\"\",\n",
      "      \"index\": true\n",
      "    },\n",
      "    {\n",
      "      \"key\": \"index\",\n",
      "      \"value\": \"\\\"content/posts/1\\\"\",\n",
      "      \"index\": true\n",
      "    },\n",
      "    {\n",
      "      \"key\": \"msg_index\",\n",
      "      \"value\": \"0\",\n",
      "      \"index\": true\n",
      "    }\n",
      "  ]\n",
      "}\n"
     ]
    }
   ],
   "source": [
    "# Store a blog post\n",
    "POST_DATA = shlex.quote(json.dumps({\n",
    "    \"title\": \"Introduction to Blockchain\",\n",
    "    \"content\": \"Blockchain is a distributed ledger technology...\",\n",
    "    \"tags\": [\"blockchain\", \"crypto\", \"beginner\"],\n",
    "    \"published_at\": \"2023-10-25T15:30:00Z\"\n",
    "}))\n",
    "\n",
    "out = ! dysond tx storage set \\\n",
    "    --index \"content/posts/1\" \\\n",
    "    --data $POST_DATA \\\n",
    "    --from $ADDRESS \\\n",
    "    -y | dysond q wait-tx -o json\n",
    "out = ''.join(out)\n",
    "tx_result = json.loads(out)\n",
    "\n",
    "for event in tx_result['events']:\n",
    "    if \"dysonprotocol\" in event['type']:\n",
    "        print(json.dumps(event, indent=2))\n",
    "        break\n",
    "\n"
   ]
  },
  {
   "cell_type": "markdown",
   "metadata": {},
   "source": [
    "### Reading Storage Entries\n",
    "\n",
    "Let's retrieve the storage entries we've created:"
   ]
  },
  {
   "cell_type": "code",
   "execution_count": 26,
   "metadata": {
    "execution": {
     "iopub.execute_input": "2025-06-06T10:46:23.153165Z",
     "iopub.status.busy": "2025-06-06T10:46:23.153053Z",
     "iopub.status.idle": "2025-06-06T10:46:23.233192Z",
     "shell.execute_reply": "2025-06-06T10:46:23.232890Z"
    }
   },
   "outputs": [
    {
     "name": "stdout",
     "output_type": "stream",
     "text": [
      "['{\"entry\":{\"owner\":\"dys18lm54xtj4ar7jmw85zpkvj9gaze3509xvlmls0\",\"index\":\"profile/info\",\"data\":\"{\\\\\"name\\\\\": \\\\\"Bob\\\\\", \\\\\"bio\\\\\": \\\\\"Blockchain enthusiast\\\\\", \\\\\"skills\\\\\": [\\\\\"Smart Contracts\\\\\", \\\\\"DeFi\\\\\", \\\\\"Web3\\\\\"]}\"}}']\n",
      "{'name': 'Bob', 'bio': 'Blockchain enthusiast', 'skills': ['Smart Contracts', 'DeFi', 'Web3']}\n"
     ]
    }
   ],
   "source": [
    "# Query a specific entry\n",
    "out = ! dysond query storage get $ADDRESS --index \"profile/info\" -o json \n",
    "print(out)\n",
    "out = ''.join(out)\n",
    "query_result = json.loads(out)\n",
    "\n",
    "profile_data = json.loads(query_result['entry']['data'])\n",
    "print(profile_data)\n",
    "\n",
    "assert profile_data['name'] == \"Bob\", \"Expected 'Bob' in output, got: \" + profile_data['name']\n",
    "assert profile_data['bio'] == \"Blockchain enthusiast\", \"Expected 'Blockchain enthusiast' in output, got: \" + profile_data['bio']\n",
    "assert profile_data['skills'] == [\"Smart Contracts\", \"DeFi\", \"Web3\"], \"Expected ['Smart Contracts', 'DeFi', 'Web3'] in output, got: \" + str(profile_data['skills'])"
   ]
  },
  {
   "cell_type": "markdown",
   "metadata": {},
   "source": [
    "### Prefix-Based Queries\n",
    "\n",
    "The Storage module allows you to query entries with a common prefix, which is useful for organizing related data:"
   ]
  },
  {
   "cell_type": "code",
   "execution_count": 10,
   "metadata": {
    "execution": {
     "iopub.execute_input": "2025-06-06T10:46:23.234681Z",
     "iopub.status.busy": "2025-06-06T10:46:23.234580Z",
     "iopub.status.idle": "2025-06-06T10:46:23.417187Z",
     "shell.execute_reply": "2025-06-06T10:46:23.416758Z"
    }
   },
   "outputs": [
    {
     "name": "stdout",
     "output_type": "stream",
     "text": [
      "{\"entries\":[{\"owner\":\"dys18lm54xtj4ar7jmw85zpkvj9gaze3509xvlmls0\",\"index\":\"profile/info\",\"data\":\"{\\\"name\\\": \\\"Bob\\\", \\\"bio\\\": \\\"Blockchain enthusiast\\\", \\\"skills\\\": [\\\"Smart Contracts\\\", \\\"DeFi\\\", \\\"Web3\\\"]}\"}],\"pagination\":{\"next_key\":null,\"total\":\"0\"}}\n"
     ]
    }
   ],
   "source": [
    "# List all entries with the \"profile/\" prefix\n",
    "! dysond query storage list $ADDRESS --index-prefix \"profile/\" -o json "
   ]
  },
  {
   "cell_type": "code",
   "execution_count": 11,
   "metadata": {
    "execution": {
     "iopub.execute_input": "2025-06-06T10:46:23.418723Z",
     "iopub.status.busy": "2025-06-06T10:46:23.418618Z",
     "iopub.status.idle": "2025-06-06T10:46:23.599019Z",
     "shell.execute_reply": "2025-06-06T10:46:23.598708Z"
    }
   },
   "outputs": [
    {
     "name": "stdout",
     "output_type": "stream",
     "text": [
      "{\"entries\":[{\"owner\":\"dys18lm54xtj4ar7jmw85zpkvj9gaze3509xvlmls0\",\"index\":\"content/posts/1\",\"data\":\"{\\\"title\\\": \\\"Introduction to Blockchain\\\", \\\"content\\\": \\\"Blockchain is a distributed ledger technology...\\\", \\\"tags\\\": [\\\"blockchain\\\", \\\"crypto\\\", \\\"beginner\\\"], \\\"published_at\\\": \\\"2023-10-25T15:30:00Z\\\"}\"}],\"pagination\":{\"next_key\":null,\"total\":\"0\"}}\n"
     ]
    }
   ],
   "source": [
    "# List all entries with the \"content/\" prefix\n",
    "! dysond query storage list $ADDRESS --index-prefix \"content/\" -o json"
   ]
  },
  {
   "cell_type": "code",
   "execution_count": 27,
   "metadata": {
    "execution": {
     "iopub.execute_input": "2025-06-06T10:46:23.600533Z",
     "iopub.status.busy": "2025-06-06T10:46:23.600427Z",
     "iopub.status.idle": "2025-06-06T10:46:23.775837Z",
     "shell.execute_reply": "2025-06-06T10:46:23.775510Z"
    }
   },
   "outputs": [
    {
     "name": "stdout",
     "output_type": "stream",
     "text": [
      "{\"entries\":[{\"owner\":\"dys18lm54xtj4ar7jmw85zpkvj9gaze3509xvlmls0\",\"index\":\"content/posts/1\",\"data\":\"{\\\"title\\\": \\\"Introduction to Blockchain\\\", \\\"content\\\": \\\"Blockchain is a distributed ledger technology...\\\", \\\"tags\\\": [\\\"blockchain\\\", \\\"crypto\\\", \\\"beginner\\\"], \\\"published_at\\\": \\\"2023-10-25T15:30:00Z\\\"}\"},{\"owner\":\"dys18lm54xtj4ar7jmw85zpkvj9gaze3509xvlmls0\",\"index\":\"profile/info\",\"data\":\"{\\\"name\\\": \\\"Bob\\\", \\\"bio\\\": \\\"Blockchain enthusiast\\\", \\\"skills\\\": [\\\"Smart Contracts\\\", \\\"DeFi\\\", \\\"Web3\\\"]}\"},{\"owner\":\"dys18lm54xtj4ar7jmw85zpkvj9gaze3509xvlmls0\",\"index\":\"settings/app\",\"data\":\"{\\\"theme\\\": \\\"dark\\\", \\\"notifications\\\": true}\"}],\"pagination\":{\"next_key\":null,\"total\":\"3\"}}\n"
     ]
    }
   ],
   "source": [
    "# List all entries (empty prefix matches everything)\n",
    "! dysond query storage list $ADDRESS --index-prefix \"\" -o json --limit 3 --count-total"
   ]
  },
  {
   "cell_type": "markdown",
   "metadata": {},
   "source": [
    "### Deleting Storage Entries\n",
    "\n",
    "Now let's delete some of our storage entries:"
   ]
  },
  {
   "cell_type": "code",
   "execution_count": 13,
   "metadata": {
    "execution": {
     "iopub.execute_input": "2025-06-06T10:46:23.777418Z",
     "iopub.status.busy": "2025-06-06T10:46:23.777307Z",
     "iopub.status.idle": "2025-06-06T10:46:23.943729Z",
     "shell.execute_reply": "2025-06-06T10:46:23.943411Z"
    }
   },
   "outputs": [
    {
     "name": "stdout",
     "output_type": "stream",
     "text": [
      "{\n",
      "  \"type\": \"dysonprotocol.storage.v1.EventStorageDelete\",\n",
      "  \"attributes\": [\n",
      "    {\n",
      "      \"key\": \"deleted_indexes\",\n",
      "      \"value\": \"[\\\"settings/app\\\"]\",\n",
      "      \"index\": true\n",
      "    },\n",
      "    {\n",
      "      \"key\": \"owner\",\n",
      "      \"value\": \"\\\"dys18lm54xtj4ar7jmw85zpkvj9gaze3509xvlmls0\\\"\",\n",
      "      \"index\": true\n",
      "    },\n",
      "    {\n",
      "      \"key\": \"msg_index\",\n",
      "      \"value\": \"0\",\n",
      "      \"index\": true\n",
      "    }\n",
      "  ]\n",
      "}\n"
     ]
    }
   ],
   "source": [
    "# Delete a single entry\n",
    "out = ! dysond tx storage delete \\\n",
    "  --indexes \"settings/app\" \\\n",
    "  --from $ADDRESS \\\n",
    "  -y |  dysond q wait-tx -o json \n",
    "out = ''.join(out)\n",
    "tx_result = json.loads(out)\n",
    "\n",
    "for event in tx_result['events']:\n",
    "    if \"dysonprotocol\" in event['type']:\n",
    "        print(json.dumps(event, indent=2))\n",
    "        break"
   ]
  },
  {
   "cell_type": "markdown",
   "metadata": {},
   "source": [
    "The Storage module also supports deleting multiple entries at once:"
   ]
  },
  {
   "cell_type": "code",
   "execution_count": 14,
   "metadata": {
    "execution": {
     "iopub.execute_input": "2025-06-06T10:46:23.945125Z",
     "iopub.status.busy": "2025-06-06T10:46:23.945025Z",
     "iopub.status.idle": "2025-06-06T10:46:24.200646Z",
     "shell.execute_reply": "2025-06-06T10:46:24.200254Z"
    }
   },
   "outputs": [
    {
     "name": "stdout",
     "output_type": "stream",
     "text": [
      "{\n",
      "  \"type\": \"dysonprotocol.storage.v1.EventStorageDelete\",\n",
      "  \"attributes\": [\n",
      "    {\n",
      "      \"key\": \"deleted_indexes\",\n",
      "      \"value\": \"[\\\"profile/info\\\",\\\"content/posts/1\\\"]\",\n",
      "      \"index\": true\n",
      "    },\n",
      "    {\n",
      "      \"key\": \"owner\",\n",
      "      \"value\": \"\\\"dys18lm54xtj4ar7jmw85zpkvj9gaze3509xvlmls0\\\"\",\n",
      "      \"index\": true\n",
      "    },\n",
      "    {\n",
      "      \"key\": \"msg_index\",\n",
      "      \"value\": \"0\",\n",
      "      \"index\": true\n",
      "    }\n",
      "  ]\n",
      "}\n"
     ]
    }
   ],
   "source": [
    "# Delete multiple entries at once\n",
    "out = ! dysond tx storage delete \\\n",
    "  --indexes \"profile/info,content/posts/1\" \\\n",
    "  --from $ADDRESS \\\n",
    "  -y |  dysond q wait-tx -o json \n",
    "out = ''.join(out)\n",
    "tx_result = json.loads(out)\n",
    "\n",
    "for event in tx_result['events']:\n",
    "    if \"dysonprotocol\" in event['type']:\n",
    "        print(json.dumps(event, indent=2))\n",
    "        break\n"
   ]
  },
  {
   "cell_type": "markdown",
   "metadata": {},
   "source": [
    "Let's verify that the entries were deleted:"
   ]
  },
  {
   "cell_type": "code",
   "execution_count": 15,
   "metadata": {
    "execution": {
     "iopub.execute_input": "2025-06-06T10:46:24.202197Z",
     "iopub.status.busy": "2025-06-06T10:46:24.202081Z",
     "iopub.status.idle": "2025-06-06T10:46:24.381315Z",
     "shell.execute_reply": "2025-06-06T10:46:24.381003Z"
    }
   },
   "outputs": [
    {
     "name": "stdout",
     "output_type": "stream",
     "text": [
      "{\"entries\":[],\"pagination\":{\"next_key\":null,\"total\":\"0\"}}\n"
     ]
    }
   ],
   "source": [
    "# List all entries (should be empty now)\n",
    "! dysond query storage list $ADDRESS --index-prefix \"\" -o json --limit 3 --count-total"
   ]
  },
  {
   "cell_type": "markdown",
   "metadata": {},
   "source": [
    "## Binary Data Storage Example\n",
    "\n",
    "While the Storage module primarily works with text data, you can store binary data by encoding it as base64 or hex. Here's a practical example using base64 encoding:"
   ]
  },
  {
   "cell_type": "code",
   "execution_count": 16,
   "metadata": {
    "execution": {
     "iopub.execute_input": "2025-06-06T10:46:24.383210Z",
     "iopub.status.busy": "2025-06-06T10:46:24.383055Z",
     "iopub.status.idle": "2025-06-06T10:46:24.617452Z",
     "shell.execute_reply": "2025-06-06T10:46:24.617125Z"
    }
   },
   "outputs": [
    {
     "name": "stdout",
     "output_type": "stream",
     "text": [
      "{\n",
      "  \"type\": \"dysonprotocol.storage.v1.EventStorageUpdated\",\n",
      "  \"attributes\": [\n",
      "    {\n",
      "      \"key\": \"address\",\n",
      "      \"value\": \"\\\"dys18lm54xtj4ar7jmw85zpkvj9gaze3509xvlmls0\\\"\",\n",
      "      \"index\": true\n",
      "    },\n",
      "    {\n",
      "      \"key\": \"index\",\n",
      "      \"value\": \"\\\"files/logo.png\\\"\",\n",
      "      \"index\": true\n",
      "    },\n",
      "    {\n",
      "      \"key\": \"msg_index\",\n",
      "      \"value\": \"0\",\n",
      "      \"index\": true\n",
      "    }\n",
      "  ]\n",
      "}\n"
     ]
    }
   ],
   "source": [
    "import base64\n",
    "\n",
    "# Create some binary data (a simple PNG image in this case)\n",
    "binary_data = b'\\x89PNG\\r\\n\\x1a\\n\\x00\\x00\\x00\\rIHDR\\x00\\x00\\x00\\x10\\x00\\x00\\x00\\x10\\x08\\x06\\x00\\x00\\x00\\x1f\\xf3\\xffa'\n",
    "\n",
    "# Encode as base64\n",
    "base64_data = base64.b64encode(binary_data).decode('utf-8')\n",
    "base64_json = shlex.quote(json.dumps({\"data\": base64_data, \"mime_type\": \"image/png\"}))\n",
    "\n",
    "# Store the base64 encoded data\n",
    "out = ! dysond tx storage set \\\n",
    "    --index \"files/logo.png\" \\\n",
    "    --data {base64_json} \\\n",
    "    --from $ADDRESS \\\n",
    "    -y  | dysond q wait-tx -o json \n",
    "out = ''.join(out)\n",
    "tx_result = json.loads(out)\n",
    "\n",
    "assert tx_result['code'] == 0, f\"Error setting storage entry: {tx_result['raw_log']}\"\n",
    "\n",
    "for event in tx_result['events']:\n",
    "    if \"dysonprotocol\" in event['type']:\n",
    "        print(json.dumps(event, indent=2))\n",
    "        break\n"
   ]
  },
  {
   "cell_type": "code",
   "execution_count": 17,
   "metadata": {
    "execution": {
     "iopub.execute_input": "2025-06-06T10:46:24.618867Z",
     "iopub.status.busy": "2025-06-06T10:46:24.618777Z",
     "iopub.status.idle": "2025-06-06T10:46:24.758835Z",
     "shell.execute_reply": "2025-06-06T10:46:24.758491Z"
    }
   },
   "outputs": [
    {
     "name": "stdout",
     "output_type": "stream",
     "text": [
      "Retrieved binary data of 33 bytes with MIME type: image/png\n",
      "First 20 bytes: b'\\x89PNG\\r\\n\\x1a\\n\\x00\\x00\\x00\\rIHDR\\x00\\x00\\x00\\x10'\n"
     ]
    }
   ],
   "source": [
    "# Retrieve and decode the binary data\n",
    "binary_entry = ! dysond query storage get $ADDRESS --index \"files/logo.png\" -o json\n",
    "binary_entry_json = json.loads(''.join(binary_entry))\n",
    "stored_data = json.loads(binary_entry_json['entry']['data'])\n",
    "decoded_data = base64.b64decode(stored_data['data'])\n",
    "\n",
    "print(f\"Retrieved binary data of {len(decoded_data)} bytes with MIME type: {stored_data['mime_type']}\")\n",
    "print(f\"First 20 bytes: {decoded_data[:20]}\")"
   ]
  },
  {
   "cell_type": "markdown",
   "metadata": {},
   "source": [
    "## Cleanup\n",
    "\n",
    "Let's clean up by deleting all the entries we've created:"
   ]
  },
  {
   "cell_type": "code",
   "execution_count": 18,
   "metadata": {
    "execution": {
     "iopub.execute_input": "2025-06-06T10:46:24.760263Z",
     "iopub.status.busy": "2025-06-06T10:46:24.760161Z",
     "iopub.status.idle": "2025-06-06T10:46:24.836345Z",
     "shell.execute_reply": "2025-06-06T10:46:24.836031Z"
    }
   },
   "outputs": [
    {
     "name": "stdout",
     "output_type": "stream",
     "text": [
      "Found 1 entries to delete:\n",
      "- files/logo.png\n"
     ]
    }
   ],
   "source": [
    "# Get all entries to prepare for cleanup\n",
    "entries = ! dysond query storage list $ADDRESS --index-prefix \"\" -o json\n",
    "entries_json = json.loads(''.join(entries))\n",
    "\n",
    "# Extract all indexes\n",
    "indexes = [entry['index'] for entry in entries_json.get('entries', [])]\n",
    "\n",
    "# Print what we're about to delete\n",
    "print(f\"Found {len(indexes)} entries to delete:\")\n",
    "for index in indexes:\n",
    "    print(f\"- {index}\")"
   ]
  },
  {
   "cell_type": "code",
   "execution_count": 19,
   "metadata": {
    "execution": {
     "iopub.execute_input": "2025-06-06T10:46:24.837657Z",
     "iopub.status.busy": "2025-06-06T10:46:24.837551Z",
     "iopub.status.idle": "2025-06-06T10:46:25.007184Z",
     "shell.execute_reply": "2025-06-06T10:46:25.006827Z"
    }
   },
   "outputs": [
    {
     "name": "stdout",
     "output_type": "stream",
     "text": [
      "Deleting [1] files: files/logo.png: success\n"
     ]
    }
   ],
   "source": [
    "# Delete all entries in batches of 5 to avoid command line length limits\n",
    "\n",
    "for i in range(0, len(indexes), 5):\n",
    "    index_list = indexes[i:i+5]\n",
    "    print(f\"Deleting [{len(index_list)}] files: {','.join(index_list)}: \", end=\"\")\n",
    "\n",
    "    out = ! dysond tx storage delete --indexes \"{','.join(index_list)}\" --from bob -y | dysond q wait-tx -o json \n",
    "    out = ''.join(out)\n",
    "    tx_result = json.loads(out)\n",
    "\n",
    "    assert tx_result['code'] == 0, f\"Error deleting storage entries: {tx_result['raw_log']}\"\n",
    "    print(f\"success\")\n",
    "   \n"
   ]
  },
  {
   "cell_type": "code",
   "execution_count": 20,
   "metadata": {
    "execution": {
     "iopub.execute_input": "2025-06-06T10:46:25.008597Z",
     "iopub.status.busy": "2025-06-06T10:46:25.008492Z",
     "iopub.status.idle": "2025-06-06T10:46:25.083215Z",
     "shell.execute_reply": "2025-06-06T10:46:25.082814Z"
    }
   },
   "outputs": [
    {
     "name": "stdout",
     "output_type": "stream",
     "text": [
      "Cleanup complete. 0 entries remaining.\n"
     ]
    }
   ],
   "source": [
    "# Verify all entries were deleted\n",
    "final_check = ! dysond query storage list $ADDRESS --index-prefix \"\" -o json\n",
    "final_json = json.loads(''.join(final_check))\n",
    "remaining = final_json.get('entries', [])\n",
    "\n",
    "assert len(remaining) == 0, \"Expected 0 entries remaining, got: \" + str(remaining)\n",
    "print(f\"Cleanup complete. {len(remaining)} entries remaining.\")"
   ]
  },
  {
   "cell_type": "markdown",
   "metadata": {},
   "source": [
    "## Summary\n",
    "\n",
    "The Dyson Protocol Storage module provides a powerful and flexible way to store persistent data on-chain. Key takeaways:\n",
    "\n",
    "1. **Simple API**: Easy-to-use commands for setting, getting, and deleting key-value pairs\n",
    "2. **Structured Data**: Support for JSON and hierarchical data organization with prefix-based queries\n",
    "3. **Efficient Retrieval**: Pagination support for handling large datasets\n",
    "4. **Versatility**: Can store text, JSON, and even binary data (with encoding)\n",
    "5. **Access Control**: Owner-based write permissions with public read access\n",
    "\n",
    "These features make the Storage module ideal for a wide range of applications, from simple key-value stores to complex data structures for dApps."
   ]
  }
 ],
 "metadata": {
  "kernelspec": {
   "display_name": ".venv",
   "language": "python",
   "name": "python3"
  },
  "language_info": {
   "codemirror_mode": {
    "name": "ipython",
    "version": 3
   },
   "file_extension": ".py",
   "mimetype": "text/x-python",
   "name": "python",
   "nbconvert_exporter": "python",
   "pygments_lexer": "ipython3",
   "version": "3.11.9"
  }
 },
 "nbformat": 4,
 "nbformat_minor": 4
}
