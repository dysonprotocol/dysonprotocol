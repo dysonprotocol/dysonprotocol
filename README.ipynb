{
 "cells": [
  {
   "cell_type": "markdown",
   "metadata": {},
   "source": [
    "# Dyson Protocol – Everything On-chain\n",
    "\n",
    "**Host Python scripts, serve decentralized websites, and run scheduled tasks with trustless, censorship-resistant execution. Trade names in a dynamic on-chain market, mint custom tokens and NFTs, and store arbitrary data—all fully on-chain.**\n",
    "\n",
    "---\n",
    "\n",
    "## What & Why\n",
    "\n",
    "- **Problem**  \n",
    "  - DApp UIs still load from centralized servers—developers host them off-chain, and end-users can’t self-host or audit the code.\n",
    "\n",
    "- **Solution**  \n",
    "  - Store HTML/CSS/JS assets in the chain’s storage so browsers load UI from the ledger.  \n",
    "  - Push application logic on-chain and execute periodic jobs (crontasks) without any off-chain trigger.  \n",
    "  - Run a dynamic on-chain name market using Harberger-style fees.  \n",
    "  - Mint custom tokens and NFT classes based on on-chain names.  \n",
    "  - Store arbitrary data in the chain’s storage module.\n",
    "\n",
    "- **Key Use Cases**  \n",
    "  - **Autonomous payouts**: schedule hourly dividend distributions without users having to claim.  \n",
    "  - **Timed auctions**: start and end bids exactly on-chain, with no external cron.  \n",
    "  - **Game rounds**: progress players automatically through time-boxed stages.  \n",
    "  - **Price oracles**: post market data at fixed intervals, fully on-chain.  \n",
    "  - **Nameservice-driven assets**: register and trade domain-backed NFTs in a live marketplace.\n",
    "\n",
    "- **Outcome**  \n",
    "  - DWapp developers host, verify, and update every layer—from UI to scheduling—directly on the chain. No servers, no hidden dependencies, fully trustless.\n"
   ]
  },
  {
   "cell_type": "markdown",
   "metadata": {},
   "source": [
    "## Installation\n",
    "\n",
    "### 1. Build the Dyson Protocol binary\n",
    "\n"
   ]
  },
  {
   "cell_type": "code",
   "execution_count": 1,
   "metadata": {},
   "outputs": [
    {
     "name": "stdout",
     "output_type": "stream",
     "text": [
      "Installing dysond binary...\n"
     ]
    }
   ],
   "source": [
    "%%bash\n",
    "make install"
   ]
  },
  {
   "cell_type": "markdown",
   "metadata": {},
   "source": [
    "### 2. Create new accounts"
   ]
  },
  {
   "cell_type": "raw",
   "metadata": {
    "vscode": {
     "languageId": "raw"
    }
   },
   "source": [
    "dysond keys add alice \n",
    "dysond keys add bob"
   ]
  },
  {
   "cell_type": "markdown",
   "metadata": {},
   "source": [
    "### 2. Update the On-chain Python Script\n",
    "\n",
    "This example uploads a Python script that demonstrates storage operations. The full script is available at [examples/storage_example.py](examples/storage_example.py).\n",
    "\n",
    "**Key Functions in the Script** (excerpt):"
   ]
  },
  {
   "cell_type": "markdown",
   "metadata": {},
   "source": [
    "```python\n",
    "def save_message(message):\n",
    "    # the account that signed the transaction\n",
    "    caller = get_executor_address()\n",
    "    _msg({\"@type\":\"/dysonprotocol.storage.v1.MsgStorageSet\",\"owner\": get_script_address() ,\"index\":f\"greetings/{caller}\",\"data\": json.dumps({\"greeting\": message})})\n",
    "\n",
    "def wsgi(environ, start_response):\n",
    "    # Define response status and headers\n",
    "    status_code = \"200 OK\"\n",
    "    headers = [(\"Content-Type\", \"text/html\")]\n",
    "    start_response(status_code, headers)\n",
    "\n",
    "    # Prepare the query parameters\n",
    "    query_params = {\n",
    "        \"@type\":\"/dysonprotocol.storage.v1.QueryStorageListRequest\",\n",
    "        \"owner\": get_script_address(),\n",
    "        \"index_prefix\":\"greetings/\"\n",
    "    }\n",
    "    \n",
    "# ... more code in the full example ...\n",
    "```"
   ]
  },
  {
   "cell_type": "markdown",
   "metadata": {},
   "source": [
    "Let's see the full script:"
   ]
  },
  {
   "cell_type": "code",
   "execution_count": 2,
   "metadata": {
    "tags": [
     "python"
    ]
   },
   "outputs": [
    {
     "name": "stdout",
     "output_type": "stream",
     "text": [
      "import json\n",
      "from html import escape\n",
      "from dys import get_script_address, get_executor_address, _msg, _query\n",
      "\n",
      "def save_message(message):\n",
      "    # the account that signed the transaction\n",
      "    caller = get_executor_address()\n",
      "    return _msg({\"@type\":\"/dysonprotocol.storage.v1.MsgStorageSet\",\"owner\": get_script_address() ,\"index\":f\"greetings/{caller}\",\"data\": json.dumps({\"greeting\": message})})\n",
      "\n",
      "def wsgi(environ, start_response):\n",
      "    # Define response status and headers\n",
      "    status_code = \"200 OK\"\n",
      "    headers = [(\"Content-Type\", \"text/html\")]\n",
      "    start_response(status_code, headers)\n",
      "\n",
      "    # Prepare the query parameters\n",
      "    query_params = {\"@type\":\"/dysonprotocol.storage.v1.QueryStorageListRequest\",\"owner\": get_script_address() ,\"index_prefix\":\"greetings/\"}\n",
      "    \n",
      "    # Get messages from storage\n",
      "    storage_result = _query(query_params)\n",
      "    \n",
      "    # Start building HTML output\n",
      "    output = \"<html><body>\\n\"\n",
      "    output += \"<h2>Storage Messages</h2>\\n\"\n",
      "    \n",
      "    # Process each entry from storage\n",
      "    for entry in storage_result[\"entries\"]:\n",
      "        # Parse the JSON data\n",
      "        data = json.loads(entry[\"data\"])\n",
      "        # Extract the address from the index (format: greetings/{address})\n",
      "        sender_address = entry[\"index\"].split(\"/\")[1]\n",
      "        output += f\"<p>Message from {escape(sender_address)}: {escape(data['greeting'])}</p>\\n\"\n",
      "    else:\n",
      "        output += \"<p>No messages found</p>\\n\"\n",
      "    \n",
      "    # Add the full storage query result for debugging\n",
      "    output += \"<h3>Storage Query Result</h3>\\n\"\n",
      "    output += \"<pre>\" + escape(json.dumps(storage_result, indent=2)) + \"</pre>\\n\"   \n",
      "    output += \"<h3>Environment</h3>\\n\"\n",
      "    output += \"<pre>\" + escape(json.dumps(environ, indent=2, sort_keys=True, default=str)) + \"</pre>\\n\"\n",
      "    output += \"</body></html>\"\n",
      "    \n",
      "    return [output.encode()]\n"
     ]
    }
   ],
   "source": [
    "%%bash\n",
    "cat examples/storage_example.py"
   ]
  },
  {
   "cell_type": "markdown",
   "metadata": {},
   "source": [
    "Now let's upload the script to the chain using Alice's address:"
   ]
  },
  {
   "cell_type": "code",
   "execution_count": 3,
   "metadata": {},
   "outputs": [
    {
     "name": "stdout",
     "output_type": "stream",
     "text": [
      "{\n",
      "  \"height\": \"6\",\n",
      "  \"txhash\": \"EC09558601BE2580B407ED27BA24BEEBA9D9B2BBBC7CFB7439AD54B6F4823BA8\",\n",
      "  \"code\": 0,\n",
      "  \"gas_wanted\": \"500000\",\n",
      "  \"gas_used\": \"107496\",\n",
      "  \"script_version\": \"\\\"1\\\"\"\n",
      "}\n"
     ]
    }
   ],
   "source": [
    "%%bash\n",
    "ALICE_ADDRESS=$(dysond keys show -a alice)\n",
    "dysond tx script update --from $ALICE_ADDRESS -y -o json --gas 500000 --code \"$(cat examples/storage_example.py)\" |  dysond q wait-tx -o json | jq '{height, txhash, code, gas_wanted, gas_used, \"script_version\": .events[] | select(.type==\"dysonprotocol.script.v1.EventUpdateScript\") | .attributes[] | select(.key==\"version\") | .value}'"
   ]
  },
  {
   "cell_type": "markdown",
   "metadata": {},
   "source": [
    "### 3. Execute the Script Function\n",
    "\n",
    "Invoke the `save_message` function using Bob's account, passing `\"my name is bob\"` as an argument:"
   ]
  },
  {
   "cell_type": "code",
   "execution_count": 4,
   "metadata": {
    "tags": [
     "json"
    ]
   },
   "outputs": [
    {
     "name": "stdout",
     "output_type": "stream",
     "text": [
      "{\n",
      "  \"code\": 0,\n",
      "  \"script_result\": {\n",
      "    \"result\": {\n",
      "      \"cumsize\": 10484,\n",
      "      \"exception\": null,\n",
      "      \"gas_limit\": 200000,\n",
      "      \"nodes_called\": 30,\n",
      "      \"result\": {\n",
      "        \"@type\": \"/dysonprotocol.storage.v1.MsgStorageSetResponse\"\n",
      "      },\n",
      "      \"script_gas_consumed\": 62160,\n",
      "      \"stdout\": \"\"\n",
      "    },\n",
      "    \"attached_message_results\": []\n",
      "  },\n",
      "  \"raw_log\": \"\"\n",
      "}\n"
     ]
    }
   ],
   "source": [
    "%%bash\n",
    "ALICE_ADDRESS=$(dysond keys show -a alice)\n",
    "# Save the message to the storage\n",
    "dysond tx script exec-script --from bob --script-address $ALICE_ADDRESS --function-name save_message --args '[\"my name is <b>bob</b>\"]' -y  | dysond query wait-tx -o json | ./scripts/parse_exec_script_tx.py | jq "
   ]
  },
  {
   "cell_type": "markdown",
   "metadata": {},
   "source": [
    "### 4. Query the WSGI Endpoint\n",
    "\n",
    "Finally, confirm the data is stored and accessible via an HTTP request to the script's WSGI endpoint:"
   ]
  },
  {
   "cell_type": "code",
   "execution_count": 5,
   "metadata": {},
   "outputs": [
    {
     "name": "stderr",
     "output_type": "stream",
     "text": [
      "* Host dys1prvefcdgdnh2cpas6rnnval84n0gv2r28tklr4.localhost:8000 was resolved.\n",
      "* IPv6: ::1\n",
      "* IPv4: 127.0.0.1\n",
      "  % Total    % Received % Xferd  Average Speed   Time    Time     Time  Current\n",
      "                                 Dload  Upload   Total   Spent    Left  Speed\n",
      "  0     0    0     0    0     0      0      0 --:--:-- --:--:-- --:--:--     0*   Trying [::1]:8000...\n",
      "* connect to ::1 port 8000 from ::1 port 57385 failed: Connection refused\n",
      "*   Trying 127.0.0.1:8000...\n",
      "* Connected to dys1prvefcdgdnh2cpas6rnnval84n0gv2r28tklr4.localhost (127.0.0.1) port 8000\n",
      "> GET /some-path?query=some-query HTTP/1.1\n",
      "> Host: dys1prvefcdgdnh2cpas6rnnval84n0gv2r28tklr4.localhost:8000\n",
      "> User-Agent: curl/8.6.0\n",
      "> Accept: */*\n",
      "> \n",
      "< HTTP/1.1 200 OK\n",
      "< Date: Tue, 13 May 2025 16:31:20 GMT\n",
      "< Content-Length: 2035\n",
      "< Content-Type: text/html; charset=utf-8\n",
      "< \n",
      "{ [2035 bytes data]\n",
      "100  2035  100  2035    0     0  12866      0 --:--:-- --:--:-- --:--:-- 12879\n",
      "* Connection #0 to host dys1prvefcdgdnh2cpas6rnnval84n0gv2r28tklr4.localhost left intact\n"
     ]
    },
    {
     "name": "stdout",
     "output_type": "stream",
     "text": [
      "<html><body>\n",
      "<h2>Storage Messages</h2>\n",
      "<p>Message from dys18lm54xtj4ar7jmw85zpkvj9gaze3509xvlmls0: my name is &lt;b&gt;bob&lt;/b&gt;</p>\n",
      "<p>No messages found</p>\n",
      "<h3>Storage Query Result</h3>\n",
      "<pre>{\n",
      "  &quot;@type&quot;: &quot;/dysonprotocol.storage.v1.QueryStorageListResponse&quot;,\n",
      "  &quot;entries&quot;: [\n",
      "    {\n",
      "      &quot;owner&quot;: &quot;dys1prvefcdgdnh2cpas6rnnval84n0gv2r28tklr4&quot;,\n",
      "      &quot;index&quot;: &quot;greetings/dys18lm54xtj4ar7jmw85zpkvj9gaze3509xvlmls0&quot;,\n",
      "      &quot;data&quot;: &quot;{\\&quot;greeting\\&quot;: \\&quot;my name is &lt;b&gt;bob&lt;/b&gt;\\&quot;}&quot;\n",
      "    }\n",
      "  ],\n",
      "  &quot;pagination&quot;: {\n",
      "    &quot;next_key&quot;: null,\n",
      "    &quot;total&quot;: &quot;1&quot;\n",
      "  }\n",
      "}</pre>\n",
      "<h3>Environment</h3>\n",
      "<pre>{\n",
      "  &quot;CONTENT_LENGTH&quot;: &quot;&quot;,\n",
      "  &quot;CONTENT_TYPE&quot;: &quot;text/plain&quot;,\n",
      "  &quot;GATEWAY_INTERFACE&quot;: &quot;CGI/1.1&quot;,\n",
      "  &quot;HTTP_ACCEPT&quot;: &quot;*/*&quot;,\n",
      "  &quot;HTTP_USER_AGENT&quot;: &quot;curl/8.6.0&quot;,\n",
      "  &quot;PATH_INFO&quot;: &quot;/some-path&quot;,\n",
      "  &quot;QUERY_STRING&quot;: &quot;query=some-query&quot;,\n",
      "  &quot;REMOTE_ADDR&quot;: &quot;0.0.0.0&quot;,\n",
      "  &quot;REMOTE_HOST&quot;: &quot;&quot;,\n",
      "  &quot;REQUEST_METHOD&quot;: &quot;GET&quot;,\n",
      "  &quot;SCRIPT_NAME&quot;: &quot;&quot;,\n",
      "  &quot;SERVER_NAME&quot;: &quot;dysonprotocol&quot;,\n",
      "  &quot;SERVER_PORT&quot;: &quot;&quot;,\n",
      "  &quot;SERVER_PROTOCOL&quot;: &quot;HTTP/1.1&quot;,\n",
      "  &quot;SERVER_SOFTWARE&quot;: &quot;WSGIServer/0.2&quot;,\n",
      "  &quot;wsgi.errors&quot;: &quot;&lt;_io.TextIOWrapper name=&#x27;&lt;stderr&gt;&#x27; mode=&#x27;w&#x27; encoding=&#x27;utf-8&#x27;&gt;&quot;,\n",
      "  &quot;wsgi.file_wrapper&quot;: &quot;&lt;class &#x27;wsgiref.util.FileWrapper&#x27;&gt;&quot;,\n",
      "  &quot;wsgi.input&quot;: &quot;&lt;_io.BytesIO object at 0x1234&gt;&quot;,\n",
      "  &quot;wsgi.multiprocess&quot;: false,\n",
      "  &quot;wsgi.multithread&quot;: false,\n",
      "  &quot;wsgi.run_once&quot;: false,\n",
      "  &quot;wsgi.url_scheme&quot;: &quot;http&quot;,\n",
      "  &quot;wsgi.version&quot;: [\n",
      "    1,\n",
      "    0\n",
      "  ]\n",
      "}</pre>\n",
      "</body></html>"
     ]
    }
   ],
   "source": [
    "%%bash\n",
    "ALICE_ADDRESS=$(dysond keys show -a alice)\n",
    "DWAPP_SERVER_ADDRESS=$(dysond config get app dwapp.address | tr -d '\"')\n",
    "DWAPP_URL=\"http://$ALICE_ADDRESS.$DWAPP_SERVER_ADDRESS/some-path?query=some-query\"\n",
    "curl -v $DWAPP_URL"
   ]
  },
  {
   "cell_type": "markdown",
   "metadata": {},
   "source": [
    "## Notes & Edge Cases\n",
    "- Always escape user generated content when rendering it in the browser.s\n",
    "- Ensure that you have a valid account (e.g., `alice`, `bob`) with sufficient balance to pay for gas fees.\n",
    "- Always verify that you're interacting with the right script address.\n",
    "- Make sure to provide sufficient gas for script updates (as seen in the example, we used `--gas 500000`).\n",
    "\n",
    "## Conclusion\n",
    "\n",
    "This example demonstrates how to:\n",
    "1. Update on-chain Python code.\n",
    "2. Execute a function that stores data on the Dyson Protocol.\n",
    "3. Retrieve data via a WSGI endpoint.\n",
    "\n",
    "Feel free to adapt the `save_message` function or the WSGI application for more advanced use cases, such as multi-key storage or complex business logic.\n",
    "\n",
    "## More Documentation\n",
    "\n",
    "For more detailed information about specific modules, please refer to the following documentation:\n",
    "\n",
    "- [Script Module](docs/SCRIPT.md): Comprehensive guide to the Script module for on-chain Python execution\n",
    "- [Storage Module](docs/STORAGE.md): Detailed documentation on the Storage module for on-chain data persistence\n",
    "- [Crontask Module](docs/CRONTASK.md): Complete guide to the Crontask module for scheduled transaction execution\n",
    "- [Nameservice Module](docs/NAMESERVICE.md): Guide to the Nameservice module for registering names and creating NFTs\n"
   ]
  }
 ],
 "metadata": {
  "kernelspec": {
   "display_name": "Python 3",
   "language": "python",
   "name": "python3"
  },
  "language_info": {
   "codemirror_mode": {
    "name": "ipython",
    "version": 3
   },
   "file_extension": ".py",
   "mimetype": "text/x-python",
   "name": "python",
   "nbconvert_exporter": "python",
   "pygments_lexer": "ipython3",
   "version": "3.13.0"
  }
 },
 "nbformat": 4,
 "nbformat_minor": 4
}
